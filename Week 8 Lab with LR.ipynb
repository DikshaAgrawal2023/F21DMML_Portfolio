{
 "cells": [
  {
   "cell_type": "code",
   "execution_count": 14,
   "id": "fece3e81",
   "metadata": {},
   "outputs": [],
   "source": [
    "# Python ≥3.5 is required\n",
    "import sys\n",
    "assert sys.version_info >= (3, 5)\n",
    "\n",
    "# Scikit-Learn ≥0.20 is \n",
    "import sklearn\n",
    "assert sklearn.__version__ >= \"0.20\"\n",
    "\n",
    "# Common imports\n",
    "import numpy as np\n",
    "import os\n",
    "\n",
    "# to make this notebook's output stable across runs\n",
    "np.random.seed(42)\n",
    "\n",
    "# To plot pretty figures\n",
    "%matplotlib inline\n",
    "import matplotlib as mpl\n",
    "import matplotlib.pyplot as plt\n",
    "mpl.rc('axes', labelsize=14)\n",
    "mpl.rc('xtick', labelsize=12)\n",
    "mpl.rc('ytick', labelsize=12)"
   ]
  },
  {
   "cell_type": "code",
   "execution_count": 15,
   "id": "eab83adb",
   "metadata": {},
   "outputs": [],
   "source": [
    "from sklearn.tree import DecisionTreeClassifier,plot_tree"
   ]
  },
  {
   "cell_type": "code",
   "execution_count": 16,
   "id": "dc4696f8",
   "metadata": {},
   "outputs": [],
   "source": [
    "X = np.load('smiley_X.npy')"
   ]
  },
  {
   "cell_type": "code",
   "execution_count": 17,
   "id": "d610d0b0",
   "metadata": {},
   "outputs": [
    {
     "data": {
      "text/plain": [
       "array([[[[0.],\n",
       "         [0.],\n",
       "         [0.],\n",
       "         ...,\n",
       "         [0.],\n",
       "         [0.],\n",
       "         [0.]],\n",
       "\n",
       "        [[0.],\n",
       "         [0.],\n",
       "         [0.],\n",
       "         ...,\n",
       "         [0.],\n",
       "         [0.],\n",
       "         [0.]],\n",
       "\n",
       "        [[0.],\n",
       "         [0.],\n",
       "         [1.],\n",
       "         ...,\n",
       "         [1.],\n",
       "         [0.],\n",
       "         [0.]],\n",
       "\n",
       "        ...,\n",
       "\n",
       "        [[0.],\n",
       "         [0.],\n",
       "         [0.],\n",
       "         ...,\n",
       "         [0.],\n",
       "         [0.],\n",
       "         [0.]],\n",
       "\n",
       "        [[0.],\n",
       "         [0.],\n",
       "         [0.],\n",
       "         ...,\n",
       "         [0.],\n",
       "         [0.],\n",
       "         [0.]],\n",
       "\n",
       "        [[0.],\n",
       "         [0.],\n",
       "         [0.],\n",
       "         ...,\n",
       "         [0.],\n",
       "         [0.],\n",
       "         [0.]]],\n",
       "\n",
       "\n",
       "       [[[0.],\n",
       "         [0.],\n",
       "         [0.],\n",
       "         ...,\n",
       "         [0.],\n",
       "         [0.],\n",
       "         [0.]],\n",
       "\n",
       "        [[0.],\n",
       "         [0.],\n",
       "         [0.],\n",
       "         ...,\n",
       "         [0.],\n",
       "         [0.],\n",
       "         [0.]],\n",
       "\n",
       "        [[0.],\n",
       "         [0.],\n",
       "         [1.],\n",
       "         ...,\n",
       "         [1.],\n",
       "         [0.],\n",
       "         [0.]],\n",
       "\n",
       "        ...,\n",
       "\n",
       "        [[0.],\n",
       "         [0.],\n",
       "         [1.],\n",
       "         ...,\n",
       "         [1.],\n",
       "         [0.],\n",
       "         [0.]],\n",
       "\n",
       "        [[0.],\n",
       "         [0.],\n",
       "         [0.],\n",
       "         ...,\n",
       "         [0.],\n",
       "         [0.],\n",
       "         [0.]],\n",
       "\n",
       "        [[0.],\n",
       "         [0.],\n",
       "         [0.],\n",
       "         ...,\n",
       "         [0.],\n",
       "         [0.],\n",
       "         [0.]]],\n",
       "\n",
       "\n",
       "       [[[0.],\n",
       "         [0.],\n",
       "         [0.],\n",
       "         ...,\n",
       "         [0.],\n",
       "         [0.],\n",
       "         [0.]],\n",
       "\n",
       "        [[0.],\n",
       "         [0.],\n",
       "         [0.],\n",
       "         ...,\n",
       "         [0.],\n",
       "         [0.],\n",
       "         [0.]],\n",
       "\n",
       "        [[0.],\n",
       "         [0.],\n",
       "         [1.],\n",
       "         ...,\n",
       "         [1.],\n",
       "         [0.],\n",
       "         [0.]],\n",
       "\n",
       "        ...,\n",
       "\n",
       "        [[0.],\n",
       "         [0.],\n",
       "         [0.],\n",
       "         ...,\n",
       "         [0.],\n",
       "         [0.],\n",
       "         [0.]],\n",
       "\n",
       "        [[0.],\n",
       "         [0.],\n",
       "         [0.],\n",
       "         ...,\n",
       "         [0.],\n",
       "         [0.],\n",
       "         [0.]],\n",
       "\n",
       "        [[0.],\n",
       "         [0.],\n",
       "         [0.],\n",
       "         ...,\n",
       "         [0.],\n",
       "         [0.],\n",
       "         [0.]]],\n",
       "\n",
       "\n",
       "       ...,\n",
       "\n",
       "\n",
       "       [[[0.],\n",
       "         [0.],\n",
       "         [0.],\n",
       "         ...,\n",
       "         [0.],\n",
       "         [0.],\n",
       "         [1.]],\n",
       "\n",
       "        [[0.],\n",
       "         [0.],\n",
       "         [0.],\n",
       "         ...,\n",
       "         [0.],\n",
       "         [0.],\n",
       "         [0.]],\n",
       "\n",
       "        [[0.],\n",
       "         [0.],\n",
       "         [1.],\n",
       "         ...,\n",
       "         [0.],\n",
       "         [1.],\n",
       "         [0.]],\n",
       "\n",
       "        ...,\n",
       "\n",
       "        [[0.],\n",
       "         [0.],\n",
       "         [1.],\n",
       "         ...,\n",
       "         [1.],\n",
       "         [0.],\n",
       "         [0.]],\n",
       "\n",
       "        [[0.],\n",
       "         [1.],\n",
       "         [0.],\n",
       "         ...,\n",
       "         [0.],\n",
       "         [1.],\n",
       "         [0.]],\n",
       "\n",
       "        [[0.],\n",
       "         [0.],\n",
       "         [0.],\n",
       "         ...,\n",
       "         [0.],\n",
       "         [0.],\n",
       "         [0.]]],\n",
       "\n",
       "\n",
       "       [[[0.],\n",
       "         [0.],\n",
       "         [0.],\n",
       "         ...,\n",
       "         [0.],\n",
       "         [0.],\n",
       "         [1.]],\n",
       "\n",
       "        [[0.],\n",
       "         [0.],\n",
       "         [0.],\n",
       "         ...,\n",
       "         [0.],\n",
       "         [0.],\n",
       "         [0.]],\n",
       "\n",
       "        [[0.],\n",
       "         [0.],\n",
       "         [1.],\n",
       "         ...,\n",
       "         [0.],\n",
       "         [1.],\n",
       "         [0.]],\n",
       "\n",
       "        ...,\n",
       "\n",
       "        [[0.],\n",
       "         [0.],\n",
       "         [0.],\n",
       "         ...,\n",
       "         [0.],\n",
       "         [0.],\n",
       "         [0.]],\n",
       "\n",
       "        [[0.],\n",
       "         [0.],\n",
       "         [0.],\n",
       "         ...,\n",
       "         [0.],\n",
       "         [0.],\n",
       "         [0.]],\n",
       "\n",
       "        [[0.],\n",
       "         [0.],\n",
       "         [0.],\n",
       "         ...,\n",
       "         [0.],\n",
       "         [0.],\n",
       "         [0.]]],\n",
       "\n",
       "\n",
       "       [[[0.],\n",
       "         [0.],\n",
       "         [0.],\n",
       "         ...,\n",
       "         [0.],\n",
       "         [0.],\n",
       "         [1.]],\n",
       "\n",
       "        [[0.],\n",
       "         [0.],\n",
       "         [0.],\n",
       "         ...,\n",
       "         [0.],\n",
       "         [0.],\n",
       "         [0.]],\n",
       "\n",
       "        [[0.],\n",
       "         [0.],\n",
       "         [1.],\n",
       "         ...,\n",
       "         [0.],\n",
       "         [1.],\n",
       "         [0.]],\n",
       "\n",
       "        ...,\n",
       "\n",
       "        [[0.],\n",
       "         [0.],\n",
       "         [1.],\n",
       "         ...,\n",
       "         [1.],\n",
       "         [0.],\n",
       "         [0.]],\n",
       "\n",
       "        [[0.],\n",
       "         [0.],\n",
       "         [0.],\n",
       "         ...,\n",
       "         [0.],\n",
       "         [0.],\n",
       "         [0.]],\n",
       "\n",
       "        [[0.],\n",
       "         [0.],\n",
       "         [0.],\n",
       "         ...,\n",
       "         [0.],\n",
       "         [0.],\n",
       "         [0.]]]])"
      ]
     },
     "execution_count": 17,
     "metadata": {},
     "output_type": "execute_result"
    }
   ],
   "source": [
    "X"
   ]
  },
  {
   "cell_type": "code",
   "execution_count": 18,
   "id": "61d03ca0",
   "metadata": {},
   "outputs": [],
   "source": [
    "y = np.load('smiley_y.npy')"
   ]
  },
  {
   "cell_type": "code",
   "execution_count": 19,
   "id": "06a02196",
   "metadata": {},
   "outputs": [
    {
     "data": {
      "text/plain": [
       "array([0., 0., 0., 0., 0., 0., 1., 1., 1., 1., 1., 1., 0., 0., 0., 0., 0.,\n",
       "       0., 1., 1., 1., 1., 1., 1., 0., 0., 0., 0., 0., 0., 1., 1., 1., 1.,\n",
       "       1., 1., 0., 0., 0., 0., 0., 0., 1., 1., 1., 1., 1., 1., 0., 0., 0.,\n",
       "       0., 0., 0., 1., 1., 1., 1., 1., 1., 0., 0., 0., 0., 0., 0., 1., 1.,\n",
       "       1., 1., 1., 1., 0., 0., 0., 0., 0., 0., 1., 1., 1., 1., 1., 1., 0.,\n",
       "       0., 0., 0., 0., 0., 1., 1., 1., 1., 1., 1., 0., 0., 0., 0., 0., 0.,\n",
       "       1., 1., 1., 1., 1., 1., 0., 0., 0., 0., 0., 0., 1., 1., 1., 1., 1.,\n",
       "       1., 0., 0., 0., 0., 0., 0., 1., 1., 1., 1., 1., 1., 0., 0., 0., 0.,\n",
       "       0., 0., 1., 1., 1., 1., 1., 1.])"
      ]
     },
     "execution_count": 19,
     "metadata": {},
     "output_type": "execute_result"
    }
   ],
   "source": [
    "y"
   ]
  },
  {
   "cell_type": "code",
   "execution_count": 20,
   "id": "1ab81c49",
   "metadata": {},
   "outputs": [],
   "source": [
    "tree_clf = DecisionTreeClassifier(max_depth=2, random_state=42)"
   ]
  },
  {
   "cell_type": "code",
   "execution_count": 21,
   "id": "ab3db629",
   "metadata": {},
   "outputs": [],
   "source": [
    "X = X.reshape(144,81)"
   ]
  },
  {
   "cell_type": "code",
   "execution_count": 22,
   "id": "76342a98",
   "metadata": {},
   "outputs": [
    {
     "data": {
      "text/plain": [
       "DecisionTreeClassifier(max_depth=2, random_state=42)"
      ]
     },
     "execution_count": 22,
     "metadata": {},
     "output_type": "execute_result"
    }
   ],
   "source": [
    "tree_clf.fit(X, y)"
   ]
  },
  {
   "cell_type": "code",
   "execution_count": 23,
   "id": "e28d742a",
   "metadata": {},
   "outputs": [
    {
     "data": {
      "image/png": "[encoded data removed]",
      "text/plain": [
       "<Figure size 432x288 with 1 Axes>"
      ]
     },
     "metadata": {
      "needs_background": "light"
     },
     "output_type": "display_data"
    }
   ],
   "source": [
    "plot_tree(tree_clf);"
   ]
  },
  {
   "cell_type": "code",
   "execution_count": 24,
   "id": "33ff50e2",
   "metadata": {},
   "outputs": [
    {
     "data": {
      "image/png": "[encoded data removed]",
      "text/plain": [
       "<Figure size 432x288 with 1 Axes>"
      ]
     },
     "metadata": {
      "needs_background": "light"
     },
     "output_type": "display_data"
    }
   ],
   "source": [
    "tree_clfd3 = DecisionTreeClassifier(max_depth=3, random_state=42)\n",
    "tree_clfd3.fit(X, y)\n",
    "plot_tree(tree_clfd3);"
   ]
  },
  {
   "cell_type": "code",
   "execution_count": 25,
   "id": "ef4257fc",
   "metadata": {},
   "outputs": [],
   "source": [
    "%matplotlib inline\n",
    "import matplotlib as mpl\n",
    "import matplotlib.pyplot as plt\n",
    "mpl.rc('axes', labelsize=14)\n",
    "mpl.rc('xtick', labelsize=12)\n",
    "mpl.rc('ytick', labelsize=12)"
   ]
  },
  {
   "cell_type": "code",
   "execution_count": 26,
   "id": "c3aa99d3",
   "metadata": {},
   "outputs": [
    {
     "ename": "ValueError",
     "evalue": "X has 2 features, but DecisionTreeClassifier is expecting 81 features as input.",
     "output_type": "error",
     "traceback": [
      "\u001b[0;31m---------------------------------------------------------------------------\u001b[0m",
      "\u001b[0;31mValueError\u001b[0m                                Traceback (most recent call last)",
      "Input \u001b[0;32mIn [26]\u001b[0m, in \u001b[0;36m<cell line: 29>\u001b[0;34m()\u001b[0m\n\u001b[1;32m     26\u001b[0m         plt\u001b[38;5;241m.\u001b[39mlegend(loc\u001b[38;5;241m=\u001b[39m\u001b[38;5;124m\"\u001b[39m\u001b[38;5;124mlower right\u001b[39m\u001b[38;5;124m\"\u001b[39m, fontsize\u001b[38;5;241m=\u001b[39m\u001b[38;5;241m14\u001b[39m)\n\u001b[1;32m     28\u001b[0m plt\u001b[38;5;241m.\u001b[39mfigure(figsize\u001b[38;5;241m=\u001b[39m(\u001b[38;5;241m8\u001b[39m, \u001b[38;5;241m4\u001b[39m))\n\u001b[0;32m---> 29\u001b[0m \u001b[43mplot_decision_boundary\u001b[49m\u001b[43m(\u001b[49m\u001b[43mtree_clf\u001b[49m\u001b[43m,\u001b[49m\u001b[43m \u001b[49m\u001b[43mX\u001b[49m\u001b[43m,\u001b[49m\u001b[43m \u001b[49m\u001b[43my\u001b[49m\u001b[43m)\u001b[49m\n\u001b[1;32m     30\u001b[0m plt\u001b[38;5;241m.\u001b[39mplot([\u001b[38;5;241m2.45\u001b[39m, \u001b[38;5;241m2.45\u001b[39m], [\u001b[38;5;241m0\u001b[39m, \u001b[38;5;241m3\u001b[39m], \u001b[38;5;124m\"\u001b[39m\u001b[38;5;124mk-\u001b[39m\u001b[38;5;124m\"\u001b[39m, linewidth\u001b[38;5;241m=\u001b[39m\u001b[38;5;241m2\u001b[39m)\n\u001b[1;32m     31\u001b[0m plt\u001b[38;5;241m.\u001b[39mplot([\u001b[38;5;241m2.45\u001b[39m, \u001b[38;5;241m7.5\u001b[39m], [\u001b[38;5;241m1.75\u001b[39m, \u001b[38;5;241m1.75\u001b[39m], \u001b[38;5;124m\"\u001b[39m\u001b[38;5;124mk--\u001b[39m\u001b[38;5;124m\"\u001b[39m, linewidth\u001b[38;5;241m=\u001b[39m\u001b[38;5;241m2\u001b[39m)\n",
      "Input \u001b[0;32mIn [26]\u001b[0m, in \u001b[0;36mplot_decision_boundary\u001b[0;34m(clf, X, y, axes, iris, legend, plot_training)\u001b[0m\n\u001b[1;32m      6\u001b[0m x1, x2 \u001b[38;5;241m=\u001b[39m np\u001b[38;5;241m.\u001b[39mmeshgrid(x1s, x2s)\n\u001b[1;32m      7\u001b[0m X_new \u001b[38;5;241m=\u001b[39m np\u001b[38;5;241m.\u001b[39mc_[x1\u001b[38;5;241m.\u001b[39mravel(), x2\u001b[38;5;241m.\u001b[39mravel()]\n\u001b[0;32m----> 8\u001b[0m y_pred \u001b[38;5;241m=\u001b[39m \u001b[43mclf\u001b[49m\u001b[38;5;241;43m.\u001b[39;49m\u001b[43mpredict\u001b[49m\u001b[43m(\u001b[49m\u001b[43mX_new\u001b[49m\u001b[43m)\u001b[49m\u001b[38;5;241m.\u001b[39mreshape(x1\u001b[38;5;241m.\u001b[39mshape)\n\u001b[1;32m      9\u001b[0m custom_cmap \u001b[38;5;241m=\u001b[39m ListedColormap([\u001b[38;5;124m'\u001b[39m\u001b[38;5;124m#fafab0\u001b[39m\u001b[38;5;124m'\u001b[39m,\u001b[38;5;124m'\u001b[39m\u001b[38;5;124m#9898ff\u001b[39m\u001b[38;5;124m'\u001b[39m,\u001b[38;5;124m'\u001b[39m\u001b[38;5;124m#a0faa0\u001b[39m\u001b[38;5;124m'\u001b[39m])\n\u001b[1;32m     10\u001b[0m plt\u001b[38;5;241m.\u001b[39mcontourf(x1, x2, y_pred, alpha\u001b[38;5;241m=\u001b[39m\u001b[38;5;241m0.3\u001b[39m, cmap\u001b[38;5;241m=\u001b[39mcustom_cmap)\n",
      "File \u001b[0;32m~/opt/anaconda3/lib/python3.9/site-packages/sklearn/tree/_classes.py:467\u001b[0m, in \u001b[0;36mBaseDecisionTree.predict\u001b[0;34m(self, X, check_input)\u001b[0m\n\u001b[1;32m    444\u001b[0m \u001b[38;5;124;03m\"\"\"Predict class or regression value for X.\u001b[39;00m\n\u001b[1;32m    445\u001b[0m \n\u001b[1;32m    446\u001b[0m \u001b[38;5;124;03mFor a classification model, the predicted class for each sample in X is\u001b[39;00m\n\u001b[0;32m   (...)\u001b[0m\n\u001b[1;32m    464\u001b[0m \u001b[38;5;124;03m    The predicted classes, or the predict values.\u001b[39;00m\n\u001b[1;32m    465\u001b[0m \u001b[38;5;124;03m\"\"\"\u001b[39;00m\n\u001b[1;32m    466\u001b[0m check_is_fitted(\u001b[38;5;28mself\u001b[39m)\n\u001b[0;32m--> 467\u001b[0m X \u001b[38;5;241m=\u001b[39m \u001b[38;5;28;43mself\u001b[39;49m\u001b[38;5;241;43m.\u001b[39;49m\u001b[43m_validate_X_predict\u001b[49m\u001b[43m(\u001b[49m\u001b[43mX\u001b[49m\u001b[43m,\u001b[49m\u001b[43m \u001b[49m\u001b[43mcheck_input\u001b[49m\u001b[43m)\u001b[49m\n\u001b[1;32m    468\u001b[0m proba \u001b[38;5;241m=\u001b[39m \u001b[38;5;28mself\u001b[39m\u001b[38;5;241m.\u001b[39mtree_\u001b[38;5;241m.\u001b[39mpredict(X)\n\u001b[1;32m    469\u001b[0m n_samples \u001b[38;5;241m=\u001b[39m X\u001b[38;5;241m.\u001b[39mshape[\u001b[38;5;241m0\u001b[39m]\n",
      "File \u001b[0;32m~/opt/anaconda3/lib/python3.9/site-packages/sklearn/tree/_classes.py:433\u001b[0m, in \u001b[0;36mBaseDecisionTree._validate_X_predict\u001b[0;34m(self, X, check_input)\u001b[0m\n\u001b[1;32m    431\u001b[0m \u001b[38;5;124;03m\"\"\"Validate the training data on predict (probabilities).\"\"\"\u001b[39;00m\n\u001b[1;32m    432\u001b[0m \u001b[38;5;28;01mif\u001b[39;00m check_input:\n\u001b[0;32m--> 433\u001b[0m     X \u001b[38;5;241m=\u001b[39m \u001b[38;5;28;43mself\u001b[39;49m\u001b[38;5;241;43m.\u001b[39;49m\u001b[43m_validate_data\u001b[49m\u001b[43m(\u001b[49m\u001b[43mX\u001b[49m\u001b[43m,\u001b[49m\u001b[43m \u001b[49m\u001b[43mdtype\u001b[49m\u001b[38;5;241;43m=\u001b[39;49m\u001b[43mDTYPE\u001b[49m\u001b[43m,\u001b[49m\u001b[43m \u001b[49m\u001b[43maccept_sparse\u001b[49m\u001b[38;5;241;43m=\u001b[39;49m\u001b[38;5;124;43m\"\u001b[39;49m\u001b[38;5;124;43mcsr\u001b[39;49m\u001b[38;5;124;43m\"\u001b[39;49m\u001b[43m,\u001b[49m\u001b[43m \u001b[49m\u001b[43mreset\u001b[49m\u001b[38;5;241;43m=\u001b[39;49m\u001b[38;5;28;43;01mFalse\u001b[39;49;00m\u001b[43m)\u001b[49m\n\u001b[1;32m    434\u001b[0m     \u001b[38;5;28;01mif\u001b[39;00m issparse(X) \u001b[38;5;129;01mand\u001b[39;00m (\n\u001b[1;32m    435\u001b[0m         X\u001b[38;5;241m.\u001b[39mindices\u001b[38;5;241m.\u001b[39mdtype \u001b[38;5;241m!=\u001b[39m np\u001b[38;5;241m.\u001b[39mintc \u001b[38;5;129;01mor\u001b[39;00m X\u001b[38;5;241m.\u001b[39mindptr\u001b[38;5;241m.\u001b[39mdtype \u001b[38;5;241m!=\u001b[39m np\u001b[38;5;241m.\u001b[39mintc\n\u001b[1;32m    436\u001b[0m     ):\n\u001b[1;32m    437\u001b[0m         \u001b[38;5;28;01mraise\u001b[39;00m \u001b[38;5;167;01mValueError\u001b[39;00m(\u001b[38;5;124m\"\u001b[39m\u001b[38;5;124mNo support for np.int64 index based sparse matrices\u001b[39m\u001b[38;5;124m\"\u001b[39m)\n",
      "File \u001b[0;32m~/opt/anaconda3/lib/python3.9/site-packages/sklearn/base.py:585\u001b[0m, in \u001b[0;36mBaseEstimator._validate_data\u001b[0;34m(self, X, y, reset, validate_separately, **check_params)\u001b[0m\n\u001b[1;32m    582\u001b[0m     out \u001b[38;5;241m=\u001b[39m X, y\n\u001b[1;32m    584\u001b[0m \u001b[38;5;28;01mif\u001b[39;00m \u001b[38;5;129;01mnot\u001b[39;00m no_val_X \u001b[38;5;129;01mand\u001b[39;00m check_params\u001b[38;5;241m.\u001b[39mget(\u001b[38;5;124m\"\u001b[39m\u001b[38;5;124mensure_2d\u001b[39m\u001b[38;5;124m\"\u001b[39m, \u001b[38;5;28;01mTrue\u001b[39;00m):\n\u001b[0;32m--> 585\u001b[0m     \u001b[38;5;28;43mself\u001b[39;49m\u001b[38;5;241;43m.\u001b[39;49m\u001b[43m_check_n_features\u001b[49m\u001b[43m(\u001b[49m\u001b[43mX\u001b[49m\u001b[43m,\u001b[49m\u001b[43m \u001b[49m\u001b[43mreset\u001b[49m\u001b[38;5;241;43m=\u001b[39;49m\u001b[43mreset\u001b[49m\u001b[43m)\u001b[49m\n\u001b[1;32m    587\u001b[0m \u001b[38;5;28;01mreturn\u001b[39;00m out\n",
      "File \u001b[0;32m~/opt/anaconda3/lib/python3.9/site-packages/sklearn/base.py:400\u001b[0m, in \u001b[0;36mBaseEstimator._check_n_features\u001b[0;34m(self, X, reset)\u001b[0m\n\u001b[1;32m    397\u001b[0m     \u001b[38;5;28;01mreturn\u001b[39;00m\n\u001b[1;32m    399\u001b[0m \u001b[38;5;28;01mif\u001b[39;00m n_features \u001b[38;5;241m!=\u001b[39m \u001b[38;5;28mself\u001b[39m\u001b[38;5;241m.\u001b[39mn_features_in_:\n\u001b[0;32m--> 400\u001b[0m     \u001b[38;5;28;01mraise\u001b[39;00m \u001b[38;5;167;01mValueError\u001b[39;00m(\n\u001b[1;32m    401\u001b[0m         \u001b[38;5;124mf\u001b[39m\u001b[38;5;124m\"\u001b[39m\u001b[38;5;124mX has \u001b[39m\u001b[38;5;132;01m{\u001b[39;00mn_features\u001b[38;5;132;01m}\u001b[39;00m\u001b[38;5;124m features, but \u001b[39m\u001b[38;5;132;01m{\u001b[39;00m\u001b[38;5;28mself\u001b[39m\u001b[38;5;241m.\u001b[39m\u001b[38;5;18m__class__\u001b[39m\u001b[38;5;241m.\u001b[39m\u001b[38;5;18m__name__\u001b[39m\u001b[38;5;132;01m}\u001b[39;00m\u001b[38;5;124m \u001b[39m\u001b[38;5;124m\"\u001b[39m\n\u001b[1;32m    402\u001b[0m         \u001b[38;5;124mf\u001b[39m\u001b[38;5;124m\"\u001b[39m\u001b[38;5;124mis expecting \u001b[39m\u001b[38;5;132;01m{\u001b[39;00m\u001b[38;5;28mself\u001b[39m\u001b[38;5;241m.\u001b[39mn_features_in_\u001b[38;5;132;01m}\u001b[39;00m\u001b[38;5;124m features as input.\u001b[39m\u001b[38;5;124m\"\u001b[39m\n\u001b[1;32m    403\u001b[0m     )\n",
      "\u001b[0;31mValueError\u001b[0m: X has 2 features, but DecisionTreeClassifier is expecting 81 features as input."
     ]
    },
    {
     "data": {
      "text/plain": [
       "<Figure size 576x288 with 0 Axes>"
      ]
     },
     "metadata": {},
     "output_type": "display_data"
    }
   ],
   "source": [
    "from matplotlib.colors import ListedColormap\n",
    "\n",
    "def plot_decision_boundary(clf, X, y, axes=[0, 7.5, 0, 3], iris=True, legend=False, plot_training=True):\n",
    "    x1s = np.linspace(axes[0], axes[1], 100)\n",
    "    x2s = np.linspace(axes[2], axes[3], 100)\n",
    "    x1, x2 = np.meshgrid(x1s, x2s)\n",
    "    X_new = np.c_[x1.ravel(), x2.ravel()]\n",
    "    y_pred = clf.predict(X_new).reshape(x1.shape)\n",
    "    custom_cmap = ListedColormap(['#fafab0','#9898ff','#a0faa0'])\n",
    "    plt.contourf(x1, x2, y_pred, alpha=0.3, cmap=custom_cmap)\n",
    "    if not iris:\n",
    "        custom_cmap2 = ListedColormap(['#7d7d58','#4c4c7f','#507d50'])\n",
    "        plt.contour(x1, x2, y_pred, cmap=custom_cmap2, alpha=0.8)\n",
    "    if plot_training:\n",
    "        plt.plot(X[:, 0][y==0], X[:, 1][y==0], \"yo\", label=\"Iris setosa\")\n",
    "        plt.plot(X[:, 0][y==1], X[:, 1][y==1], \"bs\", label=\"Iris versicolor\")\n",
    "        plt.plot(X[:, 0][y==2], X[:, 1][y==2], \"g^\", label=\"Iris virginica\")\n",
    "        plt.axis(axes)\n",
    "    if iris:\n",
    "        plt.xlabel(\"Petal length\", fontsize=14)\n",
    "        plt.ylabel(\"Petal width\", fontsize=14)\n",
    "    else:\n",
    "        plt.xlabel(r\"$x_1$\", fontsize=18)\n",
    "        plt.ylabel(r\"$x_2$\", fontsize=18, rotation=0)\n",
    "    if legend:\n",
    "        plt.legend(loc=\"lower right\", fontsize=14)\n",
    "\n",
    "plt.figure(figsize=(8, 4))\n",
    "plot_decision_boundary(tree_clf, X, y)\n",
    "plt.plot([2.45, 2.45], [0, 3], \"k-\", linewidth=2)\n",
    "plt.plot([2.45, 7.5], [1.75, 1.75], \"k--\", linewidth=2)\n",
    "plt.plot([4.95, 4.95], [0, 1.75], \"k:\", linewidth=2)\n",
    "plt.plot([4.85, 4.85], [1.75, 3], \"k:\", linewidth=2)\n",
    "plt.text(1.40, 1.0, \"Depth=0\", fontsize=15)\n",
    "plt.text(3.2, 1.80, \"Depth=1\", fontsize=13)\n",
    "plt.text(4.05, 0.5, \"(Depth=2)\", fontsize=11)\n",
    "\n",
    "plt.show()"
   ]
  },
  {
   "cell_type": "code",
   "execution_count": 57,
   "id": "bc4a605c",
   "metadata": {},
   "outputs": [
    {
     "name": "stdout",
     "output_type": "stream",
     "text": [
      "done\n"
     ]
    }
   ],
   "source": [
    "from sklearn.model_selection import train_test_split\n",
    "X_train, X_test, Y_train, Y_test = train_test_split(X,y, test_size=0.2, random_state=2021)\n",
    "print('done')"
   ]
  },
  {
   "cell_type": "code",
   "execution_count": 28,
   "id": "bfbae87d",
   "metadata": {},
   "outputs": [
    {
     "data": {
      "text/plain": [
       "array([[1., 0., 0., ..., 0., 0., 0.],\n",
       "       [0., 0., 0., ..., 0., 0., 0.],\n",
       "       [0., 0., 0., ..., 0., 0., 0.],\n",
       "       ...,\n",
       "       [1., 0., 0., ..., 0., 0., 0.],\n",
       "       [1., 0., 0., ..., 0., 0., 0.],\n",
       "       [0., 0., 0., ..., 0., 0., 0.]])"
      ]
     },
     "execution_count": 28,
     "metadata": {},
     "output_type": "execute_result"
    }
   ],
   "source": [
    "X_train"
   ]
  },
  {
   "cell_type": "code",
   "execution_count": 29,
   "id": "f1b940d1",
   "metadata": {},
   "outputs": [
    {
     "name": "stdout",
     "output_type": "stream",
     "text": [
      "(115, 81)\n",
      "(115,)\n",
      "(29, 81)\n",
      "(29,)\n"
     ]
    }
   ],
   "source": [
    "print(np.shape(X_train))\n",
    "print(np.shape(Y_train))\n",
    "print(np.shape(X_test))\n",
    "print(np.shape(Y_test))"
   ]
  },
  {
   "cell_type": "code",
   "execution_count": 30,
   "id": "35126545",
   "metadata": {},
   "outputs": [],
   "source": [
    "from xgboost import XGBRegressor\n",
    "xgb_model = XGBRegressor(random_state=2021)"
   ]
  },
  {
   "cell_type": "code",
   "execution_count": 31,
   "id": "75d75fcf",
   "metadata": {},
   "outputs": [],
   "source": [
    "search_space = {\n",
    "    \"n_estimators\": [100,200],\n",
    "    \"max_depth\": [2,3],\n",
    "    \"gamma\": [0.01,0.1],\n",
    "    \"learning_rate\": [0.001, 0.01, 0.1, 1]\n",
    "}"
   ]
  },
  {
   "cell_type": "code",
   "execution_count": 32,
   "id": "b4cdcb00",
   "metadata": {},
   "outputs": [],
   "source": [
    "from sklearn.model_selection import GridSearchCV"
   ]
  },
  {
   "cell_type": "code",
   "execution_count": 33,
   "id": "6611a116",
   "metadata": {},
   "outputs": [],
   "source": [
    "GS = GridSearchCV(estimator = xgb_model,\n",
    "                 param_grid = search_space,\n",
    "                 scoring = [\"r2\", \"neg_root_mean_squared_error\"],\n",
    "                 refit = \"r2\",\n",
    "                 cv=5,\n",
    "                 verbose=4)"
   ]
  },
  {
   "cell_type": "code",
   "execution_count": 34,
   "id": "22200150",
   "metadata": {},
   "outputs": [],
   "source": [
    "X_train, X_test, Y_train, Y_test = train_test_split(X,y, test_size=0.2, random_state=2021)"
   ]
  },
  {
   "cell_type": "code",
   "execution_count": 35,
   "id": "8d6f5066",
   "metadata": {},
   "outputs": [
    {
     "name": "stdout",
     "output_type": "stream",
     "text": [
      "Fitting 5 folds for each of 32 candidates, totalling 160 fits\n",
      "[CV 1/5] END gamma=0.01, learning_rate=0.001, max_depth=2, n_estimators=100; neg_root_mean_squared_error: (test=-0.469) r2: (test=0.106) total time=   0.1s\n",
      "[CV 2/5] END gamma=0.01, learning_rate=0.001, max_depth=2, n_estimators=100; neg_root_mean_squared_error: (test=-0.465) r2: (test=0.092) total time=   0.0s\n",
      "[CV 3/5] END gamma=0.01, learning_rate=0.001, max_depth=2, n_estimators=100; neg_root_mean_squared_error: (test=-0.462) r2: (test=0.130) total time=   0.0s\n",
      "[CV 4/5] END gamma=0.01, learning_rate=0.001, max_depth=2, n_estimators=100; neg_root_mean_squared_error: (test=-0.473) r2: (test=0.014) total time=   0.0s\n",
      "[CV 5/5] END gamma=0.01, learning_rate=0.001, max_depth=2, n_estimators=100; neg_root_mean_squared_error: (test=-0.472) r2: (test=0.093) total time=   0.0s\n",
      "[CV 1/5] END gamma=0.01, learning_rate=0.001, max_depth=2, n_estimators=200; neg_root_mean_squared_error: (test=-0.441) r2: (test=0.208) total time=   0.0s\n",
      "[CV 2/5] END gamma=0.01, learning_rate=0.001, max_depth=2, n_estimators=200; neg_root_mean_squared_error: (test=-0.434) r2: (test=0.210) total time=   0.0s\n",
      "[CV 3/5] END gamma=0.01, learning_rate=0.001, max_depth=2, n_estimators=200; neg_root_mean_squared_error: (test=-0.429) r2: (test=0.252) total time=   0.0s\n",
      "[CV 4/5] END gamma=0.01, learning_rate=0.001, max_depth=2, n_estimators=200; neg_root_mean_squared_error: (test=-0.450) r2: (test=0.107) total time=   0.0s\n",
      "[CV 5/5] END gamma=0.01, learning_rate=0.001, max_depth=2, n_estimators=200; neg_root_mean_squared_error: (test=-0.448) r2: (test=0.183) total time=   0.0s\n",
      "[CV 1/5] END gamma=0.01, learning_rate=0.001, max_depth=3, n_estimators=100; neg_root_mean_squared_error: (test=-0.454) r2: (test=0.160) total time=   0.0s\n",
      "[CV 2/5] END gamma=0.01, learning_rate=0.001, max_depth=3, n_estimators=100; neg_root_mean_squared_error: (test=-0.454) r2: (test=0.134) total time=   0.0s\n",
      "[CV 3/5] END gamma=0.01, learning_rate=0.001, max_depth=3, n_estimators=100; neg_root_mean_squared_error: (test=-0.454) r2: (test=0.162) total time=   0.0s\n",
      "[CV 4/5] END gamma=0.01, learning_rate=0.001, max_depth=3, n_estimators=100; neg_root_mean_squared_error: (test=-0.455) r2: (test=0.088) total time=   0.0s\n",
      "[CV 5/5] END gamma=0.01, learning_rate=0.001, max_depth=3, n_estimators=100; neg_root_mean_squared_error: (test=-0.454) r2: (test=0.160) total time=   0.0s\n",
      "[CV 1/5] END gamma=0.01, learning_rate=0.001, max_depth=3, n_estimators=200; neg_root_mean_squared_error: (test=-0.413) r2: (test=0.306) total time=   0.0s\n",
      "[CV 2/5] END gamma=0.01, learning_rate=0.001, max_depth=3, n_estimators=200; neg_root_mean_squared_error: (test=-0.413) r2: (test=0.285) total time=   0.0s\n",
      "[CV 3/5] END gamma=0.01, learning_rate=0.001, max_depth=3, n_estimators=200; neg_root_mean_squared_error: (test=-0.412) r2: (test=0.309) total time=   0.0s\n",
      "[CV 4/5] END gamma=0.01, learning_rate=0.001, max_depth=3, n_estimators=200; neg_root_mean_squared_error: (test=-0.414) r2: (test=0.244) total time=   0.0s\n",
      "[CV 5/5] END gamma=0.01, learning_rate=0.001, max_depth=3, n_estimators=200; neg_root_mean_squared_error: (test=-0.413) r2: (test=0.306) total time=   0.1s\n",
      "[CV 1/5] END gamma=0.01, learning_rate=0.01, max_depth=2, n_estimators=100; neg_root_mean_squared_error: (test=-0.291) r2: (test=0.655) total time=   0.0s\n",
      "[CV 2/5] END gamma=0.01, learning_rate=0.01, max_depth=2, n_estimators=100; neg_root_mean_squared_error: (test=-0.278) r2: (test=0.675) total time=   0.0s\n",
      "[CV 3/5] END gamma=0.01, learning_rate=0.01, max_depth=2, n_estimators=100; neg_root_mean_squared_error: (test=-0.288) r2: (test=0.663) total time=   0.0s\n",
      "[CV 4/5] END gamma=0.01, learning_rate=0.01, max_depth=2, n_estimators=100; neg_root_mean_squared_error: (test=-0.308) r2: (test=0.582) total time=   0.0s\n",
      "[CV 5/5] END gamma=0.01, learning_rate=0.01, max_depth=2, n_estimators=100; neg_root_mean_squared_error: (test=-0.304) r2: (test=0.623) total time=   0.0s\n",
      "[CV 1/5] END gamma=0.01, learning_rate=0.01, max_depth=2, n_estimators=200; neg_root_mean_squared_error: (test=-0.177) r2: (test=0.872) total time=   0.0s\n",
      "[CV 2/5] END gamma=0.01, learning_rate=0.01, max_depth=2, n_estimators=200; neg_root_mean_squared_error: (test=-0.170) r2: (test=0.878) total time=   0.0s\n",
      "[CV 3/5] END gamma=0.01, learning_rate=0.01, max_depth=2, n_estimators=200; neg_root_mean_squared_error: (test=-0.167) r2: (test=0.887) total time=   0.0s\n",
      "[CV 4/5] END gamma=0.01, learning_rate=0.01, max_depth=2, n_estimators=200; neg_root_mean_squared_error: (test=-0.186) r2: (test=0.847) total time=   0.0s\n",
      "[CV 5/5] END gamma=0.01, learning_rate=0.01, max_depth=2, n_estimators=200; neg_root_mean_squared_error: (test=-0.188) r2: (test=0.856) total time=   0.0s\n",
      "[CV 1/5] END gamma=0.01, learning_rate=0.01, max_depth=3, n_estimators=100; neg_root_mean_squared_error: (test=-0.191) r2: (test=0.851) total time=   0.0s\n",
      "[CV 2/5] END gamma=0.01, learning_rate=0.01, max_depth=3, n_estimators=100; neg_root_mean_squared_error: (test=-0.191) r2: (test=0.848) total time=   0.0s\n",
      "[CV 3/5] END gamma=0.01, learning_rate=0.01, max_depth=3, n_estimators=100; neg_root_mean_squared_error: (test=-0.189) r2: (test=0.854) total time=   0.0s\n",
      "[CV 4/5] END gamma=0.01, learning_rate=0.01, max_depth=3, n_estimators=100; neg_root_mean_squared_error: (test=-0.194) r2: (test=0.834) total time=   0.0s\n",
      "[CV 5/5] END gamma=0.01, learning_rate=0.01, max_depth=3, n_estimators=100; neg_root_mean_squared_error: (test=-0.192) r2: (test=0.850) total time=   0.0s\n",
      "[CV 1/5] END gamma=0.01, learning_rate=0.01, max_depth=3, n_estimators=200; neg_root_mean_squared_error: (test=-0.073) r2: (test=0.978) total time=   0.1s\n",
      "[CV 2/5] END gamma=0.01, learning_rate=0.01, max_depth=3, n_estimators=200; neg_root_mean_squared_error: (test=-0.073) r2: (test=0.978) total time=   0.0s\n",
      "[CV 3/5] END gamma=0.01, learning_rate=0.01, max_depth=3, n_estimators=200; neg_root_mean_squared_error: (test=-0.072) r2: (test=0.979) total time=   0.0s\n",
      "[CV 4/5] END gamma=0.01, learning_rate=0.01, max_depth=3, n_estimators=200; neg_root_mean_squared_error: (test=-0.076) r2: (test=0.975) total time=   0.0s\n",
      "[CV 5/5] END gamma=0.01, learning_rate=0.01, max_depth=3, n_estimators=200; neg_root_mean_squared_error: (test=-0.074) r2: (test=0.978) total time=   0.1s\n",
      "[CV 1/5] END gamma=0.01, learning_rate=0.1, max_depth=2, n_estimators=100; neg_root_mean_squared_error: (test=-0.035) r2: (test=0.995) total time=   0.0s\n",
      "[CV 2/5] END gamma=0.01, learning_rate=0.1, max_depth=2, n_estimators=100; neg_root_mean_squared_error: (test=-0.032) r2: (test=0.996) total time=   0.0s\n",
      "[CV 3/5] END gamma=0.01, learning_rate=0.1, max_depth=2, n_estimators=100; neg_root_mean_squared_error: (test=-0.048) r2: (test=0.991) total time=   0.0s\n",
      "[CV 4/5] END gamma=0.01, learning_rate=0.1, max_depth=2, n_estimators=100; neg_root_mean_squared_error: (test=-0.043) r2: (test=0.992) total time=   0.0s\n",
      "[CV 5/5] END gamma=0.01, learning_rate=0.1, max_depth=2, n_estimators=100; neg_root_mean_squared_error: (test=-0.035) r2: (test=0.995) total time=   0.0s\n",
      "[CV 1/5] END gamma=0.01, learning_rate=0.1, max_depth=2, n_estimators=200; neg_root_mean_squared_error: (test=-0.035) r2: (test=0.995) total time=   0.0s\n",
      "[CV 2/5] END gamma=0.01, learning_rate=0.1, max_depth=2, n_estimators=200; neg_root_mean_squared_error: (test=-0.032) r2: (test=0.996) total time=   0.0s\n",
      "[CV 3/5] END gamma=0.01, learning_rate=0.1, max_depth=2, n_estimators=200; neg_root_mean_squared_error: (test=-0.048) r2: (test=0.991) total time=   0.0s\n",
      "[CV 4/5] END gamma=0.01, learning_rate=0.1, max_depth=2, n_estimators=200; neg_root_mean_squared_error: (test=-0.043) r2: (test=0.992) total time=   0.0s\n",
      "[CV 5/5] END gamma=0.01, learning_rate=0.1, max_depth=2, n_estimators=200; neg_root_mean_squared_error: (test=-0.035) r2: (test=0.995) total time=   0.0s\n",
      "[CV 1/5] END gamma=0.01, learning_rate=0.1, max_depth=3, n_estimators=100; neg_root_mean_squared_error: (test=-0.018) r2: (test=0.999) total time=   0.0s\n",
      "[CV 2/5] END gamma=0.01, learning_rate=0.1, max_depth=3, n_estimators=100; neg_root_mean_squared_error: (test=-0.018) r2: (test=0.999) total time=   0.0s\n",
      "[CV 3/5] END gamma=0.01, learning_rate=0.1, max_depth=3, n_estimators=100; neg_root_mean_squared_error: (test=-0.016) r2: (test=0.999) total time=   0.0s\n",
      "[CV 4/5] END gamma=0.01, learning_rate=0.1, max_depth=3, n_estimators=100; neg_root_mean_squared_error: (test=-0.018) r2: (test=0.999) total time=   0.0s\n",
      "[CV 5/5] END gamma=0.01, learning_rate=0.1, max_depth=3, n_estimators=100; neg_root_mean_squared_error: (test=-0.018) r2: (test=0.999) total time=   0.0s\n"
     ]
    },
    {
     "name": "stdout",
     "output_type": "stream",
     "text": [
      "[CV 1/5] END gamma=0.01, learning_rate=0.1, max_depth=3, n_estimators=200; neg_root_mean_squared_error: (test=-0.018) r2: (test=0.999) total time=   0.1s\n",
      "[CV 2/5] END gamma=0.01, learning_rate=0.1, max_depth=3, n_estimators=200; neg_root_mean_squared_error: (test=-0.018) r2: (test=0.999) total time=   0.0s\n",
      "[CV 3/5] END gamma=0.01, learning_rate=0.1, max_depth=3, n_estimators=200; neg_root_mean_squared_error: (test=-0.016) r2: (test=0.999) total time=   0.0s\n",
      "[CV 4/5] END gamma=0.01, learning_rate=0.1, max_depth=3, n_estimators=200; neg_root_mean_squared_error: (test=-0.018) r2: (test=0.999) total time=   0.0s\n",
      "[CV 5/5] END gamma=0.01, learning_rate=0.1, max_depth=3, n_estimators=200; neg_root_mean_squared_error: (test=-0.018) r2: (test=0.999) total time=   0.1s\n",
      "[CV 1/5] END gamma=0.01, learning_rate=1, max_depth=2, n_estimators=100; neg_root_mean_squared_error: (test=-0.013) r2: (test=0.999) total time=   0.0s\n",
      "[CV 2/5] END gamma=0.01, learning_rate=1, max_depth=2, n_estimators=100; neg_root_mean_squared_error: (test=-0.015) r2: (test=0.999) total time=   0.0s\n",
      "[CV 3/5] END gamma=0.01, learning_rate=1, max_depth=2, n_estimators=100; neg_root_mean_squared_error: (test=-0.014) r2: (test=0.999) total time=   0.0s\n",
      "[CV 4/5] END gamma=0.01, learning_rate=1, max_depth=2, n_estimators=100; neg_root_mean_squared_error: (test=-0.013) r2: (test=0.999) total time=   0.0s\n",
      "[CV 5/5] END gamma=0.01, learning_rate=1, max_depth=2, n_estimators=100; neg_root_mean_squared_error: (test=-0.009) r2: (test=1.000) total time=   0.0s\n",
      "[CV 1/5] END gamma=0.01, learning_rate=1, max_depth=2, n_estimators=200; neg_root_mean_squared_error: (test=-0.013) r2: (test=0.999) total time=   0.0s\n",
      "[CV 2/5] END gamma=0.01, learning_rate=1, max_depth=2, n_estimators=200; neg_root_mean_squared_error: (test=-0.015) r2: (test=0.999) total time=   0.0s\n",
      "[CV 3/5] END gamma=0.01, learning_rate=1, max_depth=2, n_estimators=200; neg_root_mean_squared_error: (test=-0.014) r2: (test=0.999) total time=   0.0s\n",
      "[CV 4/5] END gamma=0.01, learning_rate=1, max_depth=2, n_estimators=200; neg_root_mean_squared_error: (test=-0.013) r2: (test=0.999) total time=   0.0s\n",
      "[CV 5/5] END gamma=0.01, learning_rate=1, max_depth=2, n_estimators=200; neg_root_mean_squared_error: (test=-0.009) r2: (test=1.000) total time=   0.0s\n",
      "[CV 1/5] END gamma=0.01, learning_rate=1, max_depth=3, n_estimators=100; neg_root_mean_squared_error: (test=-0.008) r2: (test=1.000) total time=   0.0s\n",
      "[CV 2/5] END gamma=0.01, learning_rate=1, max_depth=3, n_estimators=100; neg_root_mean_squared_error: (test=-0.006) r2: (test=1.000) total time=   0.0s\n",
      "[CV 3/5] END gamma=0.01, learning_rate=1, max_depth=3, n_estimators=100; neg_root_mean_squared_error: (test=-0.007) r2: (test=1.000) total time=   0.0s\n",
      "[CV 4/5] END gamma=0.01, learning_rate=1, max_depth=3, n_estimators=100; neg_root_mean_squared_error: (test=-0.013) r2: (test=0.999) total time=   0.0s\n",
      "[CV 5/5] END gamma=0.01, learning_rate=1, max_depth=3, n_estimators=100; neg_root_mean_squared_error: (test=-0.009) r2: (test=1.000) total time=   0.0s\n",
      "[CV 1/5] END gamma=0.01, learning_rate=1, max_depth=3, n_estimators=200; neg_root_mean_squared_error: (test=-0.008) r2: (test=1.000) total time=   0.0s\n",
      "[CV 2/5] END gamma=0.01, learning_rate=1, max_depth=3, n_estimators=200; neg_root_mean_squared_error: (test=-0.006) r2: (test=1.000) total time=   0.0s\n",
      "[CV 3/5] END gamma=0.01, learning_rate=1, max_depth=3, n_estimators=200; neg_root_mean_squared_error: (test=-0.007) r2: (test=1.000) total time=   0.0s\n",
      "[CV 4/5] END gamma=0.01, learning_rate=1, max_depth=3, n_estimators=200; neg_root_mean_squared_error: (test=-0.013) r2: (test=0.999) total time=   0.0s\n",
      "[CV 5/5] END gamma=0.01, learning_rate=1, max_depth=3, n_estimators=200; neg_root_mean_squared_error: (test=-0.009) r2: (test=1.000) total time=   0.0s\n",
      "[CV 1/5] END gamma=0.1, learning_rate=0.001, max_depth=2, n_estimators=100; neg_root_mean_squared_error: (test=-0.469) r2: (test=0.106) total time=   0.0s\n",
      "[CV 2/5] END gamma=0.1, learning_rate=0.001, max_depth=2, n_estimators=100; neg_root_mean_squared_error: (test=-0.465) r2: (test=0.092) total time=   0.0s\n",
      "[CV 3/5] END gamma=0.1, learning_rate=0.001, max_depth=2, n_estimators=100; neg_root_mean_squared_error: (test=-0.462) r2: (test=0.130) total time=   0.0s\n",
      "[CV 4/5] END gamma=0.1, learning_rate=0.001, max_depth=2, n_estimators=100; neg_root_mean_squared_error: (test=-0.473) r2: (test=0.014) total time=   0.0s\n",
      "[CV 5/5] END gamma=0.1, learning_rate=0.001, max_depth=2, n_estimators=100; neg_root_mean_squared_error: (test=-0.472) r2: (test=0.093) total time=   0.0s\n",
      "[CV 1/5] END gamma=0.1, learning_rate=0.001, max_depth=2, n_estimators=200; neg_root_mean_squared_error: (test=-0.441) r2: (test=0.208) total time=   0.0s\n",
      "[CV 2/5] END gamma=0.1, learning_rate=0.001, max_depth=2, n_estimators=200; neg_root_mean_squared_error: (test=-0.434) r2: (test=0.210) total time=   0.0s\n",
      "[CV 3/5] END gamma=0.1, learning_rate=0.001, max_depth=2, n_estimators=200; neg_root_mean_squared_error: (test=-0.429) r2: (test=0.252) total time=   0.0s\n",
      "[CV 4/5] END gamma=0.1, learning_rate=0.001, max_depth=2, n_estimators=200; neg_root_mean_squared_error: (test=-0.450) r2: (test=0.107) total time=   0.0s\n",
      "[CV 5/5] END gamma=0.1, learning_rate=0.001, max_depth=2, n_estimators=200; neg_root_mean_squared_error: (test=-0.448) r2: (test=0.183) total time=   0.0s\n",
      "[CV 1/5] END gamma=0.1, learning_rate=0.001, max_depth=3, n_estimators=100; neg_root_mean_squared_error: (test=-0.454) r2: (test=0.160) total time=   0.0s\n",
      "[CV 2/5] END gamma=0.1, learning_rate=0.001, max_depth=3, n_estimators=100; neg_root_mean_squared_error: (test=-0.454) r2: (test=0.134) total time=   0.0s\n",
      "[CV 3/5] END gamma=0.1, learning_rate=0.001, max_depth=3, n_estimators=100; neg_root_mean_squared_error: (test=-0.454) r2: (test=0.162) total time=   0.0s\n",
      "[CV 4/5] END gamma=0.1, learning_rate=0.001, max_depth=3, n_estimators=100; neg_root_mean_squared_error: (test=-0.455) r2: (test=0.088) total time=   0.0s\n",
      "[CV 5/5] END gamma=0.1, learning_rate=0.001, max_depth=3, n_estimators=100; neg_root_mean_squared_error: (test=-0.454) r2: (test=0.160) total time=   0.0s\n",
      "[CV 1/5] END gamma=0.1, learning_rate=0.001, max_depth=3, n_estimators=200; neg_root_mean_squared_error: (test=-0.413) r2: (test=0.306) total time=   0.0s\n",
      "[CV 2/5] END gamma=0.1, learning_rate=0.001, max_depth=3, n_estimators=200; neg_root_mean_squared_error: (test=-0.413) r2: (test=0.285) total time=   0.0s\n",
      "[CV 3/5] END gamma=0.1, learning_rate=0.001, max_depth=3, n_estimators=200; neg_root_mean_squared_error: (test=-0.412) r2: (test=0.309) total time=   0.1s\n",
      "[CV 4/5] END gamma=0.1, learning_rate=0.001, max_depth=3, n_estimators=200; neg_root_mean_squared_error: (test=-0.414) r2: (test=0.244) total time=   0.1s\n",
      "[CV 5/5] END gamma=0.1, learning_rate=0.001, max_depth=3, n_estimators=200; neg_root_mean_squared_error: (test=-0.413) r2: (test=0.306) total time=   0.1s\n",
      "[CV 1/5] END gamma=0.1, learning_rate=0.01, max_depth=2, n_estimators=100; neg_root_mean_squared_error: (test=-0.292) r2: (test=0.653) total time=   0.0s\n",
      "[CV 2/5] END gamma=0.1, learning_rate=0.01, max_depth=2, n_estimators=100; neg_root_mean_squared_error: (test=-0.278) r2: (test=0.675) total time=   0.0s\n",
      "[CV 3/5] END gamma=0.1, learning_rate=0.01, max_depth=2, n_estimators=100; neg_root_mean_squared_error: (test=-0.285) r2: (test=0.670) total time=   0.0s\n",
      "[CV 4/5] END gamma=0.1, learning_rate=0.01, max_depth=2, n_estimators=100; neg_root_mean_squared_error: (test=-0.309) r2: (test=0.580) total time=   0.0s\n",
      "[CV 5/5] END gamma=0.1, learning_rate=0.01, max_depth=2, n_estimators=100; neg_root_mean_squared_error: (test=-0.305) r2: (test=0.623) total time=   0.0s\n",
      "[CV 1/5] END gamma=0.1, learning_rate=0.01, max_depth=2, n_estimators=200; neg_root_mean_squared_error: (test=-0.178) r2: (test=0.871) total time=   0.0s\n",
      "[CV 2/5] END gamma=0.1, learning_rate=0.01, max_depth=2, n_estimators=200; neg_root_mean_squared_error: (test=-0.171) r2: (test=0.877) total time=   0.1s\n",
      "[CV 3/5] END gamma=0.1, learning_rate=0.01, max_depth=2, n_estimators=200; neg_root_mean_squared_error: (test=-0.167) r2: (test=0.887) total time=   0.0s\n",
      "[CV 4/5] END gamma=0.1, learning_rate=0.01, max_depth=2, n_estimators=200; neg_root_mean_squared_error: (test=-0.189) r2: (test=0.843) total time=   0.1s\n",
      "[CV 5/5] END gamma=0.1, learning_rate=0.01, max_depth=2, n_estimators=200; neg_root_mean_squared_error: (test=-0.189) r2: (test=0.855) total time=   0.0s\n",
      "[CV 1/5] END gamma=0.1, learning_rate=0.01, max_depth=3, n_estimators=100; neg_root_mean_squared_error: (test=-0.191) r2: (test=0.851) total time=   0.0s\n",
      "[CV 2/5] END gamma=0.1, learning_rate=0.01, max_depth=3, n_estimators=100; neg_root_mean_squared_error: (test=-0.191) r2: (test=0.848) total time=   0.0s\n"
     ]
    },
    {
     "name": "stdout",
     "output_type": "stream",
     "text": [
      "[CV 3/5] END gamma=0.1, learning_rate=0.01, max_depth=3, n_estimators=100; neg_root_mean_squared_error: (test=-0.189) r2: (test=0.854) total time=   0.0s\n",
      "[CV 4/5] END gamma=0.1, learning_rate=0.01, max_depth=3, n_estimators=100; neg_root_mean_squared_error: (test=-0.194) r2: (test=0.834) total time=   0.0s\n",
      "[CV 5/5] END gamma=0.1, learning_rate=0.01, max_depth=3, n_estimators=100; neg_root_mean_squared_error: (test=-0.192) r2: (test=0.850) total time=   0.0s\n",
      "[CV 1/5] END gamma=0.1, learning_rate=0.01, max_depth=3, n_estimators=200; neg_root_mean_squared_error: (test=-0.073) r2: (test=0.978) total time=   0.1s\n",
      "[CV 2/5] END gamma=0.1, learning_rate=0.01, max_depth=3, n_estimators=200; neg_root_mean_squared_error: (test=-0.073) r2: (test=0.978) total time=   0.1s\n",
      "[CV 3/5] END gamma=0.1, learning_rate=0.01, max_depth=3, n_estimators=200; neg_root_mean_squared_error: (test=-0.072) r2: (test=0.979) total time=   0.1s\n",
      "[CV 4/5] END gamma=0.1, learning_rate=0.01, max_depth=3, n_estimators=200; neg_root_mean_squared_error: (test=-0.076) r2: (test=0.975) total time=   0.1s\n",
      "[CV 5/5] END gamma=0.1, learning_rate=0.01, max_depth=3, n_estimators=200; neg_root_mean_squared_error: (test=-0.074) r2: (test=0.978) total time=   0.0s\n",
      "[CV 1/5] END gamma=0.1, learning_rate=0.1, max_depth=2, n_estimators=100; neg_root_mean_squared_error: (test=-0.080) r2: (test=0.974) total time=   0.0s\n",
      "[CV 2/5] END gamma=0.1, learning_rate=0.1, max_depth=2, n_estimators=100; neg_root_mean_squared_error: (test=-0.072) r2: (test=0.978) total time=   0.0s\n",
      "[CV 3/5] END gamma=0.1, learning_rate=0.1, max_depth=2, n_estimators=100; neg_root_mean_squared_error: (test=-0.087) r2: (test=0.970) total time=   0.0s\n",
      "[CV 4/5] END gamma=0.1, learning_rate=0.1, max_depth=2, n_estimators=100; neg_root_mean_squared_error: (test=-0.093) r2: (test=0.962) total time=   0.0s\n",
      "[CV 5/5] END gamma=0.1, learning_rate=0.1, max_depth=2, n_estimators=100; neg_root_mean_squared_error: (test=-0.082) r2: (test=0.973) total time=   0.0s\n",
      "[CV 1/5] END gamma=0.1, learning_rate=0.1, max_depth=2, n_estimators=200; neg_root_mean_squared_error: (test=-0.080) r2: (test=0.974) total time=   0.0s\n",
      "[CV 2/5] END gamma=0.1, learning_rate=0.1, max_depth=2, n_estimators=200; neg_root_mean_squared_error: (test=-0.072) r2: (test=0.978) total time=   0.0s\n",
      "[CV 3/5] END gamma=0.1, learning_rate=0.1, max_depth=2, n_estimators=200; neg_root_mean_squared_error: (test=-0.087) r2: (test=0.970) total time=   0.0s\n",
      "[CV 4/5] END gamma=0.1, learning_rate=0.1, max_depth=2, n_estimators=200; neg_root_mean_squared_error: (test=-0.093) r2: (test=0.962) total time=   0.0s\n",
      "[CV 5/5] END gamma=0.1, learning_rate=0.1, max_depth=2, n_estimators=200; neg_root_mean_squared_error: (test=-0.082) r2: (test=0.973) total time=   0.0s\n",
      "[CV 1/5] END gamma=0.1, learning_rate=0.1, max_depth=3, n_estimators=100; neg_root_mean_squared_error: (test=-0.057) r2: (test=0.987) total time=   0.0s\n",
      "[CV 2/5] END gamma=0.1, learning_rate=0.1, max_depth=3, n_estimators=100; neg_root_mean_squared_error: (test=-0.055) r2: (test=0.987) total time=   0.0s\n",
      "[CV 3/5] END gamma=0.1, learning_rate=0.1, max_depth=3, n_estimators=100; neg_root_mean_squared_error: (test=-0.054) r2: (test=0.988) total time=   0.0s\n",
      "[CV 4/5] END gamma=0.1, learning_rate=0.1, max_depth=3, n_estimators=100; neg_root_mean_squared_error: (test=-0.058) r2: (test=0.985) total time=   0.0s\n",
      "[CV 5/5] END gamma=0.1, learning_rate=0.1, max_depth=3, n_estimators=100; neg_root_mean_squared_error: (test=-0.058) r2: (test=0.986) total time=   0.0s\n",
      "[CV 1/5] END gamma=0.1, learning_rate=0.1, max_depth=3, n_estimators=200; neg_root_mean_squared_error: (test=-0.057) r2: (test=0.987) total time=   0.1s\n",
      "[CV 2/5] END gamma=0.1, learning_rate=0.1, max_depth=3, n_estimators=200; neg_root_mean_squared_error: (test=-0.055) r2: (test=0.987) total time=   0.1s\n",
      "[CV 3/5] END gamma=0.1, learning_rate=0.1, max_depth=3, n_estimators=200; neg_root_mean_squared_error: (test=-0.054) r2: (test=0.988) total time=   0.0s\n",
      "[CV 4/5] END gamma=0.1, learning_rate=0.1, max_depth=3, n_estimators=200; neg_root_mean_squared_error: (test=-0.058) r2: (test=0.985) total time=   0.0s\n",
      "[CV 5/5] END gamma=0.1, learning_rate=0.1, max_depth=3, n_estimators=200; neg_root_mean_squared_error: (test=-0.058) r2: (test=0.986) total time=   0.0s\n",
      "[CV 1/5] END gamma=0.1, learning_rate=1, max_depth=2, n_estimators=100; neg_root_mean_squared_error: (test=-0.027) r2: (test=0.997) total time=   0.0s\n",
      "[CV 2/5] END gamma=0.1, learning_rate=1, max_depth=2, n_estimators=100; neg_root_mean_squared_error: (test=-0.022) r2: (test=0.998) total time=   0.0s\n",
      "[CV 3/5] END gamma=0.1, learning_rate=1, max_depth=2, n_estimators=100; neg_root_mean_squared_error: (test=-0.014) r2: (test=0.999) total time=   0.0s\n",
      "[CV 4/5] END gamma=0.1, learning_rate=1, max_depth=2, n_estimators=100; neg_root_mean_squared_error: (test=-0.029) r2: (test=0.996) total time=   0.0s\n",
      "[CV 5/5] END gamma=0.1, learning_rate=1, max_depth=2, n_estimators=100; neg_root_mean_squared_error: (test=-0.027) r2: (test=0.997) total time=   0.0s\n",
      "[CV 1/5] END gamma=0.1, learning_rate=1, max_depth=2, n_estimators=200; neg_root_mean_squared_error: (test=-0.027) r2: (test=0.997) total time=   0.0s\n",
      "[CV 2/5] END gamma=0.1, learning_rate=1, max_depth=2, n_estimators=200; neg_root_mean_squared_error: (test=-0.022) r2: (test=0.998) total time=   0.0s\n",
      "[CV 3/5] END gamma=0.1, learning_rate=1, max_depth=2, n_estimators=200; neg_root_mean_squared_error: (test=-0.014) r2: (test=0.999) total time=   0.0s\n",
      "[CV 4/5] END gamma=0.1, learning_rate=1, max_depth=2, n_estimators=200; neg_root_mean_squared_error: (test=-0.029) r2: (test=0.996) total time=   0.0s\n",
      "[CV 5/5] END gamma=0.1, learning_rate=1, max_depth=2, n_estimators=200; neg_root_mean_squared_error: (test=-0.027) r2: (test=0.997) total time=   0.0s\n",
      "[CV 1/5] END gamma=0.1, learning_rate=1, max_depth=3, n_estimators=100; neg_root_mean_squared_error: (test=-0.024) r2: (test=0.998) total time=   0.0s\n",
      "[CV 2/5] END gamma=0.1, learning_rate=1, max_depth=3, n_estimators=100; neg_root_mean_squared_error: (test=-0.021) r2: (test=0.998) total time=   0.0s\n",
      "[CV 3/5] END gamma=0.1, learning_rate=1, max_depth=3, n_estimators=100; neg_root_mean_squared_error: (test=-0.017) r2: (test=0.999) total time=   0.0s\n",
      "[CV 4/5] END gamma=0.1, learning_rate=1, max_depth=3, n_estimators=100; neg_root_mean_squared_error: (test=-0.030) r2: (test=0.996) total time=   0.0s\n",
      "[CV 5/5] END gamma=0.1, learning_rate=1, max_depth=3, n_estimators=100; neg_root_mean_squared_error: (test=-0.027) r2: (test=0.997) total time=   0.0s\n",
      "[CV 1/5] END gamma=0.1, learning_rate=1, max_depth=3, n_estimators=200; neg_root_mean_squared_error: (test=-0.024) r2: (test=0.998) total time=   0.1s\n",
      "[CV 2/5] END gamma=0.1, learning_rate=1, max_depth=3, n_estimators=200; neg_root_mean_squared_error: (test=-0.021) r2: (test=0.998) total time=   0.0s\n",
      "[CV 3/5] END gamma=0.1, learning_rate=1, max_depth=3, n_estimators=200; neg_root_mean_squared_error: (test=-0.017) r2: (test=0.999) total time=   0.0s\n",
      "[CV 4/5] END gamma=0.1, learning_rate=1, max_depth=3, n_estimators=200; neg_root_mean_squared_error: (test=-0.030) r2: (test=0.996) total time=   0.0s\n",
      "[CV 5/5] END gamma=0.1, learning_rate=1, max_depth=3, n_estimators=200; neg_root_mean_squared_error: (test=-0.027) r2: (test=0.997) total time=   0.0s\n"
     ]
    },
    {
     "data": {
      "text/plain": [
       "GridSearchCV(cv=5,\n",
       "             estimator=XGBRegressor(base_score=None, booster=None,\n",
       "                                    callbacks=None, colsample_bylevel=None,\n",
       "                                    colsample_bynode=None,\n",
       "                                    colsample_bytree=None,\n",
       "                                    early_stopping_rounds=None,\n",
       "                                    enable_categorical=False, eval_metric=None,\n",
       "                                    feature_types=None, gamma=None, gpu_id=None,\n",
       "                                    grow_policy=None, importance_type=None,\n",
       "                                    interaction_constraints=None,\n",
       "                                    learning_rate=None, m...\n",
       "                                    max_depth=None, max_leaves=None,\n",
       "                                    min_child_weight=None, missing=nan,\n",
       "                                    monotone_constraints=None, n_estimators=100,\n",
       "                                    n_jobs=None, num_parallel_tree=None,\n",
       "                                    predictor=None, random_state=2021, ...),\n",
       "             param_grid={'gamma': [0.01, 0.1],\n",
       "                         'learning_rate': [0.001, 0.01, 0.1, 1],\n",
       "                         'max_depth': [2, 3], 'n_estimators': [100, 200]},\n",
       "             refit='r2', scoring=['r2', 'neg_root_mean_squared_error'],\n",
       "             verbose=4)"
      ]
     },
     "execution_count": 35,
     "metadata": {},
     "output_type": "execute_result"
    }
   ],
   "source": [
    "GS.fit(X_train, Y_train)"
   ]
  },
  {
   "cell_type": "code",
   "execution_count": 36,
   "id": "1c1bfd3a",
   "metadata": {
    "scrolled": true
   },
   "outputs": [
    {
     "name": "stdout",
     "output_type": "stream",
     "text": [
      "XGBRegressor(base_score=0.5, booster='gbtree', callbacks=None,\n",
      "             colsample_bylevel=1, colsample_bynode=1, colsample_bytree=1,\n",
      "             early_stopping_rounds=None, enable_categorical=False,\n",
      "             eval_metric=None, feature_types=None, gamma=0.01, gpu_id=-1,\n",
      "             grow_policy='depthwise', importance_type=None,\n",
      "             interaction_constraints='', learning_rate=1, max_bin=256,\n",
      "             max_cat_threshold=64, max_cat_to_onehot=4, max_delta_step=0,\n",
      "             max_depth=3, max_leaves=0, min_child_weight=1, missing=nan,\n",
      "             monotone_constraints='()', n_estimators=100, n_jobs=0,\n",
      "             num_parallel_tree=1, predictor='auto', random_state=2021, ...)\n"
     ]
    }
   ],
   "source": [
    "print(GS.best_estimator_)"
   ]
  },
  {
   "cell_type": "code",
   "execution_count": 37,
   "id": "edc6232f",
   "metadata": {},
   "outputs": [
    {
     "data": {
      "text/plain": [
       "{'gamma': 0.01, 'learning_rate': 1, 'max_depth': 3, 'n_estimators': 100}"
      ]
     },
     "execution_count": 37,
     "metadata": {},
     "output_type": "execute_result"
    }
   ],
   "source": [
    "GS.best_params_"
   ]
  },
  {
   "cell_type": "code",
   "execution_count": 38,
   "id": "56a68dee",
   "metadata": {},
   "outputs": [
    {
     "data": {
      "text/plain": [
       "0.9996677310669713"
      ]
     },
     "execution_count": 38,
     "metadata": {},
     "output_type": "execute_result"
    }
   ],
   "source": [
    "GS.best_score_"
   ]
  },
  {
   "cell_type": "code",
   "execution_count": null,
   "id": "0c6786ed",
   "metadata": {},
   "outputs": [],
   "source": [
    "import pandas as pd\n",
    "import numpy as np\n",
    "df = pd.DataFrame(GS.cv_results_)\n",
    "df = df.sort_values(\"rank_test_r2\")\n",
    "df.to_csv(\"cv_results.csv\")"
   ]
  },
  {
   "cell_type": "code",
   "execution_count": null,
   "id": "bbb4d156",
   "metadata": {},
   "outputs": [],
   "source": [
    "tree_clf = DecisionTreeClassifier(max_depth=2, random_state=0)\n",
    "tree_clf.fit(X, y)\n",
    "plot_tree(tree_clf);"
   ]
  },
  {
   "cell_type": "code",
   "execution_count": null,
   "id": "839ff3b5",
   "metadata": {},
   "outputs": [],
   "source": [
    "from sklearn.model_selection import cross_val_score\n",
    "from sklearn import svm\n",
    "clf = svm.SVC(kernel='linear', C=1, random_state=42)\n",
    "scores = cross_val_score(clf, X, y, cv=5)\n",
    "print(scores)"
   ]
  },
  {
   "cell_type": "code",
   "execution_count": null,
   "id": "5cebed8f",
   "metadata": {},
   "outputs": [],
   "source": [
    "from sklearn.model_selection import cross_val_score\n",
    "from sklearn import svm\n",
    "clf = svm.SVC(kernel='linear', C=1, random_state=42)\n",
    "scores = cross_val_score(clf, X, y, cv=10)\n",
    "print(scores)"
   ]
  },
  {
   "cell_type": "code",
   "execution_count": null,
   "id": "474dd95f",
   "metadata": {},
   "outputs": [],
   "source": [
    "X3_train, X3_test, Y3_train, Y3_test = train_test_split(X,y, test_size=0.3, random_state=2021)\n",
    "X6_train, X6_test, Y6_train, Y6_test = train_test_split(X,y, test_size=0.6, random_state=2021)"
   ]
  },
  {
   "cell_type": "code",
   "execution_count": null,
   "id": "89a62aa6",
   "metadata": {},
   "outputs": [],
   "source": [
    "print(np.shape(X3_train))\n",
    "print(np.shape(Y3_train))\n",
    "print(np.shape(X3_test))\n",
    "print(np.shape(Y3_test))"
   ]
  },
  {
   "cell_type": "code",
   "execution_count": null,
   "id": "90156477",
   "metadata": {},
   "outputs": [],
   "source": [
    "print(np.shape(X6_train))\n",
    "print(np.shape(Y6_train))\n",
    "print(np.shape(X6_test))\n",
    "print(np.shape(Y6_test))"
   ]
  },
  {
   "cell_type": "code",
   "execution_count": null,
   "id": "2adf7a6d",
   "metadata": {},
   "outputs": [],
   "source": [
    "GS30 = GridSearchCV(estimator = xgb_model,\n",
    "                 param_grid = search_space,\n",
    "                 scoring = [\"r2\", \"neg_root_mean_squared_error\"],\n",
    "                 refit = \"r2\",\n",
    "                 cv=5,\n",
    "                 verbose=4)"
   ]
  },
  {
   "cell_type": "code",
   "execution_count": null,
   "id": "c8091614",
   "metadata": {},
   "outputs": [],
   "source": [
    "GS60 = GridSearchCV(estimator = xgb_model,\n",
    "                 param_grid = search_space,\n",
    "                 scoring = [\"r2\", \"neg_root_mean_squared_error\"],\n",
    "                 refit = \"r2\",\n",
    "                 cv=5,\n",
    "                 verbose=4)"
   ]
  },
  {
   "cell_type": "code",
   "execution_count": null,
   "id": "4dfe9d76",
   "metadata": {},
   "outputs": [],
   "source": [
    "GS30.fit(X3_train, Y3_train)"
   ]
  },
  {
   "cell_type": "code",
   "execution_count": null,
   "id": "96bcba19",
   "metadata": {},
   "outputs": [],
   "source": [
    "GS.best_params_"
   ]
  },
  {
   "cell_type": "code",
   "execution_count": null,
   "id": "457820f0",
   "metadata": {},
   "outputs": [],
   "source": [
    "GS.best_score_"
   ]
  },
  {
   "cell_type": "code",
   "execution_count": null,
   "id": "7fe80442",
   "metadata": {},
   "outputs": [],
   "source": [
    "GS60.fit(X6_train, Y6_train)"
   ]
  },
  {
   "cell_type": "code",
   "execution_count": null,
   "id": "cdb0e1ff",
   "metadata": {},
   "outputs": [],
   "source": [
    "GS60.best_params_"
   ]
  },
  {
   "cell_type": "code",
   "execution_count": null,
   "id": "fa5f0fb5",
   "metadata": {},
   "outputs": [],
   "source": [
    "GS60.best_score_"
   ]
  },
  {
   "cell_type": "code",
   "execution_count": null,
   "id": "614fe943",
   "metadata": {},
   "outputs": [],
   "source": [
    "GS2010 = GridSearchCV(estimator = xgb_model,\n",
    "                 param_grid = search_space,\n",
    "                 scoring = [\"r2\", \"neg_root_mean_squared_error\"],\n",
    "                 refit = \"r2\",\n",
    "                 cv=10,\n",
    "                 verbose=4)"
   ]
  },
  {
   "cell_type": "code",
   "execution_count": null,
   "id": "993aa453",
   "metadata": {},
   "outputs": [],
   "source": [
    "GS2010.fit(X_train, Y_train)"
   ]
  },
  {
   "cell_type": "code",
   "execution_count": null,
   "id": "32a81b97",
   "metadata": {},
   "outputs": [],
   "source": [
    "GS2010.best_params_"
   ]
  },
  {
   "cell_type": "code",
   "execution_count": null,
   "id": "993b0ad2",
   "metadata": {},
   "outputs": [],
   "source": [
    "GS.best_score_"
   ]
  },
  {
   "cell_type": "code",
   "execution_count": null,
   "id": "207ce3ca",
   "metadata": {},
   "outputs": [],
   "source": [
    "#pred = tree.predict(X_test)\n",
    "plot_tree(tree_clf)"
   ]
  },
  {
   "cell_type": "code",
   "execution_count": null,
   "id": "ff033b06",
   "metadata": {},
   "outputs": [],
   "source": [
    "tree_predit = tree_clf.predict(X_test)"
   ]
  },
  {
   "cell_type": "code",
   "execution_count": 55,
   "id": "d48856c2",
   "metadata": {},
   "outputs": [],
   "source": [
    "import numpy as np\n",
    "import pandas as pd\n",
    "import csv\n",
    "import seaborn as sns\n",
    "import matplotlib as mpl\n",
    "import matplotlib.pyplot as plt\n",
    "import sklearn\n",
    "from sklearn.tree import DecisionTreeClassifier, plot_tree\n",
    "from sklearn.model_selection  import train_test_split, KFold, StratifiedKFold, cross_val_score, cross_val_predict, GridSearchCV\n",
    "from sklearn.metrics import accuracy_score, f1_score, confusion_matrix, precision_score, recall_score, precision_recall_curve, roc_curve, roc_auc_score, RocCurveDisplay, ConfusionMatrixDisplay\n",
    "import warnings\n",
    "warnings.filterwarnings('ignore')"
   ]
  },
  {
   "cell_type": "code",
   "execution_count": null,
   "id": "c5690428",
   "metadata": {},
   "outputs": [],
   "source": [
    "tree_predit = tree_clf.predict(X_test)\n",
    "tree_accuracy = accuracy_score(Y_test, tree_predit)\n",
    "tree_f1 = f1_score(Y_test, tree_predit)\n",
    "tree_precision = precision_score(Y_test, tree_predit)\n",
    "tree_recall = recall_score(Y_test, tree_predit)\n",
    "tree_cm = confusion_matrix(Y_test, tree_predit)\n",
    "\n",
    "print(\"Accuracy:\", tree_accuracy)\n",
    "print(\"F1 Score: \", tree_f1)\n",
    "print(\"Precision Score: \", tree_precision)\n",
    "print(\"Recall Score: \", tree_recall)"
   ]
  },
  {
   "cell_type": "code",
   "execution_count": null,
   "id": "2cd7a597",
   "metadata": {},
   "outputs": [],
   "source": [
    "cm_display = ConfusionMatrixDisplay(confusion_matrix = tree_cm, display_labels = [False, True])\n",
    "cm_display.plot()\n",
    "plt.show()"
   ]
  },
  {
   "cell_type": "code",
   "execution_count": null,
   "id": "07c8a080",
   "metadata": {},
   "outputs": [],
   "source": [
    "parameters = {\n",
    "    'criterion':[\"gini\",\"entropy\"],  # Can also include \"log_loss\"\n",
    "    'max_depth':[1,2,3,4,5],\n",
    "    'min_samples_split':[2,3,4,5],\n",
    "    'min_samples_leaf':[1,2,3,4,5],\n",
    "    'min_weight_fraction_leaf':[0.0,0.1,0.2,0.3,0.4],\n",
    "    'max_features':[1,2,3,4,5]\n",
    "}\n",
    "\n",
    "dtc = DecisionTreeClassifier()\n",
    "search = GridSearchCV(estimator = dtc, \n",
    "                      param_grid = parameters,\n",
    "                      scoring = [\"accuracy\", \"f1\", \"precision\", \"recall\", \"roc_auc\"],\n",
    "                      refit = \"accuracy\",\n",
    "                      cv = 10,\n",
    "                      # verbose = 4\n",
    "                     )\n",
    "\n",
    "search.fit(X_train, Y_train);\n",
    "print(\"done\")"
   ]
  },
  {
   "cell_type": "code",
   "execution_count": null,
   "id": "e980b416",
   "metadata": {},
   "outputs": [],
   "source": [
    "print(search.best_estimator_)"
   ]
  },
  {
   "cell_type": "code",
   "execution_count": null,
   "id": "d86305b9",
   "metadata": {},
   "outputs": [],
   "source": [
    "print(search.best_params_)"
   ]
  },
  {
   "cell_type": "code",
   "execution_count": null,
   "id": "b5b86bdd",
   "metadata": {},
   "outputs": [],
   "source": [
    "parameters1 = {\n",
    "    'criterion':[\"gini\"],  # Can also include \"log_loss\"\n",
    "    'max_depth':[5],\n",
    "    'min_samples_split':[2],\n",
    "    'min_samples_leaf':[2],\n",
    "    'min_weight_fraction_leaf':[0.0],\n",
    "    'max_features':[5]\n",
    "}\n",
    "\n",
    "dtc = DecisionTreeClassifier()\n",
    "search1 = GridSearchCV(estimator = dtc, \n",
    "                      param_grid = parameters1,\n",
    "                      scoring = [\"accuracy\", \"f1\", \"precision\", \"recall\", \"roc_auc\"],\n",
    "                      refit = \"accuracy\",\n",
    "                      cv = 10,\n",
    "                      # verbose = 4\n",
    "                     )\n",
    "\n",
    "search.fit(X_train, Y_train);\n",
    "print(\"done\")"
   ]
  },
  {
   "cell_type": "code",
   "execution_count": null,
   "id": "d9a6ed71",
   "metadata": {},
   "outputs": [],
   "source": [
    "search1.fit(X_train, Y_train);\n",
    "print(\"done\")"
   ]
  },
  {
   "cell_type": "code",
   "execution_count": null,
   "id": "616b79b1",
   "metadata": {},
   "outputs": [],
   "source": [
    "print(search1.best_estimator_)"
   ]
  },
  {
   "cell_type": "code",
   "execution_count": null,
   "id": "2e192427",
   "metadata": {},
   "outputs": [],
   "source": [
    "print(search.best_score_)"
   ]
  },
  {
   "cell_type": "code",
   "execution_count": null,
   "id": "54e945fd",
   "metadata": {},
   "outputs": [],
   "source": [
    "print(search1.best_score_)"
   ]
  },
  {
   "cell_type": "code",
   "execution_count": null,
   "id": "be7f94db",
   "metadata": {},
   "outputs": [],
   "source": [
    "# TP-[0,0] FN-[0,1] \n",
    "# FP-[1,0] TN-[1,1]\n",
    "#Sensitivity = TP/(TP+FN)\n",
    "#Specificity = TN/(TN+FP)\n",
    "#Precision precision=TP/(TP+FP)\n",
    "#Recall recall =TP/(TP+FN)\n",
    "#F-measure =( 2 × recall × precision) / (recall+precision)"
   ]
  },
  {
   "cell_type": "code",
   "execution_count": null,
   "id": "42c550f4",
   "metadata": {},
   "outputs": [],
   "source": [
    "GS30.best_score_"
   ]
  },
  {
   "cell_type": "code",
   "execution_count": null,
   "id": "68c815ee",
   "metadata": {},
   "outputs": [],
   "source": [
    "search30 = GridSearchCV(estimator = dtc, \n",
    "                      param_grid = parameters1,\n",
    "                      scoring = [\"accuracy\", \"f1\", \"precision\", \"recall\", \"roc_auc\"],\n",
    "                      refit = \"accuracy\",\n",
    "                      cv = 10,\n",
    "                      # verbose = 4\n",
    "                     )\n",
    "\n",
    "search30.fit(X3_train, Y3_train);\n",
    "print(\"done\")"
   ]
  },
  {
   "cell_type": "code",
   "execution_count": null,
   "id": "259ce9cc",
   "metadata": {},
   "outputs": [],
   "source": [
    "print(search30.best_score_)"
   ]
  },
  {
   "cell_type": "code",
   "execution_count": null,
   "id": "0e6255d6",
   "metadata": {},
   "outputs": [],
   "source": [
    "search60 = GridSearchCV(estimator = dtc, \n",
    "                      param_grid = parameters1,\n",
    "                      scoring = [\"accuracy\", \"f1\", \"precision\", \"recall\", \"roc_auc\"],\n",
    "                      refit = \"accuracy\",\n",
    "                      cv = 10,\n",
    "                      # verbose = 4\n",
    "                     )\n",
    "\n",
    "search60.fit(X6_train, Y6_train);\n",
    "print(\"done\")"
   ]
  },
  {
   "cell_type": "code",
   "execution_count": null,
   "id": "4bc6167b",
   "metadata": {},
   "outputs": [],
   "source": [
    "print(search60.best_score_)"
   ]
  },
  {
   "cell_type": "code",
   "execution_count": null,
   "id": "62bb5d16",
   "metadata": {
    "scrolled": true
   },
   "outputs": [],
   "source": [
    "#tree_clf30 = DecisionTreeClassifier(max_depth=2, random_state=0)\n",
    "tree_clf30 = DecisionTreeClassifier(max_depth=5, max_features=5, min_samples_leaf=2)\n",
    "tree_clf30.fit(X3_train, Y3_train)\n",
    "plot_tree(tree_clf30);"
   ]
  },
  {
   "cell_type": "code",
   "execution_count": null,
   "id": "a64ac25f",
   "metadata": {},
   "outputs": [],
   "source": [
    "#tree_clf60 = DecisionTreeClassifier(max_depth=2, random_state=0)\n",
    "tree_clf60 = DecisionTreeClassifier(max_depth=5, max_features=5, min_samples_leaf=2)\n",
    "tree_clf60.fit(X6_train, Y6_train)\n",
    "plot_tree(tree_clf60);"
   ]
  },
  {
   "cell_type": "code",
   "execution_count": null,
   "id": "9a8afb4e",
   "metadata": {},
   "outputs": [],
   "source": [
    "tree_predit30 = tree_clf30.predict(X3_test)"
   ]
  },
  {
   "cell_type": "code",
   "execution_count": null,
   "id": "f9e0dd8f",
   "metadata": {},
   "outputs": [],
   "source": [
    "tree_predit30 = tree_clf30.predict(X3_test)\n",
    "tree_accuracy = accuracy_score(Y3_test, tree_predit30)\n",
    "tree_f1 = f1_score(Y3_test, tree_predit30)\n",
    "tree_precision = precision_score(Y3_test, tree_predit30)\n",
    "tree_recall = recall_score(Y3_test, tree_predit30)\n",
    "tree_cm = confusion_matrix(Y3_test, tree_predit30)\n",
    "\n",
    "print(\"Accuracy:\", tree_accuracy)\n",
    "print(\"F1 Score: \", tree_f1)\n",
    "print(\"Precision Score: \", tree_precision)\n",
    "print(\"Recall Score: \", tree_recall)"
   ]
  },
  {
   "cell_type": "code",
   "execution_count": null,
   "id": "031c9984",
   "metadata": {},
   "outputs": [],
   "source": [
    "tree_predit60 = tree_clf60.predict(X6_test)\n",
    "tree_accuracy = accuracy_score(Y6_test, tree_predit60)\n",
    "tree_f1 = f1_score(Y6_test, tree_predit60)\n",
    "tree_precision = precision_score(Y6_test, tree_predit60)\n",
    "tree_recall = recall_score(Y6_test, tree_predit60)\n",
    "tree_cm = confusion_matrix(Y6_test, tree_predit60)\n",
    "\n",
    "print(\"Accuracy:\", tree_accuracy)\n",
    "print(\"F1 Score: \", tree_f1)\n",
    "print(\"Precision Score: \", tree_precision)\n",
    "print(\"Recall Score: \", tree_recall)"
   ]
  },
  {
   "cell_type": "code",
   "execution_count": null,
   "id": "753a21d8",
   "metadata": {},
   "outputs": [],
   "source": [
    "#'criterion': 'gini', \n",
    "#'max_depth': 5, \n",
    "#'max_features': 5, \n",
    "#'min_samples_leaf': 2, \n",
    "#'min_samples_split': 2, \n",
    "#'min_weight_fraction_leaf': 0.\n",
    "#(max_depth=5, max_features=5, min_samples_leaf=2)\n",
    "\n",
    "#tree_clf.fit(X, y)\n",
    "#tree_predit = tree_clf.predict(X_test)\n",
    "#tree_accuracy = accuracy_score(Y_test, tree_predit)\n",
    "#tree_f1 = f1_score(Y_test, tree_predit60)\n",
    "#tree_precision = precision_score(Y6_test, tree_predit60)\n",
    "#tree_recall = recall_score(Y6_test, tree_predit60)\n",
    "#tree_cm = confusion_matrix(Y6_test, tree_predit60)\n",
    "\n",
    "#print(\"Accuracy:\", tree_accuracy)\n",
    "#print(\"F1 Score: \", tree_f1)\n",
    "#print(\"Precision Score: \", tree_precision)\n",
    "#print(\"Recall Score: \", tree_recall)"
   ]
  },
  {
   "cell_type": "code",
   "execution_count": null,
   "id": "e30e1ef1",
   "metadata": {},
   "outputs": [],
   "source": [
    "#X_train, X_test, Y_train, Y_test = train_test_split(X,y, test_size=0.2, random_state=2021)\n",
    "tree_clftrain = DecisionTreeClassifier(max_depth=5, max_features=5, min_samples_leaf=2)\n",
    "tree_clftrain.fit(X_train, Y_train)\n",
    "plot_tree(tree_clftrain);\n",
    "\n",
    "tree_predit_train = tree_clftrain.predict(X_test)\n",
    "tree_accuracy = accuracy_score(Y_test, tree_predit_train)\n",
    "tree_f1 = f1_score(Y_test, tree_predit_train)\n",
    "tree_precision = precision_score(Y_test, tree_predit_train)\n",
    "tree_recall = recall_score(Y_test, tree_predit_train)\n",
    "tree_cm = confusion_matrix(Y_test, tree_predit_train)\n",
    "\n",
    "print(\"Accuracy:\", tree_accuracy)\n",
    "print(\"F1 Score: \", tree_f1)\n",
    "print(\"Precision Score: \", tree_precision)\n",
    "print(\"Recall Score: \", tree_recall)"
   ]
  },
  {
   "cell_type": "code",
   "execution_count": null,
   "id": "f02d3c72",
   "metadata": {},
   "outputs": [],
   "source": [
    "tree_clf30 = DecisionTreeClassifier(max_depth=5, max_features=5, min_samples_leaf=2)\n",
    "tree_clf30.fit(X3_train, Y3_train)\n",
    "\n",
    "plot_tree(tree_clf30);\n",
    "\n",
    "tree_predit30 = tree_clf30.predict(X3_test)\n",
    "tree_accuracy = accuracy_score(Y3_test, tree_predit30)\n",
    "tree_f1 = f1_score(Y3_test, tree_predit30)\n",
    "tree_precision = precision_score(Y3_test, tree_predit30)\n",
    "tree_recall = recall_score(Y3_test, tree_predit30)\n",
    "tree_cm = confusion_matrix(Y3_test, tree_predit30)\n",
    "\n",
    "print(\"Accuracy:\", tree_accuracy)\n",
    "print(\"F1 Score: \", tree_f1)\n",
    "print(\"Precision Score: \", tree_precision)\n",
    "print(\"Recall Score: \", tree_recall)"
   ]
  },
  {
   "cell_type": "code",
   "execution_count": null,
   "id": "5e7b92a1",
   "metadata": {},
   "outputs": [],
   "source": [
    "tree_clf60 = DecisionTreeClassifier(max_depth=5, max_features=5, min_samples_leaf=2)\n",
    "tree_clf60.fit(X6_train, Y6_train)\n",
    "plot_tree(tree_clf60);\n",
    "\n",
    "tree_predit60 = tree_clf60.predict(X6_test)\n",
    "tree_accuracy = accuracy_score(Y6_test, tree_predit60)\n",
    "tree_f1 = f1_score(Y6_test, tree_predit60)\n",
    "tree_precision = precision_score(Y6_test, tree_predit60)\n",
    "tree_recall = recall_score(Y6_test, tree_predit60)\n",
    "tree_cm = confusion_matrix(Y6_test, tree_predit60)\n",
    "\n",
    "print(\"Accuracy:\", tree_accuracy)\n",
    "print(\"F1 Score: \", tree_f1)\n",
    "print(\"Precision Score: \", tree_precision)\n",
    "print(\"Recall Score: \", tree_recall)"
   ]
  },
  {
   "cell_type": "code",
   "execution_count": null,
   "id": "46a83514",
   "metadata": {},
   "outputs": [],
   "source": [
    "#'criterion': 'gini', \n",
    "#'max_depth': 5, \n",
    "#'max_features': 5, \n",
    "#'min_samples_leaf': 2, \n",
    "#'min_samples_split': 2, \n",
    "#'min_weight_fraction_leaf': 0.\n",
    "#(max_depth=5, max_features=5, min_samples_leaf=2)\n",
    "tree_clftrain = DecisionTreeClassifier(max_depth=5, max_features=5, min_samples_leaf=2,min_samples_split=2,min_weight_fraction_leaf=0,criterion='gini')"
   ]
  },
  {
   "cell_type": "code",
   "execution_count": null,
   "id": "b6779855",
   "metadata": {},
   "outputs": [],
   "source": [
    "tree_clftrain.fit(X_train, Y_train)\n",
    "plot_tree(tree_clftrain);"
   ]
  },
  {
   "cell_type": "code",
   "execution_count": null,
   "id": "06d48e5f",
   "metadata": {
    "scrolled": true
   },
   "outputs": [],
   "source": [
    "tree_clftrainbest = DecisionTreeClassifier(max_depth=5, max_features=5, min_samples_leaf=2,min_samples_split=2,min_weight_fraction_leaf=0,criterion='gini')\n",
    "tree_clftrainbest.fit(X_train, Y_train)\n",
    "plot_tree(tree_clftrainbest);\n",
    "\n",
    "tree_predit_train_best = tree_clftrainbest.predict(X_test)\n",
    "tree_accuracy = accuracy_score(Y_test, tree_predit_train_best)\n",
    "tree_f1 = f1_score(Y_test, tree_predit_train_best)\n",
    "tree_precision = precision_score(Y_test, tree_predit_train_best)\n",
    "tree_recall = recall_score(Y_test, tree_predit_train_best)\n",
    "tree_cm = confusion_matrix(Y_test, tree_predit_train_best)\n",
    "\n",
    "print(\"Accuracy:\", tree_accuracy)\n",
    "print(\"F1 Score: \", tree_f1)\n",
    "print(\"Precision Score: \", tree_precision)\n",
    "print(\"Recall Score: \", tree_recall)\n",
    "\n"
   ]
  },
  {
   "cell_type": "code",
   "execution_count": null,
   "id": "891b3c8d",
   "metadata": {},
   "outputs": [],
   "source": [
    "\n",
    "tree_clf30 = DecisionTreeClassifier(max_depth=5, max_features=5, min_samples_leaf=2,min_samples_split=2,min_weight_fraction_leaf=0,criterion='gini')\n",
    "#tree_clf30 = DecisionTreeClassifier(max_depth=5, max_features=5, min_samples_leaf=2)\n",
    "tree_clf30.fit(X3_train, Y3_train)\n",
    "\n",
    "plot_tree(tree_clf30);\n",
    "\n",
    "tree_predit30 = tree_clf30.predict(X3_test)\n",
    "tree_accuracy = accuracy_score(Y3_test, tree_predit30)\n",
    "tree_f1 = f1_score(Y3_test, tree_predit30)\n",
    "tree_precision = precision_score(Y3_test, tree_predit30)\n",
    "tree_recall = recall_score(Y3_test, tree_predit30)\n",
    "tree_cm = confusion_matrix(Y3_test, tree_predit30)\n",
    "\n",
    "print(\"Accuracy:\", tree_accuracy)\n",
    "print(\"F1 Score: \", tree_f1)\n",
    "print(\"Precision Score: \", tree_precision)\n",
    "print(\"Recall Score: \", tree_recall)"
   ]
  },
  {
   "cell_type": "code",
   "execution_count": null,
   "id": "37b8d129",
   "metadata": {
    "scrolled": false
   },
   "outputs": [],
   "source": [
    "tree_clf60 = DecisionTreeClassifier(max_depth=5, max_features=5, min_samples_leaf=2,min_samples_split=2,min_weight_fraction_leaf=0,criterion='gini')\n",
    "#tree_clf60 = DecisionTreeClassifier(max_depth=5, max_features=5, min_samples_leaf=2)\n",
    "tree_clf60.fit(X6_train, Y6_train)\n",
    "plot_tree(tree_clf60);\n",
    "\n",
    "tree_predit60 = tree_clf60.predict(X6_test)\n",
    "tree_accuracy = accuracy_score(Y6_test, tree_predit60)\n",
    "tree_f1 = f1_score(Y6_test, tree_predit60)\n",
    "tree_precision = precision_score(Y6_test, tree_predit60)\n",
    "tree_recall = recall_score(Y6_test, tree_predit60)\n",
    "tree_cm = confusion_matrix(Y6_test, tree_predit60)\n",
    "\n",
    "print(\"Accuracy:\", tree_accuracy)\n",
    "print(\"F1 Score: \", tree_f1)\n",
    "print(\"Precision Score: \", tree_precision)\n",
    "print(\"Recall Score: \", tree_recall)"
   ]
  },
  {
   "cell_type": "code",
   "execution_count": null,
   "id": "b1c5ed79",
   "metadata": {
    "scrolled": true
   },
   "outputs": [],
   "source": [
    "def plot_search_results(gridseachcv):\n",
    "    ## Results from grid search\n",
    "    results = gridseachcv.cv_results_\n",
    "    means_test = results['mean_test_accuracy']\n",
    "\n",
    "    masks=[]\n",
    "    masks_names= list(gridseachcv.best_params_.keys())\n",
    "    for p_k, p_v in gridseachcv.best_params_.items():\n",
    "        masks.append(list(results['param_'+p_k].data==p_v))\n",
    "    params=gridseachcv.param_grid\n",
    "    ## Ploting results\n",
    "    fig, ax = plt.subplots(1,len(params),sharex='none', sharey='all',figsize=(20,5))\n",
    "    fig.suptitle('Accuracy of Tree per Hyperparameter')\n",
    "    fig.text(0.04, 0.5, 'Mean Accuracy', va='center', rotation='vertical')\n",
    "    pram_preformace_in_best = {}\n",
    "    for i, p in enumerate(masks_names):\n",
    "        m = np.stack(masks[:i] + masks[i+1:])\n",
    "        pram_preformace_in_best\n",
    "        best_parms_mask = m.all(axis=0)\n",
    "        best_index = np.where(best_parms_mask)[0]\n",
    "        x = np.array(params[p])\n",
    "        y_1 = np.array(means_test[best_index])\n",
    "        # e_1 = np.array(stds_test[best_index])\n",
    "        # ax[i].errorbar(x, y_1, e_1, linestyle='--', marker='o', label='test')\n",
    "        ax[i].errorbar(x, y_1, linestyle='--', marker='o', label='test')\n",
    "        ax[i].set_xlabel(p.upper())\n",
    "    plt.legend()\n",
    "    plt.show()\n",
    "\n",
    "    \n",
    "plot_search_results(search)"
   ]
  },
  {
   "cell_type": "code",
   "execution_count": null,
   "id": "ff5ba763",
   "metadata": {},
   "outputs": [],
   "source": [
    "plot_search_results(search1)"
   ]
  },
  {
   "cell_type": "markdown",
   "id": "de7062bf",
   "metadata": {},
   "source": [
    "Linear Regression - Lab 9"
   ]
  },
  {
   "cell_type": "code",
   "execution_count": 39,
   "id": "e954e582",
   "metadata": {},
   "outputs": [],
   "source": [
    "import numpy as np\n",
    "\n",
    "Xn = 2 * np.random.rand(100, 1)\n",
    "yn = 4 + 3 * Xn + np.random.randn(100, 1)"
   ]
  },
  {
   "cell_type": "code",
   "execution_count": 40,
   "id": "f2d8f220",
   "metadata": {},
   "outputs": [
    {
     "data": {
      "image/png": "[encoded data removed]",
      "text/plain": [
       "<Figure size 432x288 with 1 Axes>"
      ]
     },
     "metadata": {
      "needs_background": "light"
     },
     "output_type": "display_data"
    }
   ],
   "source": [
    "plt.plot(X, y, \"b.\")\n",
    "plt.xlabel(\"$x_1$\", fontsize=18)\n",
    "plt.ylabel(\"$y$\", rotation=0, fontsize=18)\n",
    "plt.axis([-1, 2, -1, 2])\n",
    "plt.show()"
   ]
  },
  {
   "cell_type": "code",
   "execution_count": 41,
   "id": "9d8bf748",
   "metadata": {},
   "outputs": [
    {
     "data": {
      "text/plain": [
       "(-73935280889354.42,\n",
       " array([ 3.11323819e-03, -1.28012710e+13, -3.05683642e+12, -2.67805324e+13,\n",
       "         3.11222835e+13, -1.77010099e+13, -2.22889635e+13,  2.14683669e+13,\n",
       "         1.46484375e-02, -4.14022603e+13, -2.79015459e+12,  1.64476798e+13,\n",
       "         4.73400604e+12, -7.04071051e+12, -3.99517105e+11, -1.49927941e+13,\n",
       "         1.00497910e+13, -2.14843750e-02, -1.85546875e-02,  1.72132843e+13,\n",
       "         1.72132843e+13, -3.51562500e-02, -1.17187500e-02, -2.24858392e+13,\n",
       "        -2.24858392e+13, -2.24858392e+13, -7.81250000e-03,  0.00000000e+00,\n",
       "         0.00000000e+00,  0.00000000e+00,  0.00000000e+00,  0.00000000e+00,\n",
       "         0.00000000e+00,  0.00000000e+00,  0.00000000e+00,  0.00000000e+00,\n",
       "         0.00000000e+00,  6.41805903e+12,  5.04603697e+12,  4.49852679e+13,\n",
       "         1.36756458e+13,  1.36756458e+13,  1.82523943e+12, -6.41805903e+12,\n",
       "         0.00000000e+00,  0.00000000e+00, -7.44778434e+11, -7.14702096e+12,\n",
       "         1.74078897e+13,  2.74643349e+13,  2.74643349e+13,  1.40182974e+13,\n",
       "         7.44778434e+11,  0.00000000e+00,  0.00000000e+00,  3.37399516e+12,\n",
       "         3.43563820e+12,  2.98808085e+13,  2.12278755e+13,  2.12278755e+13,\n",
       "         3.43563820e+12, -3.37399516e+12,  0.00000000e+00,  0.00000000e+00,\n",
       "        -5.60576891e+11,  0.00000000e+00,  2.41121865e+13,  2.41121865e+13,\n",
       "         2.41121865e+13,  0.00000000e+00,  5.60576891e+11,  0.00000000e+00,\n",
       "         0.00000000e+00,  0.00000000e+00,  0.00000000e+00,  0.00000000e+00,\n",
       "         0.00000000e+00,  0.00000000e+00,  0.00000000e+00,  0.00000000e+00,\n",
       "         0.00000000e+00]))"
      ]
     },
     "execution_count": 41,
     "metadata": {},
     "output_type": "execute_result"
    }
   ],
   "source": [
    "from sklearn.linear_model import LinearRegression\n",
    "\n",
    "lin_reg = LinearRegression()\n",
    "lin_reg.fit(X, y)\n",
    "lin_reg.intercept_, lin_reg.coef_"
   ]
  },
  {
   "cell_type": "code",
   "execution_count": 42,
   "id": "c292bbb8",
   "metadata": {},
   "outputs": [],
   "source": [
    "X = np.load('smiley_X.npy')\n",
    "X = X.reshape(144,81)\n",
    "y = np.load('smiley_y.npy')"
   ]
  },
  {
   "cell_type": "code",
   "execution_count": 43,
   "id": "fada46b8",
   "metadata": {},
   "outputs": [
    {
     "data": {
      "image/png": "[encoded data removed]",
      "text/plain": [
       "<Figure size 432x288 with 1 Axes>"
      ]
     },
     "metadata": {
      "needs_background": "light"
     },
     "output_type": "display_data"
    }
   ],
   "source": [
    "plt.plot(X, y, \"b.\")\n",
    "plt.xlabel(\"$x_1$\", fontsize=18)\n",
    "plt.ylabel(\"$y$\", rotation=0, fontsize=18)\n",
    "plt.axis([-1, 2, -1, 2])\n",
    "plt.show()"
   ]
  },
  {
   "cell_type": "code",
   "execution_count": 44,
   "id": "47a675c2",
   "metadata": {},
   "outputs": [
    {
     "data": {
      "text/plain": [
       "(-73935280889354.42,\n",
       " array([ 3.11323819e-03, -1.28012710e+13, -3.05683642e+12, -2.67805324e+13,\n",
       "         3.11222835e+13, -1.77010099e+13, -2.22889635e+13,  2.14683669e+13,\n",
       "         1.46484375e-02, -4.14022603e+13, -2.79015459e+12,  1.64476798e+13,\n",
       "         4.73400604e+12, -7.04071051e+12, -3.99517105e+11, -1.49927941e+13,\n",
       "         1.00497910e+13, -2.14843750e-02, -1.85546875e-02,  1.72132843e+13,\n",
       "         1.72132843e+13, -3.51562500e-02, -1.17187500e-02, -2.24858392e+13,\n",
       "        -2.24858392e+13, -2.24858392e+13, -7.81250000e-03,  0.00000000e+00,\n",
       "         0.00000000e+00,  0.00000000e+00,  0.00000000e+00,  0.00000000e+00,\n",
       "         0.00000000e+00,  0.00000000e+00,  0.00000000e+00,  0.00000000e+00,\n",
       "         0.00000000e+00,  6.41805903e+12,  5.04603697e+12,  4.49852679e+13,\n",
       "         1.36756458e+13,  1.36756458e+13,  1.82523943e+12, -6.41805903e+12,\n",
       "         0.00000000e+00,  0.00000000e+00, -7.44778434e+11, -7.14702096e+12,\n",
       "         1.74078897e+13,  2.74643349e+13,  2.74643349e+13,  1.40182974e+13,\n",
       "         7.44778434e+11,  0.00000000e+00,  0.00000000e+00,  3.37399516e+12,\n",
       "         3.43563820e+12,  2.98808085e+13,  2.12278755e+13,  2.12278755e+13,\n",
       "         3.43563820e+12, -3.37399516e+12,  0.00000000e+00,  0.00000000e+00,\n",
       "        -5.60576891e+11,  0.00000000e+00,  2.41121865e+13,  2.41121865e+13,\n",
       "         2.41121865e+13,  0.00000000e+00,  5.60576891e+11,  0.00000000e+00,\n",
       "         0.00000000e+00,  0.00000000e+00,  0.00000000e+00,  0.00000000e+00,\n",
       "         0.00000000e+00,  0.00000000e+00,  0.00000000e+00,  0.00000000e+00,\n",
       "         0.00000000e+00]))"
      ]
     },
     "execution_count": 44,
     "metadata": {},
     "output_type": "execute_result"
    }
   ],
   "source": [
    "from sklearn.linear_model import LinearRegression\n",
    "\n",
    "lin_reg = LinearRegression()\n",
    "lin_reg.fit(X, y)\n",
    "lin_reg.intercept_, lin_reg.coef_"
   ]
  },
  {
   "cell_type": "code",
   "execution_count": 45,
   "id": "a17a9f63",
   "metadata": {},
   "outputs": [],
   "source": [
    "Predict = lin_reg.predict(X)"
   ]
  },
  {
   "cell_type": "code",
   "execution_count": 46,
   "id": "f4965d98",
   "metadata": {},
   "outputs": [
    {
     "data": {
      "text/plain": [
       "array([-0.25    , -0.109375,  0.28125 ,  0.15625 ,  0.078125,  0.078125,\n",
       "        1.046875,  0.890625,  1.1875  ,  0.96875 ,  0.921875,  0.890625,\n",
       "       -0.28125 , -0.140625,  0.234375,  0.125   ,  0.046875,  0.046875,\n",
       "        1.015625,  0.84375 ,  1.140625,  0.921875,  0.875   ,  0.84375 ,\n",
       "       -0.296875, -0.15625 ,  0.234375,  0.109375,  0.03125 ,  0.03125 ,\n",
       "        1.015625,  0.828125,  1.140625,  0.921875,  0.875   ,  0.84375 ,\n",
       "       -0.25    , -0.109375,  0.296875,  0.171875,  0.078125,  0.078125,\n",
       "        1.0625  ,  0.890625,  1.203125,  0.984375,  0.921875,  0.890625,\n",
       "       -0.25    , -0.109375,  0.28125 ,  0.15625 ,  0.078125,  0.078125,\n",
       "        1.0625  ,  0.890625,  1.203125,  0.96875 ,  0.921875,  0.890625,\n",
       "       -0.28125 , -0.140625,  0.25    ,  0.125   ,  0.046875,  0.046875,\n",
       "        1.015625,  0.859375,  1.15625 ,  0.9375  ,  0.875   ,  0.859375,\n",
       "       -0.296875, -0.140625,  0.234375,  0.109375,  0.03125 ,  0.046875,\n",
       "        1.015625,  0.84375 ,  1.15625 ,  0.9375  ,  0.875   ,  0.84375 ,\n",
       "       -0.234375, -0.109375,  0.296875,  0.171875,  0.078125,  0.109375,\n",
       "        1.0625  ,  0.890625,  1.203125,  0.984375,  0.921875,  0.890625,\n",
       "       -0.234375, -0.109375,  0.296875,  0.171875,  0.078125,  0.09375 ,\n",
       "        1.078125,  0.890625,  1.203125,  0.984375,  0.9375  ,  0.890625,\n",
       "       -0.265625, -0.140625,  0.265625,  0.140625,  0.0625  ,  0.046875,\n",
       "        1.03125 ,  0.859375,  1.171875,  0.9375  ,  0.890625,  0.859375,\n",
       "       -0.28125 , -0.140625,  0.25    ,  0.125   ,  0.046875,  0.046875,\n",
       "        1.015625,  0.859375,  1.171875,  0.9375  ,  0.890625,  0.859375,\n",
       "       -0.234375, -0.078125,  0.296875,  0.171875,  0.09375 ,  0.109375,\n",
       "        1.078125,  0.90625 ,  1.21875 ,  1.      ,  0.9375  ,  0.90625 ])"
      ]
     },
     "execution_count": 46,
     "metadata": {},
     "output_type": "execute_result"
    }
   ],
   "source": [
    "Predict"
   ]
  },
  {
   "cell_type": "code",
   "execution_count": 47,
   "id": "a0b8ceaf",
   "metadata": {},
   "outputs": [
    {
     "data": {
      "text/plain": [
       "(144, 81)"
      ]
     },
     "execution_count": 47,
     "metadata": {},
     "output_type": "execute_result"
    }
   ],
   "source": [
    "X.shape"
   ]
  },
  {
   "cell_type": "code",
   "execution_count": 48,
   "id": "2f1e1b2d",
   "metadata": {},
   "outputs": [
    {
     "data": {
      "text/plain": [
       "LogisticRegression(random_state=42)"
      ]
     },
     "execution_count": 48,
     "metadata": {},
     "output_type": "execute_result"
    }
   ],
   "source": [
    "from sklearn.linear_model import LogisticRegression\n",
    "log_reg = LogisticRegression(solver=\"lbfgs\", random_state=42)\n",
    "log_reg.fit(X, y)"
   ]
  },
  {
   "cell_type": "code",
   "execution_count": 49,
   "id": "26d43663",
   "metadata": {},
   "outputs": [
    {
     "data": {
      "text/plain": [
       "(array([0.06816662]),\n",
       " array([[ 6.20289613e-06,  0.00000000e+00,  0.00000000e+00,\n",
       "          0.00000000e+00,  0.00000000e+00,  0.00000000e+00,\n",
       "          0.00000000e+00,  0.00000000e+00,  6.20289613e-06,\n",
       "          0.00000000e+00,  0.00000000e+00,  0.00000000e+00,\n",
       "          0.00000000e+00,  0.00000000e+00,  0.00000000e+00,\n",
       "          0.00000000e+00,  0.00000000e+00,  0.00000000e+00,\n",
       "          0.00000000e+00, -7.14622711e-06, -7.14622712e-06,\n",
       "          0.00000000e+00,  0.00000000e+00, -5.42198522e-06,\n",
       "         -5.42198522e-06, -3.44848379e-06,  0.00000000e+00,\n",
       "          0.00000000e+00,  0.00000000e+00,  0.00000000e+00,\n",
       "          0.00000000e+00,  0.00000000e+00,  0.00000000e+00,\n",
       "          0.00000000e+00,  0.00000000e+00,  0.00000000e+00,\n",
       "          0.00000000e+00, -1.56720735e+00,  3.49673832e-01,\n",
       "          1.19737038e+00,  1.19737038e+00,  1.19737038e+00,\n",
       "          3.49673832e-01, -1.56720735e+00,  0.00000000e+00,\n",
       "          0.00000000e+00, -4.26779053e-01, -4.40437665e-01,\n",
       "          6.79609993e-01,  6.79609993e-01,  6.79609993e-01,\n",
       "         -4.40437665e-01, -4.26779053e-01,  0.00000000e+00,\n",
       "          0.00000000e+00,  8.07711134e-01,  9.07495403e-02,\n",
       "         -8.67107627e-01, -8.67107627e-01, -8.67107627e-01,\n",
       "          9.07495403e-02,  8.07711134e-01,  0.00000000e+00,\n",
       "          0.00000000e+00,  4.63258789e-01,  0.00000000e+00,\n",
       "         -1.00988704e+00, -1.00988704e+00, -1.00988704e+00,\n",
       "          0.00000000e+00,  4.63258789e-01,  0.00000000e+00,\n",
       "          0.00000000e+00,  0.00000000e+00,  0.00000000e+00,\n",
       "          0.00000000e+00,  0.00000000e+00,  0.00000000e+00,\n",
       "          0.00000000e+00,  0.00000000e+00,  0.00000000e+00]]))"
      ]
     },
     "execution_count": 49,
     "metadata": {},
     "output_type": "execute_result"
    }
   ],
   "source": [
    "log_reg.intercept_, log_reg.coef_"
   ]
  },
  {
   "cell_type": "code",
   "execution_count": 50,
   "id": "4531efd5",
   "metadata": {},
   "outputs": [
    {
     "data": {
      "text/plain": [
       "(array([0.06816662]),\n",
       " array([[ 6.20289613e-06,  0.00000000e+00,  0.00000000e+00,\n",
       "          0.00000000e+00,  0.00000000e+00,  0.00000000e+00,\n",
       "          0.00000000e+00,  0.00000000e+00,  6.20289613e-06,\n",
       "          0.00000000e+00,  0.00000000e+00,  0.00000000e+00,\n",
       "          0.00000000e+00,  0.00000000e+00,  0.00000000e+00,\n",
       "          0.00000000e+00,  0.00000000e+00,  0.00000000e+00,\n",
       "          0.00000000e+00, -7.14622711e-06, -7.14622712e-06,\n",
       "          0.00000000e+00,  0.00000000e+00, -5.42198522e-06,\n",
       "         -5.42198522e-06, -3.44848379e-06,  0.00000000e+00,\n",
       "          0.00000000e+00,  0.00000000e+00,  0.00000000e+00,\n",
       "          0.00000000e+00,  0.00000000e+00,  0.00000000e+00,\n",
       "          0.00000000e+00,  0.00000000e+00,  0.00000000e+00,\n",
       "          0.00000000e+00, -1.56720735e+00,  3.49673832e-01,\n",
       "          1.19737038e+00,  1.19737038e+00,  1.19737038e+00,\n",
       "          3.49673832e-01, -1.56720735e+00,  0.00000000e+00,\n",
       "          0.00000000e+00, -4.26779053e-01, -4.40437665e-01,\n",
       "          6.79609993e-01,  6.79609993e-01,  6.79609993e-01,\n",
       "         -4.40437665e-01, -4.26779053e-01,  0.00000000e+00,\n",
       "          0.00000000e+00,  8.07711134e-01,  9.07495403e-02,\n",
       "         -8.67107627e-01, -8.67107627e-01, -8.67107627e-01,\n",
       "          9.07495403e-02,  8.07711134e-01,  0.00000000e+00,\n",
       "          0.00000000e+00,  4.63258789e-01,  0.00000000e+00,\n",
       "         -1.00988704e+00, -1.00988704e+00, -1.00988704e+00,\n",
       "          0.00000000e+00,  4.63258789e-01,  0.00000000e+00,\n",
       "          0.00000000e+00,  0.00000000e+00,  0.00000000e+00,\n",
       "          0.00000000e+00,  0.00000000e+00,  0.00000000e+00,\n",
       "          0.00000000e+00,  0.00000000e+00,  0.00000000e+00]]))"
      ]
     },
     "execution_count": 50,
     "metadata": {},
     "output_type": "execute_result"
    }
   ],
   "source": [
    "log_reg.intercept_, log_reg.coef_"
   ]
  },
  {
   "cell_type": "code",
   "execution_count": 59,
   "id": "e6d450c5",
   "metadata": {},
   "outputs": [
    {
     "name": "stdout",
     "output_type": "stream",
     "text": [
      "done\n"
     ]
    },
    {
     "data": {
      "text/plain": [
       "(57546772225.8625,\n",
       " array([ 3.11323819e-03, -1.28012710e+13, -3.05683642e+12, -2.67805324e+13,\n",
       "         3.11222835e+13, -1.77010099e+13, -2.22889635e+13,  2.14683669e+13,\n",
       "         1.46484375e-02, -4.14022603e+13, -2.79015459e+12,  1.64476798e+13,\n",
       "         4.73400604e+12, -7.04071051e+12, -3.99517105e+11, -1.49927941e+13,\n",
       "         1.00497910e+13, -2.14843750e-02, -1.85546875e-02,  1.72132843e+13,\n",
       "         1.72132843e+13, -3.51562500e-02, -1.17187500e-02, -2.24858392e+13,\n",
       "        -2.24858392e+13, -2.24858392e+13, -7.81250000e-03,  0.00000000e+00,\n",
       "         0.00000000e+00,  0.00000000e+00,  0.00000000e+00,  0.00000000e+00,\n",
       "         0.00000000e+00,  0.00000000e+00,  0.00000000e+00,  0.00000000e+00,\n",
       "         0.00000000e+00,  6.41805903e+12,  5.04603697e+12,  4.49852679e+13,\n",
       "         1.36756458e+13,  1.36756458e+13,  1.82523943e+12, -6.41805903e+12,\n",
       "         0.00000000e+00,  0.00000000e+00, -7.44778434e+11, -7.14702096e+12,\n",
       "         1.74078897e+13,  2.74643349e+13,  2.74643349e+13,  1.40182974e+13,\n",
       "         7.44778434e+11,  0.00000000e+00,  0.00000000e+00,  3.37399516e+12,\n",
       "         3.43563820e+12,  2.98808085e+13,  2.12278755e+13,  2.12278755e+13,\n",
       "         3.43563820e+12, -3.37399516e+12,  0.00000000e+00,  0.00000000e+00,\n",
       "        -5.60576891e+11,  0.00000000e+00,  2.41121865e+13,  2.41121865e+13,\n",
       "         2.41121865e+13,  0.00000000e+00,  5.60576891e+11,  0.00000000e+00,\n",
       "         0.00000000e+00,  0.00000000e+00,  0.00000000e+00,  0.00000000e+00,\n",
       "         0.00000000e+00,  0.00000000e+00,  0.00000000e+00,  0.00000000e+00,\n",
       "         0.00000000e+00]))"
      ]
     },
     "execution_count": 59,
     "metadata": {},
     "output_type": "execute_result"
    }
   ],
   "source": [
    "lin_reg_train = LinearRegression()\n",
    "lin_reg_train.fit(X_train, Y_train)\n",
    "print('done')\n",
    "lin_reg_train.intercept_, lin_reg.coef_"
   ]
  },
  {
   "cell_type": "code",
   "execution_count": 52,
   "id": "c5b04537",
   "metadata": {},
   "outputs": [],
   "source": [
    "lrt_predict = lin_reg_train.predict(X_train)"
   ]
  },
  {
   "cell_type": "code",
   "execution_count": 53,
   "id": "5220d177",
   "metadata": {},
   "outputs": [
    {
     "data": {
      "text/plain": [
       "array([ 0.95039368,  0.3273468 , -0.31620789,  1.0514679 ,  0.13301086,\n",
       "        0.81465149,  1.03779602, -0.18437195,  0.96406555,  0.07539368,\n",
       "        0.90254211,  0.10273743,  0.89179993,  1.01094055,  0.86738586,\n",
       "        0.03340149,  1.00263977,  0.93867493,  0.93965149,  0.92402649,\n",
       "       -0.06425476,  0.25410461, -0.15995789,  1.15351868,  0.0617218 ,\n",
       "        0.83027649,  0.97383118, -0.3054657 ,  0.8039093 ,  0.20967102,\n",
       "        0.06465149,  0.95527649,  1.0617218 ,  0.1295929 ,  0.08076477,\n",
       "        0.98750305,  0.91621399,  1.10469055,  0.04902649,  1.09394836,\n",
       "        1.14277649,  1.1398468 ,  0.92012024,  0.09785461,  0.24043274,\n",
       "        0.9054718 , -0.23222351,  0.13789368,  0.05781555, -0.31913757,\n",
       "        0.90156555, -0.07792664,  0.97969055,  0.05976868,  0.8507843 ,\n",
       "        0.04707336,  1.05976868,  0.88594055,  0.01582336,  0.97969055,\n",
       "        0.89961243, -0.23368835,  0.8195343 ,  0.07832336,  0.15156555,\n",
       "        0.12715149, -0.00175476,  0.96601868,  0.94844055,  1.0460968 ,\n",
       "        0.85664368, -0.32987976,  0.93965149, -0.14628601,  0.11592102,\n",
       "        0.05097961, -0.24736023,  1.00654602,  0.77949524,  0.1945343 ,\n",
       "        1.02168274,  0.22969055,  0.97138977,  0.06660461,  0.3117218 ,\n",
       "        0.15351868,  0.98164368,  0.25605774,  0.09199524, -0.13261414,\n",
       "        0.00898743,  0.13105774, -0.30351257,  0.93086243,  0.24336243,\n",
       "        1.0202179 ,  0.2233429 , -0.06230164,  0.27656555, -0.14433289,\n",
       "        0.90742493,  0.14863586,  0.97773743,  0.89961243,  1.05293274,\n",
       "        0.97480774,  0.9289093 ,  0.20527649,  1.12910461,  0.93476868,\n",
       "       -0.11308289,  1.22529602,  0.99043274, -0.1492157 ,  1.1764679 ])"
      ]
     },
     "execution_count": 53,
     "metadata": {},
     "output_type": "execute_result"
    }
   ],
   "source": [
    "lrt_predict"
   ]
  },
  {
   "cell_type": "code",
   "execution_count": 56,
   "id": "1b47e868",
   "metadata": {},
   "outputs": [
    {
     "ename": "ValueError",
     "evalue": "Found input variables with inconsistent numbers of samples: [29, 115]",
     "output_type": "error",
     "traceback": [
      "\u001b[0;31m---------------------------------------------------------------------------\u001b[0m",
      "\u001b[0;31mValueError\u001b[0m                                Traceback (most recent call last)",
      "Input \u001b[0;32mIn [56]\u001b[0m, in \u001b[0;36m<cell line: 1>\u001b[0;34m()\u001b[0m\n\u001b[0;32m----> 1\u001b[0m lrt_train_accuracy \u001b[38;5;241m=\u001b[39m \u001b[43maccuracy_score\u001b[49m\u001b[43m(\u001b[49m\u001b[43mY_test\u001b[49m\u001b[43m,\u001b[49m\u001b[43m \u001b[49m\u001b[43mlrt_predict\u001b[49m\u001b[43m)\u001b[49m\n\u001b[1;32m      2\u001b[0m lrt_train_f1 \u001b[38;5;241m=\u001b[39m f1_score(Y_test, lrt_predict)\n\u001b[1;32m      3\u001b[0m lrt_train_precision \u001b[38;5;241m=\u001b[39m precision_score(Y_test, lrt_predict)\n",
      "File \u001b[0;32m~/opt/anaconda3/lib/python3.9/site-packages/sklearn/metrics/_classification.py:211\u001b[0m, in \u001b[0;36maccuracy_score\u001b[0;34m(y_true, y_pred, normalize, sample_weight)\u001b[0m\n\u001b[1;32m    145\u001b[0m \u001b[38;5;124;03m\"\"\"Accuracy classification score.\u001b[39;00m\n\u001b[1;32m    146\u001b[0m \n\u001b[1;32m    147\u001b[0m \u001b[38;5;124;03mIn multilabel classification, this function computes subset accuracy:\u001b[39;00m\n\u001b[0;32m   (...)\u001b[0m\n\u001b[1;32m    207\u001b[0m \u001b[38;5;124;03m0.5\u001b[39;00m\n\u001b[1;32m    208\u001b[0m \u001b[38;5;124;03m\"\"\"\u001b[39;00m\n\u001b[1;32m    210\u001b[0m \u001b[38;5;66;03m# Compute accuracy for each possible representation\u001b[39;00m\n\u001b[0;32m--> 211\u001b[0m y_type, y_true, y_pred \u001b[38;5;241m=\u001b[39m \u001b[43m_check_targets\u001b[49m\u001b[43m(\u001b[49m\u001b[43my_true\u001b[49m\u001b[43m,\u001b[49m\u001b[43m \u001b[49m\u001b[43my_pred\u001b[49m\u001b[43m)\u001b[49m\n\u001b[1;32m    212\u001b[0m check_consistent_length(y_true, y_pred, sample_weight)\n\u001b[1;32m    213\u001b[0m \u001b[38;5;28;01mif\u001b[39;00m y_type\u001b[38;5;241m.\u001b[39mstartswith(\u001b[38;5;124m\"\u001b[39m\u001b[38;5;124mmultilabel\u001b[39m\u001b[38;5;124m\"\u001b[39m):\n",
      "File \u001b[0;32m~/opt/anaconda3/lib/python3.9/site-packages/sklearn/metrics/_classification.py:84\u001b[0m, in \u001b[0;36m_check_targets\u001b[0;34m(y_true, y_pred)\u001b[0m\n\u001b[1;32m     57\u001b[0m \u001b[38;5;28;01mdef\u001b[39;00m \u001b[38;5;21m_check_targets\u001b[39m(y_true, y_pred):\n\u001b[1;32m     58\u001b[0m     \u001b[38;5;124;03m\"\"\"Check that y_true and y_pred belong to the same classification task.\u001b[39;00m\n\u001b[1;32m     59\u001b[0m \n\u001b[1;32m     60\u001b[0m \u001b[38;5;124;03m    This converts multiclass or binary types to a common shape, and raises a\u001b[39;00m\n\u001b[0;32m   (...)\u001b[0m\n\u001b[1;32m     82\u001b[0m \u001b[38;5;124;03m    y_pred : array or indicator matrix\u001b[39;00m\n\u001b[1;32m     83\u001b[0m \u001b[38;5;124;03m    \"\"\"\u001b[39;00m\n\u001b[0;32m---> 84\u001b[0m     \u001b[43mcheck_consistent_length\u001b[49m\u001b[43m(\u001b[49m\u001b[43my_true\u001b[49m\u001b[43m,\u001b[49m\u001b[43m \u001b[49m\u001b[43my_pred\u001b[49m\u001b[43m)\u001b[49m\n\u001b[1;32m     85\u001b[0m     type_true \u001b[38;5;241m=\u001b[39m type_of_target(y_true)\n\u001b[1;32m     86\u001b[0m     type_pred \u001b[38;5;241m=\u001b[39m type_of_target(y_pred)\n",
      "File \u001b[0;32m~/opt/anaconda3/lib/python3.9/site-packages/sklearn/utils/validation.py:332\u001b[0m, in \u001b[0;36mcheck_consistent_length\u001b[0;34m(*arrays)\u001b[0m\n\u001b[1;32m    330\u001b[0m uniques \u001b[38;5;241m=\u001b[39m np\u001b[38;5;241m.\u001b[39munique(lengths)\n\u001b[1;32m    331\u001b[0m \u001b[38;5;28;01mif\u001b[39;00m \u001b[38;5;28mlen\u001b[39m(uniques) \u001b[38;5;241m>\u001b[39m \u001b[38;5;241m1\u001b[39m:\n\u001b[0;32m--> 332\u001b[0m     \u001b[38;5;28;01mraise\u001b[39;00m \u001b[38;5;167;01mValueError\u001b[39;00m(\n\u001b[1;32m    333\u001b[0m         \u001b[38;5;124m\"\u001b[39m\u001b[38;5;124mFound input variables with inconsistent numbers of samples: \u001b[39m\u001b[38;5;132;01m%r\u001b[39;00m\u001b[38;5;124m\"\u001b[39m\n\u001b[1;32m    334\u001b[0m         \u001b[38;5;241m%\u001b[39m [\u001b[38;5;28mint\u001b[39m(l) \u001b[38;5;28;01mfor\u001b[39;00m l \u001b[38;5;129;01min\u001b[39;00m lengths]\n\u001b[1;32m    335\u001b[0m     )\n",
      "\u001b[0;31mValueError\u001b[0m: Found input variables with inconsistent numbers of samples: [29, 115]"
     ]
    }
   ],
   "source": [
    "lrt_train_accuracy = accuracy_score(Y_test, lrt_predict)\n",
    "lrt_train_f1 = f1_score(Y_test, lrt_predict)\n",
    "lrt_train_precision = precision_score(Y_test, lrt_predict)\n",
    "lrt_train_recall = recall_score(Y_test, lrt_predict)\n",
    "lrt_train_cm = confusion_matrix(Y_test, lrt_predict)"
   ]
  },
  {
   "cell_type": "code",
   "execution_count": null,
   "id": "f6c85d93",
   "metadata": {},
   "outputs": [],
   "source": []
  }
 ],
 "metadata": {
  "kernelspec": {
   "display_name": "Python 3 (ipykernel)",
   "language": "python",
   "name": "python3"
  },
  "language_info": {
   "codemirror_mode": {
    "name": "ipython",
    "version": 3
   },
   "file_extension": ".py",
   "mimetype": "text/x-python",
   "name": "python",
   "nbconvert_exporter": "python",
   "pygments_lexer": "ipython3",
   "version": "3.9.12"
  }
 },
 "nbformat": 4,
 "nbformat_minor": 5
}
