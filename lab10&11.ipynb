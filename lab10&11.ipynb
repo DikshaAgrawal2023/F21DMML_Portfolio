{
  "nbformat": 4,
  "nbformat_minor": 0,
  "metadata": {
    "colab": {
      "provenance": []
    },
    "kernelspec": {
      "name": "python3",
      "display_name": "Python 3"
    },
    "language_info": {
      "name": "python"
    }
  },
  "cells": [
    {
      "cell_type": "code",
      "execution_count": null,
      "metadata": {
        "id": "wjOE4-S02wkh"
      },
      "outputs": [],
      "source": [
        "import warnings\n",
        "warnings.filterwarnings('ignore')\n",
        "import numpy as np\n",
        "import pandas as pd\n",
        "import csv\n",
        "import seaborn as sns\n",
        "import matplotlib as mpl\n",
        "import matplotlib.pyplot as plt\n",
        "import sklearn\n",
        "from sklearn.model_selection  import train_test_split, GridSearchCV\n",
        "from sklearn.model_selection  import train_test_split, KFold, StratifiedKFold, cross_val_score, cross_val_predict, GridSearchCV\n",
        "from sklearn.metrics import accuracy_score, f1_score, confusion_matrix, precision_score, recall_score, precision_recall_curve, roc_curve, roc_auc_score, RocCurveDisplay, ConfusionMatrixDisplay\n",
        "import tensorflow as tf\n",
        "from tensorflow import keras\n",
        "tf.config.run_functions_eagerly(True)"
      ]
    },
    {
      "cell_type": "code",
      "source": [],
      "metadata": {
        "id": "v_ANajatzWEz"
      },
      "execution_count": null,
      "outputs": []
    },
    {
      "cell_type": "code",
      "source": [
        "x = np.load('./smiley_X.npy')\n",
        "y = np.load('./smiley_y.npy')\n",
        "\n",
        "X = x.reshape((144, 81))\n",
        "X.shape"
      ],
      "metadata": {
        "colab": {
          "base_uri": "https://localhost:8080/"
        },
        "id": "_brZEOO24OIw",
        "outputId": "24a8c2d7-1c4f-478d-9c7e-a95336e46321"
      },
      "execution_count": null,
      "outputs": [
        {
          "output_type": "execute_result",
          "data": {
            "text/plain": [
              "(144, 81)"
            ]
          },
          "metadata": {},
          "execution_count": 5
        }
      ]
    },
    {
      "cell_type": "code",
      "source": [
        "def blank(height=9, width=9):\n",
        "    return [[0. for x in range(width)] for y in range(height)]\n",
        "\n",
        "def bound(x, l=0, h=10):\n",
        "    if x < l:\n",
        "        return l\n",
        "    if x > h:\n",
        "        return h\n",
        "    return x\n",
        "\n",
        "def draw_feature(canvas, feature, origin=(0,0)):\n",
        "  (x0, y0) = origin\n",
        "  for (x, y) in feature:\n",
        "      canvas[x0 + x][y0 + y] = 1.\n",
        "\n",
        "def draw_face(eyes, mouth, noise):\n",
        "  canvas = blank()\n",
        "  #draw eyes\n",
        "  draw_feature(canvas, eyes)\n",
        "  draw_feature(canvas, mouth)\n",
        "  draw_feature(canvas, noise)\n",
        "  return canvas\n",
        "\n",
        "\n",
        "def print_face(face):\n",
        "    for line in face:\n",
        "        for x in line:\n",
        "            print ('X' if x == 1.0 else '.', end='')\n",
        "        print('')\n",
        "    print('')\n",
        "\n",
        "\n",
        "def make_data(noise=False):\n",
        "  x_train = np.ndarray(shape=(0,))\n",
        "  y_train = np.ndarray(shape=(0,))\n",
        "\n",
        "  eyes_variants = [\n",
        "      [(2, 2), (2, 6)],\n",
        "      [(2, 1), (2, 7)],\n",
        "      [(2, 1), (2, 5)],\n",
        "      [(2, 2), (2, 7)],\n",
        "      [(2, 3), (2, 5)],\n",
        "      \n",
        "      [(1, 1), (1, 5)],\n",
        "      [(1, 1), (1, 6)],\n",
        "      [(1, 1), (1, 7)],\n",
        "      \n",
        "      [(1, 2), (1, 5)],\n",
        "      [(1, 2), (1, 6)],\n",
        "      [(1, 2), (1, 7)],\n",
        "      \n",
        "      [(1, 3), (1, 5)],\n",
        "      [(1, 3), (1, 6)],\n",
        "      [(1, 3), (1, 7)],\n",
        "      \n",
        "      [(1, 1), (1, 6), (1, 7)],\n",
        "      [(1, 1), (1, 2), (1, 7)],\n",
        "      [(2, 1), (2, 6), (2, 7)],\n",
        "      [(2, 1), (2, 2), (2, 7)],\n",
        "      \n",
        "      [(1, 1), (1, 2), (1, 6), (1, 7)],\n",
        "      [(1, 1), (1, 2), (2, 5), (2, 6)],\n",
        "      [(2, 1), (2, 2), (1, 5), (1, 6)],\n",
        "      [(2, 1), (2, 2), (2, 6), (2, 7)]\n",
        "  ]\n",
        "\n",
        "\n",
        "  noise_variants = [\n",
        "#       # No noise\n",
        "#       [],\n",
        "      \n",
        "#       # Noise in the eyes\n",
        "#       [(0, 0)],\n",
        "#       [(0, 8)],\n",
        "#       [(2, 0)],\n",
        "#       [(2, 1)],\n",
        "#       [(2, 2)],\n",
        "#       [(2, 4)],\n",
        "#       [(2, 5)],\n",
        "#       [(2, 7)],\n",
        "#       [(2, 8)],\n",
        "      \n",
        "      # Noise around the mouth\n",
        "      [(4, 1)],\n",
        "      [(4, 2)],\n",
        "      [(4, 3)],\n",
        "      [(4, 4)],\n",
        "      [(4, 6)],\n",
        "      [(4, 7)],\n",
        "      \n",
        "      [(5, 1)],\n",
        "      [(5, 2)],\n",
        "      [(5, 4)],\n",
        "      [(5, 6)],\n",
        "      [(5, 7)],\n",
        "      [(5, 8)],\n",
        "\n",
        "      [(6, 1)],\n",
        "      [(6, 3)],\n",
        "      [(6, 6)],\n",
        "      [(6, 8)],\n",
        "      \n",
        "      [(7, 1)],\n",
        "      [(7, 2)],\n",
        "      [(7, 5)],\n",
        "      [(7, 7)]\n",
        "  ]\n",
        "\n",
        "    \n",
        "  happy_mouths = [\n",
        "      # Mouth 1\n",
        "      [(4, 1), (5, 2), (6, 3), (6, 4), (6, 5), (5, 6), (4, 7)],\n",
        "      [(4, 2), (5, 3), (6, 4), (6, 5), (6, 6), (5, 7), (4, 8)],\n",
        "      [(4, 0), (5, 1), (6, 2), (6, 3), (6, 4), (5, 5), (4, 6)],\n",
        "      \n",
        "      [(5, 1), (6, 2), (7, 3), (7, 4), (7, 5), (6, 6), (5, 7)],\n",
        "      [(5, 2), (6, 3), (7, 4), (7, 5), (7, 6), (6, 7), (5, 8)],\n",
        "      [(5, 0), (6, 1), (7, 2), (7, 3), (7, 4), (6, 5), (5, 6)],\n",
        "      \n",
        "      [(6, 1), (7, 2), (8, 3), (8, 4), (8, 5), (7, 6), (6, 7)],\n",
        "      [(6, 2), (7, 3), (8, 4), (8, 5), (8, 6), (7, 7), (6, 8)],\n",
        "      [(6, 0), (7, 1), (8, 2), (8, 3), (8, 4), (7, 5), (6, 6)],\n",
        "\n",
        "      \n",
        "      # Mouth 2\n",
        "      [(4, 1), (5, 2), (5, 3), (5, 4), (5, 5), (5, 6), (4, 7)],\n",
        "      [(4, 2), (5, 3), (5, 4), (5, 5), (5, 6), (5, 7), (4, 8)],\n",
        "      [(4, 0), (5, 1), (5, 2), (5, 3), (5, 4), (5, 5), (4, 6)],\n",
        "      \n",
        "      [(5, 1), (6, 2), (6, 3), (6, 4), (6, 5), (6, 6), (5, 7)],\n",
        "      [(5, 2), (6, 3), (6, 4), (6, 5), (6, 6), (6, 7), (5, 8)],\n",
        "      [(5, 0), (6, 1), (6, 2), (6, 3), (6, 4), (6, 5), (5, 6)],\n",
        "      \n",
        "      [(6, 1), (7, 2), (7, 3), (7, 4), (7, 5), (7, 6), (6, 7)],\n",
        "      [(6, 2), (7, 3), (7, 4), (7, 5), (7, 6), (7, 7), (6, 8)],\n",
        "      [(6, 0), (7, 1), (7, 2), (7, 3), (7, 4), (7, 5), (6, 6)],\n",
        "      \n",
        "\n",
        "      # Mouth 3\n",
        "      [(5, 2), (6, 3), (6, 4), (6, 5), (5, 6)],\n",
        "      [(5, 1), (6, 2), (6, 3), (6, 4), (5, 5)],\n",
        "      [(5, 3), (6, 4), (6, 5), (6, 6), (5, 7)],\n",
        "      \n",
        "      [(6, 2), (7, 3), (7, 4), (7, 5), (6, 6)],\n",
        "      [(6, 1), (7, 2), (7, 3), (7, 4), (6, 5)],\n",
        "      [(6, 3), (7, 4), (7, 5), (7, 6), (6, 7)],\n",
        "      \n",
        "      [(7, 2), (8, 3), (8, 4), (8, 5), (7, 6)],\n",
        "      [(7, 1), (8, 2), (8, 3), (8, 4), (7, 5)],\n",
        "      [(7, 3), (8, 4), (8, 5), (8, 6), (7, 7)],\n",
        "      \n",
        "      \n",
        "      # Added extra\n",
        "      [(4, 2), (5, 3), (6, 4), (5, 5), (4, 6)],\n",
        "      [(4, 1), (5, 2), (6, 3), (5, 4), (4, 5)],\n",
        "      [(4, 3), (5, 4), (6, 5), (5, 6), (4, 7)],\n",
        "      [(5, 2), (6, 3), (7, 4), (6, 5), (5, 6)],\n",
        "      \n",
        "      [(4, 1), (5, 2), (6, 3), (6, 4), (7, 5), (6, 6), (5, 5), (6, 5), (5, 7)],\n",
        "      [(4, 1), (5, 2), (6, 2), (7, 3), (7, 4), (7, 5), (6, 6), (5, 6), (4, 7)],\n",
        "      \n",
        "      [(4, 2), (5, 2), (6, 3), (6, 4), (7, 5), (5, 6), (4, 6)],\n",
        "      [(4, 1), (5, 2), (6, 2), (7, 3), (6, 4), (6, 5), (6, 6), (5, 6)],\n",
        "      [(4, 0), (5, 1), (6, 2), (7, 3), (7, 4), (7, 5), (6, 6), (5, 7), (4, 8)],\n",
        "      \n",
        "      \n",
        "       # Slight happy face\n",
        "      [(6, 1), (6, 2), (6, 3), (6, 4), (6, 5), (5, 5)],\n",
        "      [(5, 1), (5, 2), (5, 3), (5, 4), (5, 5), (4, 5)],\n",
        "      [(6, 2), (6, 3), (6, 4), (6, 5), (6, 6), (5, 6)],\n",
        "      [(5, 2), (5, 3), (5, 4), (5, 5), (5, 6), (4, 6)],\n",
        "      \n",
        "      \n",
        "      # Neutral\n",
        "      [(5, 2), (5, 3), (5, 4), (5, 5), (5, 6)],\n",
        "      [(6, 2), (6, 3), (6, 4), (6, 5), (6, 6)]\n",
        "      \n",
        "  ]\n",
        "\n",
        "\n",
        "  sad_mouths = [\n",
        "      # Mouth 1\n",
        "      [(5, 1), (4, 2), (4, 3), (4, 4), (4, 5), (4, 6), (5, 7)],\n",
        "      [(5, 2), (4, 3), (4, 4), (4, 5), (4, 6), (4, 7), (5, 8)],\n",
        "      [(5, 0), (4, 1), (4, 2), (4, 3), (4, 4), (4, 5), (5, 6)],\n",
        "      \n",
        "      [(6, 1), (5, 2), (5, 3), (5, 4), (5, 5), (5, 6), (6, 7)],\n",
        "      [(6, 2), (5, 3), (5, 4), (5, 5), (5, 6), (5, 7), (6, 8)],\n",
        "      [(6, 0), (5, 1), (5, 2), (5, 3), (5, 4), (5, 5), (6, 6)],\n",
        "      \n",
        "      [(7, 1), (6, 2), (6, 3), (6, 4), (6, 5), (6, 6), (7, 7)],\n",
        "      [(7, 2), (6, 3), (6, 4), (6, 5), (6, 6), (6, 7), (7, 8)],\n",
        "      [(7, 0), (6, 1), (6, 2), (6, 3), (6, 4), (6, 5), (7, 6)],\n",
        "\n",
        "      \n",
        "      # Mouth 2\n",
        "      [(6, 1), (5, 2), (4, 3), (4, 4), (4, 5), (5, 6), (6, 7)],\n",
        "      [(6, 2), (5, 3), (4, 4), (4, 5), (4, 6), (5, 7), (6, 8)],\n",
        "      [(6, 0), (5, 1), (4, 2), (4, 3), (4, 4), (5, 5), (6, 6)],\n",
        "      \n",
        "      [(7, 1), (6, 2), (5, 3), (5, 4), (5, 5), (6, 6), (7, 7)],\n",
        "      [(7, 2), (6, 3), (5, 4), (5, 5), (5, 6), (6, 7), (7, 8)],\n",
        "      [(7, 0), (6, 1), (5, 2), (5, 3), (5, 4), (6, 5), (7, 6)],\n",
        "      \n",
        "      [(8, 1), (7, 2), (6, 3), (6, 4), (6, 5), (7, 6), (8, 7)],\n",
        "      [(8, 2), (7, 3), (6, 4), (6, 5), (6, 6), (7, 7), (8, 8)],\n",
        "      [(8, 0), (7, 1), (6, 2), (6, 3), (6, 4), (7, 5), (8, 6)],\n",
        "      \n",
        "      \n",
        "      # Mouth 3  \n",
        "      [(6, 2), (5, 3), (5, 4), (5, 5), (6, 6)],\n",
        "      [(6, 3), (5, 4), (5, 5), (5, 6), (6, 7)],\n",
        "      [(6, 1), (5, 2), (5, 3), (5, 4), (6, 5)],\n",
        "      \n",
        "      [(7, 2), (6, 3), (6, 4), (6, 5), (7, 6)],\n",
        "      [(7, 3), (6, 4), (6, 5), (6, 6), (7, 7)],\n",
        "      [(7, 1), (6, 2), (6, 3), (6, 4), (7, 5)],\n",
        "      \n",
        "      [(8, 2), (7, 3), (7, 4), (7, 5), (8, 6)],\n",
        "      [(8, 3), (7, 4), (7, 5), (7, 6), (8, 7)],\n",
        "      [(8, 1), (7, 2), (7, 3), (7, 4), (8, 5)],\n",
        "      \n",
        "      \n",
        "      # Added extra\n",
        "      [(7, 2), (6, 2), (5, 2), (5, 3), (5, 4), (5, 5), (5, 6), (6, 6), (7, 6)],\n",
        "      [(7, 1), (6, 1), (5, 1), (5, 2), (5, 3), (5, 4), (5, 5), (6, 5), (7, 5)],\n",
        "      [(7, 3), (6, 3), (5, 3), (5, 4), (5, 5), (5, 6), (5, 7), (6, 7), (7, 7)],\n",
        "      [(6, 2), (5, 2), (4, 2), (4, 3), (4, 4), (4, 5), (4, 6), (5, 6), (6, 6)],\n",
        "      \n",
        "      [(7, 1), (6, 1), (5, 2), (5, 3), (5, 4), (5, 5), (5, 6), (6, 6), (7, 7)],\n",
        "      [(6, 1), (5, 1), (4, 2), (4, 3), (4, 4), (4, 5), (4, 6), (5, 6), (6, 7)],\n",
        "      \n",
        "      [(5, 2), (5, 3), (6, 4), (6, 5), (7, 6)],\n",
        "      [(6, 1), (5, 2), (5, 3), (5, 4), (6, 5), (7, 6)],\n",
        "      [(7, 1), (6, 1), (6, 2), (5, 3), (5, 4), (6, 5), (6, 6), (7, 6)],\n",
        "      \n",
        "      \n",
        "      # Slight sad face\n",
        "      [(7, 1), (6, 1), (6, 2), (6, 3), (6, 4), (6, 5)],\n",
        "      [(6, 1), (5, 1), (5, 2), (5, 3), (5, 4), (5, 5)],\n",
        "      [(7, 2), (6, 2), (6, 3), (6, 4), (6, 5), (6, 6)],\n",
        "      [(6, 2), (5, 2), (5, 3), (5, 4), (5, 5), (5, 6)],\n",
        "      \n",
        "      \n",
        "      # Neutral\n",
        "      [(5, 2), (5, 3), (5, 4), (5, 5), (5, 6)],\n",
        "      [(6, 2), (6, 3), (6, 4), (6, 5), (6, 6)]\n",
        "      \n",
        "      \n",
        "  ]\n",
        "  \n",
        "  for noise in noise_variants:\n",
        "    for mouth in happy_mouths:\n",
        "      for eyes in eyes_variants:\n",
        "        #   if noise:\n",
        "        #     noise = noise_variants[randint(0, len(noise_variants - 1))]\n",
        "        #   else: \n",
        "        #     noise = []\n",
        "        face = draw_face(eyes, mouth, noise)\n",
        "        face = np.array(face)\n",
        "        face.shape = (1, 9, 9, 1)\n",
        "        x_train = np.concatenate((x_train, face), axis=0) if x_train.size else face\n",
        "        y_train = np.append(y_train, 0)\n",
        "    for mouth in sad_mouths:\n",
        "      for eyes in eyes_variants:\n",
        "        #   if noise:\n",
        "        #     noise = noise_variants[randint(0, len(noise_variants - 1))]\n",
        "        #   else: \n",
        "        #     noise = []\n",
        "        face = draw_face(eyes, mouth, noise)\n",
        "        face = np.array(face)\n",
        "        face.shape = (1, 9, 9, 1)\n",
        "        x_train = np.concatenate((x_train, face), axis=0) if x_train.size else face\n",
        "        y_train = np.append(y_train, 1)\n",
        "\n",
        "  x_train, x_test, y_train, y_test = train_test_split(x_train, y_train, random_state=0)\n",
        "\n",
        "  return (x_train, y_train), (x_test, y_test)"
      ],
      "metadata": {
        "id": "H3KkR8HU9uXT"
      },
      "execution_count": null,
      "outputs": []
    },
    {
      "cell_type": "code",
      "source": [
        "# Model / data parameters\n",
        "num_classes = 2\n",
        "input_shape = (9, 9, 1)\n",
        "\n",
        "# the data, split between train and test sets\n",
        "(x_train, y_train), (x_test, y_test) = make_data()\n",
        "\n",
        "# Scale images to the [0, 1] range\n",
        "x_train_original = x_train.astype(\"float32\")\n",
        "x_test_original = x_test.astype(\"float32\")\n",
        "print(\"x_train shape:\", x_train_original.shape)\n",
        "print(x_train_original.shape[0], \"train samples\")\n",
        "print(x_test_original.shape[0], \"test samples\")\n",
        "\n",
        "\n",
        "# convert class vectors to binary class matrices\n",
        "y_train_original = keras.utils.to_categorical(y_train, num_classes)\n",
        "y_test_original = keras.utils.to_categorical(y_test, num_classes)\n",
        "\n",
        "class_name=[\"SAD\",\"HAPPY\"]"
      ],
      "metadata": {
        "colab": {
          "base_uri": "https://localhost:8080/"
        },
        "id": "RtxJwOEA9-Li",
        "outputId": "7ef0c253-72a3-425b-964f-8efeaf4eb858"
      },
      "execution_count": null,
      "outputs": [
        {
          "output_type": "stream",
          "name": "stdout",
          "text": [
            "x_train shape: (27720, 9, 9, 1)\n",
            "27720 train samples\n",
            "9240 test samples\n"
          ]
        }
      ]
    },
    {
      "cell_type": "code",
      "source": [
        "np.save(\"smiley_X_train.npy\", x_train_original)\n",
        "np.save(\"smiley_Y_train.npy\", y_train_original)\n",
        "\n",
        "np.save(\"smiley_X_test.npy\", x_test_original)\n",
        "np.save(\"smiley_Y_test.npy\", y_test_original)"
      ],
      "metadata": {
        "id": "Q8rrxCfV-pOY"
      },
      "execution_count": null,
      "outputs": []
    },
    {
      "cell_type": "code",
      "source": [
        "x_train_original.shape, x_test_original.shape, y_train_original.shape, y_test_original.shape"
      ],
      "metadata": {
        "colab": {
          "base_uri": "https://localhost:8080/"
        },
        "id": "r5n3Ptrp-tMh",
        "outputId": "37ebdd83-b6df-4f89-b718-658c9696f0e4"
      },
      "execution_count": null,
      "outputs": [
        {
          "output_type": "execute_result",
          "data": {
            "text/plain": [
              "((27720, 9, 9, 1), (9240, 9, 9, 1), (27720, 2), (9240, 2))"
            ]
          },
          "metadata": {},
          "execution_count": 9
        }
      ]
    },
    {
      "cell_type": "code",
      "source": [
        "x_train_full = x_train_original\n",
        "x_test_full = x_test_original\n",
        "y_train_full = y_train_original[:, 0].astype(np.int)\n",
        "y_test_full = y_test_original[:, 0].astype(np.int)"
      ],
      "metadata": {
        "id": "vPPviCDk-wdn"
      },
      "execution_count": null,
      "outputs": []
    },
    {
      "cell_type": "code",
      "source": [
        "\n",
        "import warnings\n",
        "warnings.filterwarnings('ignore')\n",
        "import numpy as np\n",
        "import pandas as pd\n",
        "import csv\n",
        "import seaborn as sns\n",
        "import matplotlib as mpl\n",
        "import matplotlib.pyplot as plt\n",
        "import sklearn\n",
        "from sklearn.model_selection  import train_test_split, GridSearchCV\n",
        "from sklearn.metrics import accuracy_score, f1_score, confusion_matrix, precision_score, recall_score, ConfusionMatrixDisplay\n",
        "from sklearn.linear_model import LinearRegression, LogisticRegression"
      ],
      "metadata": {
        "id": "i_IS0N60_AWK"
      },
      "execution_count": null,
      "outputs": []
    },
    {
      "cell_type": "code",
      "source": [
        "X_train = x_train_full.reshape((27720, 81)) # (number of instances, image size e.g. 9x9=81)\n",
        "X_test = x_test_full.reshape((9240, 81))\n",
        "Y_train = y_train_full\n",
        "Y_test = y_test_full\n",
        "\n",
        "X_train.shape, Y_train.shape, X_test.shape, Y_test.shape"
      ],
      "metadata": {
        "colab": {
          "base_uri": "https://localhost:8080/"
        },
        "id": "piZXUCOT_Ehr",
        "outputId": "4d59c33b-56cc-4384-b983-4ae70eace061"
      },
      "execution_count": null,
      "outputs": [
        {
          "output_type": "execute_result",
          "data": {
            "text/plain": [
              "((27720, 81), (27720,), (9240, 81), (9240,))"
            ]
          },
          "metadata": {},
          "execution_count": 12
        }
      ]
    },
    {
      "cell_type": "code",
      "source": [
        "import warnings\n",
        "warnings.filterwarnings('ignore')\n",
        "import numpy as np\n",
        "import pandas as pd\n",
        "import csv\n",
        "import seaborn as sns\n",
        "import matplotlib as mpl\n",
        "import matplotlib.pyplot as plt\n",
        "import sklearn\n",
        "from sklearn.model_selection  import train_test_split, GridSearchCV\n",
        "from sklearn.model_selection  import train_test_split, KFold, StratifiedKFold, cross_val_score, cross_val_predict, GridSearchCV\n",
        "from sklearn.metrics import accuracy_score, f1_score, confusion_matrix, precision_score, recall_score, precision_recall_curve, roc_curve, roc_auc_score, RocCurveDisplay, ConfusionMatrixDisplay\n",
        "import tensorflow as tf\n",
        "from tensorflow import keras\n",
        "tf.config.run_functions_eagerly(True)"
      ],
      "metadata": {
        "id": "v9qGm7Ry_bF6"
      },
      "execution_count": null,
      "outputs": []
    },
    {
      "cell_type": "code",
      "source": [
        "x_train = x_train_full.reshape((27720, 9, 9)) # (number of instances, image size e.g. 9x9=81)\n",
        "x_test = x_test_full.reshape((9240, 9, 9))\n",
        "y_train = y_train_full\n",
        "y_test = y_test_full"
      ],
      "metadata": {
        "id": "wCHj_-2t_dqG"
      },
      "execution_count": null,
      "outputs": []
    },
    {
      "cell_type": "code",
      "source": [
        "plt.imshow(x_train[12000], cmap = \"binary\")\n",
        "plt.show()\n",
        "class_name[y_train_full[12000]]"
      ],
      "metadata": {
        "colab": {
          "base_uri": "https://localhost:8080/",
          "height": 284
        },
        "id": "6JiJubJx_d0Z",
        "outputId": "1b47156d-21a3-41fa-be4c-066deec7864b"
      },
      "execution_count": null,
      "outputs": [
        {
          "output_type": "display_data",
          "data": {
            "text/plain": [
              "<Figure size 432x288 with 1 Axes>"
            ],
            "image/png": "[encoded data removed]"
          },
          "metadata": {
            "needs_background": "light"
          }
        },
        {
          "output_type": "execute_result",
          "data": {
            "text/plain": [
              "'HAPPY'"
            ],
            "application/vnd.google.colaboratory.intrinsic+json": {
              "type": "string"
            }
          },
          "metadata": {},
          "execution_count": 15
        }
      ]
    },
    {
      "cell_type": "code",
      "source": [
        "model = keras.models.Sequential([\n",
        "    keras.layers.Flatten(input_shape= [9, 9]),\n",
        "    keras.layers.Dense(30, activation=\"sigmoid\"),\n",
        "    keras.layers.Dense(20, activation=\"relu\"),\n",
        "    keras.layers.Dense(2, activation=\"softmax\"),\n",
        "])"
      ],
      "metadata": {
        "id": "41IRvOCB_lgW"
      },
      "execution_count": null,
      "outputs": []
    },
    {
      "cell_type": "code",
      "source": [
        "model.summary()"
      ],
      "metadata": {
        "colab": {
          "base_uri": "https://localhost:8080/"
        },
        "id": "7yfjHolU_nTC",
        "outputId": "6840365f-0646-4c70-b4aa-42ef51a3d1a2"
      },
      "execution_count": null,
      "outputs": [
        {
          "output_type": "stream",
          "name": "stdout",
          "text": [
            "Model: \"sequential\"\n",
            "_________________________________________________________________\n",
            " Layer (type)                Output Shape              Param #   \n",
            "=================================================================\n",
            " flatten (Flatten)           (None, 81)                0         \n",
            "                                                                 \n",
            " dense (Dense)               (None, 30)                2460      \n",
            "                                                                 \n",
            " dense_1 (Dense)             (None, 20)                620       \n",
            "                                                                 \n",
            " dense_2 (Dense)             (None, 2)                 42        \n",
            "                                                                 \n",
            "=================================================================\n",
            "Total params: 3,122\n",
            "Trainable params: 3,122\n",
            "Non-trainable params: 0\n",
            "_________________________________________________________________\n"
          ]
        }
      ]
    },
    {
      "cell_type": "code",
      "source": [
        "keras.utils.plot_model(model, show_shapes=True, show_layer_activations=True)"
      ],
      "metadata": {
        "colab": {
          "base_uri": "https://localhost:8080/",
          "height": 533
        },
        "id": "dveBcxt8_snr",
        "outputId": "ef6d1dc3-d8a4-46b0-e0fb-170b569e7504"
      },
      "execution_count": null,
      "outputs": [
        {
          "output_type": "execute_result",
          "data": {
            "image/png": "[encoded data removed]",
            "text/plain": [
              "<IPython.core.display.Image object>"
            ]
          },
          "metadata": {},
          "execution_count": 18
        }
      ]
    },
    {
      "cell_type": "code",
      "source": [
        "weights, biases = model.layers[1].get_weights()"
      ],
      "metadata": {
        "id": "lHiXrB5f_x_f"
      },
      "execution_count": null,
      "outputs": []
    },
    {
      "cell_type": "code",
      "source": [
        "weights.shape, biases.shape"
      ],
      "metadata": {
        "colab": {
          "base_uri": "https://localhost:8080/"
        },
        "id": "mzXWYZ7w_2EY",
        "outputId": "1a4ae2a6-7ba7-4de2-d4d7-9755220ad58a"
      },
      "execution_count": null,
      "outputs": [
        {
          "output_type": "execute_result",
          "data": {
            "text/plain": [
              "((81, 30), (30,))"
            ]
          },
          "metadata": {},
          "execution_count": 20
        }
      ]
    },
    {
      "cell_type": "code",
      "source": [
        "model.compile(optimizer=\"SGD\",\n",
        "              loss=\"BinaryCrossentropy\",\n",
        "              metrics=[\"Accuracy\", \"Precision\", \"Recall\", \n",
        "                       \"TrueNegatives\", \"TruePositives\", \n",
        "                       \"FalseNegatives\", \"FalsePositives\", \"AUC\"])\n",
        "\n",
        "\n",
        "# Losses: \"BinaryCrossentropy\", \"Hinge\", \"SquaredHinge\", \"MeanAbsoluteError\"\n",
        "# metrics: \"BinaryAccuracy\", \"Hinge\", \"BinaryCrossentropy\", \"MeanAbsoluteError\", \"Accuracy\", \"Precision\", \n",
        "#          \"Recall\", \"TrueNegatives\", \"TruePositives\", \"FalseNegatives\", \"FalsePositives\", \"AUC\""
      ],
      "metadata": {
        "id": "ep7UURv-_53_"
      },
      "execution_count": null,
      "outputs": []
    },
    {
      "cell_type": "code",
      "source": [
        "x_valid, x_train = x_train_original[:2700], x_train_original[2700:]\n",
        "y_valid, y_train = y_train_original[:2700], y_train_original[2700:]"
      ],
      "metadata": {
        "id": "j-FAheUJ_8vw"
      },
      "execution_count": null,
      "outputs": []
    },
    {
      "cell_type": "code",
      "source": [
        "x_valid.shape, x_train.shape"
      ],
      "metadata": {
        "colab": {
          "base_uri": "https://localhost:8080/"
        },
        "id": "a3aR4wvD__zT",
        "outputId": "13b9b4d2-7974-493c-a536-26302b011b9e"
      },
      "execution_count": null,
      "outputs": [
        {
          "output_type": "execute_result",
          "data": {
            "text/plain": [
              "((2700, 9, 9, 1), (25020, 9, 9, 1))"
            ]
          },
          "metadata": {},
          "execution_count": 23
        }
      ]
    },
    {
      "cell_type": "code",
      "source": [
        "y_valid.shape, y_train.shape"
      ],
      "metadata": {
        "colab": {
          "base_uri": "https://localhost:8080/"
        },
        "id": "qX8Wau_BACX2",
        "outputId": "bb7c16f5-6833-47f8-91b8-87d62106b0cc"
      },
      "execution_count": null,
      "outputs": [
        {
          "output_type": "execute_result",
          "data": {
            "text/plain": [
              "((2700, 2), (25020, 2))"
            ]
          },
          "metadata": {},
          "execution_count": 24
        }
      ]
    },
    {
      "cell_type": "code",
      "source": [
        "\n",
        "result = model.fit(x_train, y_train, epochs=30, validation_data=(x_valid, y_valid))"
      ],
      "metadata": {
        "colab": {
          "base_uri": "https://localhost:8080/"
        },
        "id": "HuqgDaSyAF5Q",
        "outputId": "20bb7dc7-75e7-41e5-8590-d36402be28e9"
      },
      "execution_count": null,
      "outputs": [
        {
          "output_type": "stream",
          "name": "stdout",
          "text": [
            "Epoch 1/30\n",
            "782/782 [==============================] - 37s 47ms/step - loss: 0.6948 - Accuracy: 0.4990 - precision: 0.4990 - recall: 0.4990 - true_negatives: 12486.0000 - true_positives: 12486.0000 - false_negatives: 12534.0000 - false_positives: 12534.0000 - auc: 0.5012 - val_loss: 0.6923 - val_Accuracy: 0.5270 - val_precision: 0.5270 - val_recall: 0.5270 - val_true_negatives: 1423.0000 - val_true_positives: 1423.0000 - val_false_negatives: 1277.0000 - val_false_positives: 1277.0000 - val_auc: 0.5424\n",
            "Epoch 2/30\n",
            "782/782 [==============================] - 39s 50ms/step - loss: 0.6921 - Accuracy: 0.5243 - precision: 0.5243 - recall: 0.5243 - true_negatives: 13119.0000 - true_positives: 13119.0000 - false_negatives: 11901.0000 - false_positives: 11901.0000 - auc: 0.5453 - val_loss: 0.6913 - val_Accuracy: 0.5644 - val_precision: 0.5644 - val_recall: 0.5644 - val_true_negatives: 1524.0000 - val_true_positives: 1524.0000 - val_false_negatives: 1176.0000 - val_false_positives: 1176.0000 - val_auc: 0.5931\n",
            "Epoch 3/30\n",
            "782/782 [==============================] - 40s 51ms/step - loss: 0.6906 - Accuracy: 0.5668 - precision: 0.5668 - recall: 0.5668 - true_negatives: 14182.0000 - true_positives: 14182.0000 - false_negatives: 10838.0000 - false_positives: 10838.0000 - auc: 0.5946 - val_loss: 0.6890 - val_Accuracy: 0.5663 - val_precision: 0.5663 - val_recall: 0.5663 - val_true_negatives: 1529.0000 - val_true_positives: 1529.0000 - val_false_negatives: 1171.0000 - val_false_positives: 1171.0000 - val_auc: 0.6104\n",
            "Epoch 4/30\n",
            "782/782 [==============================] - 39s 50ms/step - loss: 0.6882 - Accuracy: 0.5933 - precision: 0.5933 - recall: 0.5933 - true_negatives: 14845.0000 - true_positives: 14845.0000 - false_negatives: 10175.0000 - false_positives: 10175.0000 - auc: 0.6351 - val_loss: 0.6855 - val_Accuracy: 0.6141 - val_precision: 0.6141 - val_recall: 0.6141 - val_true_negatives: 1658.0000 - val_true_positives: 1658.0000 - val_false_negatives: 1042.0000 - val_false_positives: 1042.0000 - val_auc: 0.6716\n",
            "Epoch 5/30\n",
            "782/782 [==============================] - 39s 50ms/step - loss: 0.6834 - Accuracy: 0.6293 - precision: 0.6293 - recall: 0.6293 - true_negatives: 15744.0000 - true_positives: 15744.0000 - false_negatives: 9276.0000 - false_positives: 9276.0000 - auc: 0.6828 - val_loss: 0.6782 - val_Accuracy: 0.6719 - val_precision: 0.6719 - val_recall: 0.6719 - val_true_negatives: 1814.0000 - val_true_positives: 1814.0000 - val_false_negatives: 886.0000 - val_false_positives: 886.0000 - val_auc: 0.7400\n",
            "Epoch 6/30\n",
            "782/782 [==============================] - 38s 48ms/step - loss: 0.6734 - Accuracy: 0.6708 - precision: 0.6708 - recall: 0.6708 - true_negatives: 16784.0000 - true_positives: 16784.0000 - false_negatives: 8236.0000 - false_positives: 8236.0000 - auc: 0.7358 - val_loss: 0.6650 - val_Accuracy: 0.6974 - val_precision: 0.6974 - val_recall: 0.6974 - val_true_negatives: 1883.0000 - val_true_positives: 1883.0000 - val_false_negatives: 817.0000 - val_false_positives: 817.0000 - val_auc: 0.7667\n",
            "Epoch 7/30\n",
            "782/782 [==============================] - 39s 50ms/step - loss: 0.6552 - Accuracy: 0.7104 - precision: 0.7104 - recall: 0.7104 - true_negatives: 17773.0000 - true_positives: 17773.0000 - false_negatives: 7247.0000 - false_positives: 7247.0000 - auc: 0.7825 - val_loss: 0.6389 - val_Accuracy: 0.7411 - val_precision: 0.7411 - val_recall: 0.7411 - val_true_negatives: 2001.0000 - val_true_positives: 2001.0000 - val_false_negatives: 699.0000 - val_false_positives: 699.0000 - val_auc: 0.8174\n",
            "Epoch 8/30\n",
            "782/782 [==============================] - 40s 51ms/step - loss: 0.6232 - Accuracy: 0.7351 - precision: 0.7351 - recall: 0.7351 - true_negatives: 18393.0000 - true_positives: 18393.0000 - false_negatives: 6627.0000 - false_positives: 6627.0000 - auc: 0.8084 - val_loss: 0.5965 - val_Accuracy: 0.7630 - val_precision: 0.7630 - val_recall: 0.7630 - val_true_negatives: 2060.0000 - val_true_positives: 2060.0000 - val_false_negatives: 640.0000 - val_false_positives: 640.0000 - val_auc: 0.8362\n",
            "Epoch 9/30\n",
            "782/782 [==============================] - 39s 50ms/step - loss: 0.5756 - Accuracy: 0.7524 - precision: 0.7524 - recall: 0.7524 - true_negatives: 18826.0000 - true_positives: 18826.0000 - false_negatives: 6194.0000 - false_positives: 6194.0000 - auc: 0.8288 - val_loss: 0.5419 - val_Accuracy: 0.7815 - val_precision: 0.7815 - val_recall: 0.7815 - val_true_negatives: 2110.0000 - val_true_positives: 2110.0000 - val_false_negatives: 590.0000 - val_false_positives: 590.0000 - val_auc: 0.8550\n",
            "Epoch 10/30\n",
            "782/782 [==============================] - 38s 49ms/step - loss: 0.5223 - Accuracy: 0.7807 - precision: 0.7807 - recall: 0.7807 - true_negatives: 19532.0000 - true_positives: 19532.0000 - false_negatives: 5488.0000 - false_positives: 5488.0000 - auc: 0.8552 - val_loss: 0.4881 - val_Accuracy: 0.8096 - val_precision: 0.8096 - val_recall: 0.8096 - val_true_negatives: 2186.0000 - val_true_positives: 2186.0000 - val_false_negatives: 514.0000 - val_false_positives: 514.0000 - val_auc: 0.8787\n",
            "Epoch 11/30\n",
            "782/782 [==============================] - 40s 51ms/step - loss: 0.4718 - Accuracy: 0.8074 - precision: 0.8074 - recall: 0.8074 - true_negatives: 20201.0000 - true_positives: 20201.0000 - false_negatives: 4819.0000 - false_positives: 4819.0000 - auc: 0.8807 - val_loss: 0.4419 - val_Accuracy: 0.8319 - val_precision: 0.8319 - val_recall: 0.8319 - val_true_negatives: 2246.0000 - val_true_positives: 2246.0000 - val_false_negatives: 454.0000 - val_false_positives: 454.0000 - val_auc: 0.8999\n",
            "Epoch 12/30\n",
            "782/782 [==============================] - 39s 50ms/step - loss: 0.4289 - Accuracy: 0.8259 - precision: 0.8259 - recall: 0.8259 - true_negatives: 20664.0000 - true_positives: 20664.0000 - false_negatives: 4356.0000 - false_positives: 4356.0000 - auc: 0.8993 - val_loss: 0.4027 - val_Accuracy: 0.8433 - val_precision: 0.8433 - val_recall: 0.8433 - val_true_negatives: 2277.0000 - val_true_positives: 2277.0000 - val_false_negatives: 423.0000 - val_false_positives: 423.0000 - val_auc: 0.9144\n",
            "Epoch 13/30\n",
            "782/782 [==============================] - 38s 48ms/step - loss: 0.3937 - Accuracy: 0.8398 - precision: 0.8398 - recall: 0.8398 - true_negatives: 21011.0000 - true_positives: 21011.0000 - false_negatives: 4009.0000 - false_positives: 4009.0000 - auc: 0.9135 - val_loss: 0.3739 - val_Accuracy: 0.8581 - val_precision: 0.8581 - val_recall: 0.8581 - val_true_negatives: 2317.0000 - val_true_positives: 2317.0000 - val_false_negatives: 383.0000 - val_false_positives: 383.0000 - val_auc: 0.9234\n",
            "Epoch 14/30\n",
            "782/782 [==============================] - 38s 48ms/step - loss: 0.3649 - Accuracy: 0.8473 - precision: 0.8473 - recall: 0.8473 - true_negatives: 21200.0000 - true_positives: 21200.0000 - false_negatives: 3820.0000 - false_positives: 3820.0000 - auc: 0.9245 - val_loss: 0.3464 - val_Accuracy: 0.8619 - val_precision: 0.8619 - val_recall: 0.8619 - val_true_negatives: 2327.0000 - val_true_positives: 2327.0000 - val_false_negatives: 373.0000 - val_false_positives: 373.0000 - val_auc: 0.9341\n",
            "Epoch 15/30\n",
            "782/782 [==============================] - 41s 52ms/step - loss: 0.3400 - Accuracy: 0.8555 - precision: 0.8555 - recall: 0.8555 - true_negatives: 21404.0000 - true_positives: 21404.0000 - false_negatives: 3616.0000 - false_positives: 3616.0000 - auc: 0.9346 - val_loss: 0.3231 - val_Accuracy: 0.8674 - val_precision: 0.8674 - val_recall: 0.8674 - val_true_negatives: 2342.0000 - val_true_positives: 2342.0000 - val_false_negatives: 358.0000 - val_false_positives: 358.0000 - val_auc: 0.9430\n",
            "Epoch 16/30\n",
            "782/782 [==============================] - 39s 50ms/step - loss: 0.3172 - Accuracy: 0.8619 - precision: 0.8619 - recall: 0.8619 - true_negatives: 21565.0000 - true_positives: 21565.0000 - false_negatives: 3455.0000 - false_positives: 3455.0000 - auc: 0.9437 - val_loss: 0.3020 - val_Accuracy: 0.8719 - val_precision: 0.8719 - val_recall: 0.8719 - val_true_negatives: 2354.0000 - val_true_positives: 2354.0000 - val_false_negatives: 346.0000 - val_false_positives: 346.0000 - val_auc: 0.9513\n",
            "Epoch 17/30\n",
            "782/782 [==============================] - 36s 46ms/step - loss: 0.2956 - Accuracy: 0.8717 - precision: 0.8717 - recall: 0.8717 - true_negatives: 21811.0000 - true_positives: 21811.0000 - false_negatives: 3209.0000 - false_positives: 3209.0000 - auc: 0.9522 - val_loss: 0.2822 - val_Accuracy: 0.8889 - val_precision: 0.8889 - val_recall: 0.8889 - val_true_negatives: 2400.0000 - val_true_positives: 2400.0000 - val_false_negatives: 300.0000 - val_false_positives: 300.0000 - val_auc: 0.9587\n",
            "Epoch 18/30\n",
            "782/782 [==============================] - 39s 50ms/step - loss: 0.2753 - Accuracy: 0.8823 - precision: 0.8823 - recall: 0.8823 - true_negatives: 22074.0000 - true_positives: 22074.0000 - false_negatives: 2946.0000 - false_positives: 2946.0000 - auc: 0.9595 - val_loss: 0.2617 - val_Accuracy: 0.8930 - val_precision: 0.8930 - val_recall: 0.8930 - val_true_negatives: 2411.0000 - val_true_positives: 2411.0000 - val_false_negatives: 289.0000 - val_false_positives: 289.0000 - val_auc: 0.9658\n",
            "Epoch 19/30\n",
            "782/782 [==============================] - 37s 48ms/step - loss: 0.2567 - Accuracy: 0.8948 - precision: 0.8948 - recall: 0.8948 - true_negatives: 22389.0000 - true_positives: 22389.0000 - false_negatives: 2631.0000 - false_positives: 2631.0000 - auc: 0.9658 - val_loss: 0.2467 - val_Accuracy: 0.9019 - val_precision: 0.9019 - val_recall: 0.9019 - val_true_negatives: 2435.0000 - val_true_positives: 2435.0000 - val_false_negatives: 265.0000 - val_false_positives: 265.0000 - val_auc: 0.9701\n",
            "Epoch 20/30\n",
            "782/782 [==============================] - 39s 50ms/step - loss: 0.2395 - Accuracy: 0.9079 - precision: 0.9079 - recall: 0.9079 - true_negatives: 22716.0000 - true_positives: 22716.0000 - false_negatives: 2304.0000 - false_positives: 2304.0000 - auc: 0.9711 - val_loss: 0.2273 - val_Accuracy: 0.9174 - val_precision: 0.9174 - val_recall: 0.9174 - val_true_negatives: 2477.0000 - val_true_positives: 2477.0000 - val_false_negatives: 223.0000 - val_false_positives: 223.0000 - val_auc: 0.9763\n",
            "Epoch 21/30\n",
            "782/782 [==============================] - 36s 47ms/step - loss: 0.2239 - Accuracy: 0.9197 - precision: 0.9197 - recall: 0.9197 - true_negatives: 23012.0000 - true_positives: 23012.0000 - false_negatives: 2008.0000 - false_positives: 2008.0000 - auc: 0.9753 - val_loss: 0.2127 - val_Accuracy: 0.9248 - val_precision: 0.9248 - val_recall: 0.9248 - val_true_negatives: 2497.0000 - val_true_positives: 2497.0000 - val_false_negatives: 203.0000 - val_false_positives: 203.0000 - val_auc: 0.9797\n",
            "Epoch 22/30\n",
            "782/782 [==============================] - 36s 46ms/step - loss: 0.2102 - Accuracy: 0.9257 - precision: 0.9257 - recall: 0.9257 - true_negatives: 23160.0000 - true_positives: 23160.0000 - false_negatives: 1860.0000 - false_positives: 1860.0000 - auc: 0.9790 - val_loss: 0.2003 - val_Accuracy: 0.9322 - val_precision: 0.9322 - val_recall: 0.9322 - val_true_negatives: 2517.0000 - val_true_positives: 2517.0000 - val_false_negatives: 183.0000 - val_false_positives: 183.0000 - val_auc: 0.9836\n",
            "Epoch 23/30\n",
            "782/782 [==============================] - 40s 51ms/step - loss: 0.1980 - Accuracy: 0.9297 - precision: 0.9297 - recall: 0.9297 - true_negatives: 23260.0000 - true_positives: 23260.0000 - false_negatives: 1760.0000 - false_positives: 1760.0000 - auc: 0.9818 - val_loss: 0.1875 - val_Accuracy: 0.9400 - val_precision: 0.9400 - val_recall: 0.9400 - val_true_negatives: 2538.0000 - val_true_positives: 2538.0000 - val_false_negatives: 162.0000 - val_false_positives: 162.0000 - val_auc: 0.9861\n",
            "Epoch 24/30\n",
            "782/782 [==============================] - 39s 49ms/step - loss: 0.1870 - Accuracy: 0.9336 - precision: 0.9336 - recall: 0.9336 - true_negatives: 23358.0000 - true_positives: 23358.0000 - false_negatives: 1662.0000 - false_positives: 1662.0000 - auc: 0.9842 - val_loss: 0.1765 - val_Accuracy: 0.9411 - val_precision: 0.9411 - val_recall: 0.9411 - val_true_negatives: 2541.0000 - val_true_positives: 2541.0000 - val_false_negatives: 159.0000 - val_false_positives: 159.0000 - val_auc: 0.9882\n",
            "Epoch 25/30\n",
            "782/782 [==============================] - 36s 46ms/step - loss: 0.1770 - Accuracy: 0.9357 - precision: 0.9357 - recall: 0.9357 - true_negatives: 23411.0000 - true_positives: 23411.0000 - false_negatives: 1609.0000 - false_positives: 1609.0000 - auc: 0.9862 - val_loss: 0.1679 - val_Accuracy: 0.9426 - val_precision: 0.9426 - val_recall: 0.9426 - val_true_negatives: 2545.0000 - val_true_positives: 2545.0000 - val_false_negatives: 155.0000 - val_false_positives: 155.0000 - val_auc: 0.9893\n",
            "Epoch 26/30\n",
            "782/782 [==============================] - 38s 49ms/step - loss: 0.1680 - Accuracy: 0.9392 - precision: 0.9392 - recall: 0.9392 - true_negatives: 23499.0000 - true_positives: 23499.0000 - false_negatives: 1521.0000 - false_positives: 1521.0000 - auc: 0.9879 - val_loss: 0.1595 - val_Accuracy: 0.9452 - val_precision: 0.9452 - val_recall: 0.9452 - val_true_negatives: 2552.0000 - val_true_positives: 2552.0000 - val_false_negatives: 148.0000 - val_false_positives: 148.0000 - val_auc: 0.9906\n",
            "Epoch 27/30\n",
            "782/782 [==============================] - 37s 48ms/step - loss: 0.1602 - Accuracy: 0.9414 - precision: 0.9414 - recall: 0.9414 - true_negatives: 23553.0000 - true_positives: 23553.0000 - false_negatives: 1467.0000 - false_positives: 1467.0000 - auc: 0.9890 - val_loss: 0.1534 - val_Accuracy: 0.9474 - val_precision: 0.9474 - val_recall: 0.9474 - val_true_negatives: 2558.0000 - val_true_positives: 2558.0000 - val_false_negatives: 142.0000 - val_false_positives: 142.0000 - val_auc: 0.9916\n",
            "Epoch 28/30\n",
            "782/782 [==============================] - 36s 46ms/step - loss: 0.1528 - Accuracy: 0.9445 - precision: 0.9445 - recall: 0.9445 - true_negatives: 23632.0000 - true_positives: 23632.0000 - false_negatives: 1388.0000 - false_positives: 1388.0000 - auc: 0.9903 - val_loss: 0.1473 - val_Accuracy: 0.9537 - val_precision: 0.9537 - val_recall: 0.9537 - val_true_negatives: 2575.0000 - val_true_positives: 2575.0000 - val_false_negatives: 125.0000 - val_false_positives: 125.0000 - val_auc: 0.9921\n",
            "Epoch 29/30\n",
            "782/782 [==============================] - 40s 51ms/step - loss: 0.1461 - Accuracy: 0.9472 - precision: 0.9472 - recall: 0.9472 - true_negatives: 23700.0000 - true_positives: 23700.0000 - false_negatives: 1320.0000 - false_positives: 1320.0000 - auc: 0.9912 - val_loss: 0.1382 - val_Accuracy: 0.9541 - val_precision: 0.9541 - val_recall: 0.9541 - val_true_negatives: 2576.0000 - val_true_positives: 2576.0000 - val_false_negatives: 124.0000 - val_false_positives: 124.0000 - val_auc: 0.9937\n",
            "Epoch 30/30\n",
            "782/782 [==============================] - 40s 51ms/step - loss: 0.1399 - Accuracy: 0.9497 - precision: 0.9497 - recall: 0.9497 - true_negatives: 23761.0000 - true_positives: 23761.0000 - false_negatives: 1259.0000 - false_positives: 1259.0000 - auc: 0.9920 - val_loss: 0.1333 - val_Accuracy: 0.9559 - val_precision: 0.9559 - val_recall: 0.9559 - val_true_negatives: 2581.0000 - val_true_positives: 2581.0000 - val_false_negatives: 119.0000 - val_false_positives: 119.0000 - val_auc: 0.9941\n"
          ]
        }
      ]
    },
    {
      "cell_type": "code",
      "source": [
        "\n",
        "result.history.keys()"
      ],
      "metadata": {
        "colab": {
          "base_uri": "https://localhost:8080/"
        },
        "id": "mSDeEoV8zXo_",
        "outputId": "3904d41b-84e4-4f3b-9abd-5856b5b38d6b"
      },
      "execution_count": null,
      "outputs": [
        {
          "output_type": "execute_result",
          "data": {
            "text/plain": [
              "dict_keys(['loss', 'Accuracy', 'precision', 'recall', 'true_negatives', 'true_positives', 'false_negatives', 'false_positives', 'auc', 'val_loss', 'val_Accuracy', 'val_precision', 'val_recall', 'val_true_negatives', 'val_true_positives', 'val_false_negatives', 'val_false_positives', 'val_auc'])"
            ]
          },
          "metadata": {},
          "execution_count": 26
        }
      ]
    },
    {
      "cell_type": "code",
      "source": [
        "pd.DataFrame(result.history).plot()\n",
        "plt.grid(True)\n",
        "plt.gca().set_ylim(0, 1)\n",
        "plt.legend(loc='center left', bbox_to_anchor=(1, 0.5))\n",
        "plt.show()"
      ],
      "metadata": {
        "colab": {
          "base_uri": "https://localhost:8080/",
          "height": 316
        },
        "id": "kkP40wQk5B6Q",
        "outputId": "3bb5188b-1a1c-42a0-d331-8aabdf0e16aa"
      },
      "execution_count": null,
      "outputs": [
        {
          "output_type": "display_data",
          "data": {
            "text/plain": [
              "<Figure size 432x288 with 1 Axes>"
            ],
            "image/png": "[encoded data removed]"
          },
          "metadata": {
            "needs_background": "light"
          }
        }
      ]
    },
    {
      "cell_type": "code",
      "source": [
        "import warnings\n",
        "warnings.filterwarnings('ignore')\n",
        "import numpy as np\n",
        "import pandas as pd\n",
        "import csv\n",
        "import seaborn as sns\n",
        "import matplotlib as mpl\n",
        "import matplotlib.pyplot as plt\n",
        "import sklearn\n",
        "from sklearn.model_selection  import train_test_split, KFold, StratifiedKFold, cross_val_score, cross_val_predict\n",
        "from sklearn.metrics import accuracy_score, f1_score, confusion_matrix, precision_score, recall_score, precision_recall_curve, roc_curve, roc_auc_score, RocCurveDisplay, ConfusionMatrixDisplay\n",
        "import tensorflow as tf\n",
        "from tensorflow import keras\n",
        "tf.config.run_functions_eagerly(True)"
      ],
      "metadata": {
        "id": "hmZzJ8HK5ZSr"
      },
      "execution_count": null,
      "outputs": []
    },
    {
      "cell_type": "code",
      "source": [
        "# 0 for sad & 1 for happy\n",
        "\n",
        "# Use to laod data from file\n",
        "x_train_full = np.load(\"./smiley_X_train.npy\")\n",
        "y_train_full = np.load(\"./smiley_Y_train.npy\")\n",
        "x_test_full = np.load(\"./smiley_X_test.npy\")\n",
        "y_test_full = np.load(\"./smiley_Y_test.npy\")\n",
        "\n",
        "\n",
        "y_train = y_train_full\n",
        "y_test = y_test_full.astype(np.int)\n",
        "x_test = x_test_full\n",
        "x_valid, x_train = x_train_full[:2700], x_train_full[2700:]\n",
        "y_valid, y_train = y_train_full[:2700].astype(np.int), y_train_full[2700:].astype(np.int)\n",
        "\n",
        "class_name=[\"SAD\",\"HAPPY\"]"
      ],
      "metadata": {
        "id": "hzGOHZ4X5cGw"
      },
      "execution_count": null,
      "outputs": []
    },
    {
      "cell_type": "code",
      "source": [
        "x_train_full.shape, x_valid.shape, x_train.shape, x_test.shape"
      ],
      "metadata": {
        "colab": {
          "base_uri": "https://localhost:8080/"
        },
        "id": "zTLnzCeq5e_s",
        "outputId": "385bda9d-0287-4afc-8b0c-86c32b4b3089"
      },
      "execution_count": null,
      "outputs": [
        {
          "output_type": "execute_result",
          "data": {
            "text/plain": [
              "((27720, 9, 9, 1), (2700, 9, 9, 1), (25020, 9, 9, 1), (9240, 9, 9, 1))"
            ]
          },
          "metadata": {},
          "execution_count": 30
        }
      ]
    },
    {
      "cell_type": "code",
      "source": [
        "y_train_full.shape, y_valid.shape, y_train.shape, y_test.shape"
      ],
      "metadata": {
        "colab": {
          "base_uri": "https://localhost:8080/"
        },
        "id": "NGwmZYCw5jr8",
        "outputId": "558618d0-4e40-4cc9-ff78-e0790fb3ffe4"
      },
      "execution_count": null,
      "outputs": [
        {
          "output_type": "execute_result",
          "data": {
            "text/plain": [
              "((27720, 2), (2700, 2), (25020, 2), (9240, 2))"
            ]
          },
          "metadata": {},
          "execution_count": 31
        }
      ]
    },
    {
      "cell_type": "code",
      "source": [
        "plt.imshow(x_valid[10], cmap = \"binary\")\n",
        "plt.show()\n",
        "class_name[y_valid[10, 0]]"
      ],
      "metadata": {
        "colab": {
          "base_uri": "https://localhost:8080/",
          "height": 597
        },
        "id": "keabPo585otZ",
        "outputId": "ed5f98de-06bb-411e-8c38-5c5ea54fc872"
      },
      "execution_count": null,
      "outputs": [
        {
          "output_type": "error",
          "ename": "TypeError",
          "evalue": "ignored",
          "traceback": [
            "\u001b[0;31m---------------------------------------------------------------------------\u001b[0m",
            "\u001b[0;31mTypeError\u001b[0m                                 Traceback (most recent call last)",
            "\u001b[0;32m<ipython-input-32-3bb4e44e9b9c>\u001b[0m in \u001b[0;36m<module>\u001b[0;34m\u001b[0m\n\u001b[0;32m----> 1\u001b[0;31m \u001b[0mplt\u001b[0m\u001b[0;34m.\u001b[0m\u001b[0mimshow\u001b[0m\u001b[0;34m(\u001b[0m\u001b[0mx_valid\u001b[0m\u001b[0;34m[\u001b[0m\u001b[0;36m10\u001b[0m\u001b[0;34m]\u001b[0m\u001b[0;34m,\u001b[0m \u001b[0mcmap\u001b[0m \u001b[0;34m=\u001b[0m \u001b[0;34m\"binary\"\u001b[0m\u001b[0;34m)\u001b[0m\u001b[0;34m\u001b[0m\u001b[0;34m\u001b[0m\u001b[0m\n\u001b[0m\u001b[1;32m      2\u001b[0m \u001b[0mplt\u001b[0m\u001b[0;34m.\u001b[0m\u001b[0mshow\u001b[0m\u001b[0;34m(\u001b[0m\u001b[0;34m)\u001b[0m\u001b[0;34m\u001b[0m\u001b[0;34m\u001b[0m\u001b[0m\n\u001b[1;32m      3\u001b[0m \u001b[0mclass_name\u001b[0m\u001b[0;34m[\u001b[0m\u001b[0my_valid\u001b[0m\u001b[0;34m[\u001b[0m\u001b[0;36m10\u001b[0m\u001b[0;34m,\u001b[0m \u001b[0;36m0\u001b[0m\u001b[0;34m]\u001b[0m\u001b[0;34m]\u001b[0m\u001b[0;34m\u001b[0m\u001b[0;34m\u001b[0m\u001b[0m\n",
            "\u001b[0;32m/usr/local/lib/python3.7/dist-packages/matplotlib/pyplot.py\u001b[0m in \u001b[0;36mimshow\u001b[0;34m(X, cmap, norm, aspect, interpolation, alpha, vmin, vmax, origin, extent, shape, filternorm, filterrad, imlim, resample, url, data, **kwargs)\u001b[0m\n\u001b[1;32m   2649\u001b[0m         \u001b[0mfilternorm\u001b[0m\u001b[0;34m=\u001b[0m\u001b[0mfilternorm\u001b[0m\u001b[0;34m,\u001b[0m \u001b[0mfilterrad\u001b[0m\u001b[0;34m=\u001b[0m\u001b[0mfilterrad\u001b[0m\u001b[0;34m,\u001b[0m \u001b[0mimlim\u001b[0m\u001b[0;34m=\u001b[0m\u001b[0mimlim\u001b[0m\u001b[0;34m,\u001b[0m\u001b[0;34m\u001b[0m\u001b[0;34m\u001b[0m\u001b[0m\n\u001b[1;32m   2650\u001b[0m         resample=resample, url=url, **({\"data\": data} if data is not\n\u001b[0;32m-> 2651\u001b[0;31m         None else {}), **kwargs)\n\u001b[0m\u001b[1;32m   2652\u001b[0m     \u001b[0msci\u001b[0m\u001b[0;34m(\u001b[0m\u001b[0m__ret\u001b[0m\u001b[0;34m)\u001b[0m\u001b[0;34m\u001b[0m\u001b[0;34m\u001b[0m\u001b[0m\n\u001b[1;32m   2653\u001b[0m     \u001b[0;32mreturn\u001b[0m \u001b[0m__ret\u001b[0m\u001b[0;34m\u001b[0m\u001b[0;34m\u001b[0m\u001b[0m\n",
            "\u001b[0;32m/usr/local/lib/python3.7/dist-packages/matplotlib/__init__.py\u001b[0m in \u001b[0;36minner\u001b[0;34m(ax, data, *args, **kwargs)\u001b[0m\n\u001b[1;32m   1563\u001b[0m     \u001b[0;32mdef\u001b[0m \u001b[0minner\u001b[0m\u001b[0;34m(\u001b[0m\u001b[0max\u001b[0m\u001b[0;34m,\u001b[0m \u001b[0;34m*\u001b[0m\u001b[0margs\u001b[0m\u001b[0;34m,\u001b[0m \u001b[0mdata\u001b[0m\u001b[0;34m=\u001b[0m\u001b[0;32mNone\u001b[0m\u001b[0;34m,\u001b[0m \u001b[0;34m**\u001b[0m\u001b[0mkwargs\u001b[0m\u001b[0;34m)\u001b[0m\u001b[0;34m:\u001b[0m\u001b[0;34m\u001b[0m\u001b[0;34m\u001b[0m\u001b[0m\n\u001b[1;32m   1564\u001b[0m         \u001b[0;32mif\u001b[0m \u001b[0mdata\u001b[0m \u001b[0;32mis\u001b[0m \u001b[0;32mNone\u001b[0m\u001b[0;34m:\u001b[0m\u001b[0;34m\u001b[0m\u001b[0;34m\u001b[0m\u001b[0m\n\u001b[0;32m-> 1565\u001b[0;31m             \u001b[0;32mreturn\u001b[0m \u001b[0mfunc\u001b[0m\u001b[0;34m(\u001b[0m\u001b[0max\u001b[0m\u001b[0;34m,\u001b[0m \u001b[0;34m*\u001b[0m\u001b[0mmap\u001b[0m\u001b[0;34m(\u001b[0m\u001b[0msanitize_sequence\u001b[0m\u001b[0;34m,\u001b[0m \u001b[0margs\u001b[0m\u001b[0;34m)\u001b[0m\u001b[0;34m,\u001b[0m \u001b[0;34m**\u001b[0m\u001b[0mkwargs\u001b[0m\u001b[0;34m)\u001b[0m\u001b[0;34m\u001b[0m\u001b[0;34m\u001b[0m\u001b[0m\n\u001b[0m\u001b[1;32m   1566\u001b[0m \u001b[0;34m\u001b[0m\u001b[0m\n\u001b[1;32m   1567\u001b[0m         \u001b[0mbound\u001b[0m \u001b[0;34m=\u001b[0m \u001b[0mnew_sig\u001b[0m\u001b[0;34m.\u001b[0m\u001b[0mbind\u001b[0m\u001b[0;34m(\u001b[0m\u001b[0max\u001b[0m\u001b[0;34m,\u001b[0m \u001b[0;34m*\u001b[0m\u001b[0margs\u001b[0m\u001b[0;34m,\u001b[0m \u001b[0;34m**\u001b[0m\u001b[0mkwargs\u001b[0m\u001b[0;34m)\u001b[0m\u001b[0;34m\u001b[0m\u001b[0;34m\u001b[0m\u001b[0m\n",
            "\u001b[0;32m/usr/local/lib/python3.7/dist-packages/matplotlib/cbook/deprecation.py\u001b[0m in \u001b[0;36mwrapper\u001b[0;34m(*args, **kwargs)\u001b[0m\n\u001b[1;32m    356\u001b[0m                 \u001b[0;34mf\"%(removal)s.  If any parameter follows {name!r}, they \"\u001b[0m\u001b[0;34m\u001b[0m\u001b[0;34m\u001b[0m\u001b[0m\n\u001b[1;32m    357\u001b[0m                 f\"should be pass as keyword, not positionally.\")\n\u001b[0;32m--> 358\u001b[0;31m         \u001b[0;32mreturn\u001b[0m \u001b[0mfunc\u001b[0m\u001b[0;34m(\u001b[0m\u001b[0;34m*\u001b[0m\u001b[0margs\u001b[0m\u001b[0;34m,\u001b[0m \u001b[0;34m**\u001b[0m\u001b[0mkwargs\u001b[0m\u001b[0;34m)\u001b[0m\u001b[0;34m\u001b[0m\u001b[0;34m\u001b[0m\u001b[0m\n\u001b[0m\u001b[1;32m    359\u001b[0m \u001b[0;34m\u001b[0m\u001b[0m\n\u001b[1;32m    360\u001b[0m     \u001b[0;32mreturn\u001b[0m \u001b[0mwrapper\u001b[0m\u001b[0;34m\u001b[0m\u001b[0;34m\u001b[0m\u001b[0m\n",
            "\u001b[0;32m/usr/local/lib/python3.7/dist-packages/matplotlib/cbook/deprecation.py\u001b[0m in \u001b[0;36mwrapper\u001b[0;34m(*args, **kwargs)\u001b[0m\n\u001b[1;32m    356\u001b[0m                 \u001b[0;34mf\"%(removal)s.  If any parameter follows {name!r}, they \"\u001b[0m\u001b[0;34m\u001b[0m\u001b[0;34m\u001b[0m\u001b[0m\n\u001b[1;32m    357\u001b[0m                 f\"should be pass as keyword, not positionally.\")\n\u001b[0;32m--> 358\u001b[0;31m         \u001b[0;32mreturn\u001b[0m \u001b[0mfunc\u001b[0m\u001b[0;34m(\u001b[0m\u001b[0;34m*\u001b[0m\u001b[0margs\u001b[0m\u001b[0;34m,\u001b[0m \u001b[0;34m**\u001b[0m\u001b[0mkwargs\u001b[0m\u001b[0;34m)\u001b[0m\u001b[0;34m\u001b[0m\u001b[0;34m\u001b[0m\u001b[0m\n\u001b[0m\u001b[1;32m    359\u001b[0m \u001b[0;34m\u001b[0m\u001b[0m\n\u001b[1;32m    360\u001b[0m     \u001b[0;32mreturn\u001b[0m \u001b[0mwrapper\u001b[0m\u001b[0;34m\u001b[0m\u001b[0;34m\u001b[0m\u001b[0m\n",
            "\u001b[0;32m/usr/local/lib/python3.7/dist-packages/matplotlib/axes/_axes.py\u001b[0m in \u001b[0;36mimshow\u001b[0;34m(self, X, cmap, norm, aspect, interpolation, alpha, vmin, vmax, origin, extent, shape, filternorm, filterrad, imlim, resample, url, **kwargs)\u001b[0m\n\u001b[1;32m   5624\u001b[0m                               resample=resample, **kwargs)\n\u001b[1;32m   5625\u001b[0m \u001b[0;34m\u001b[0m\u001b[0m\n\u001b[0;32m-> 5626\u001b[0;31m         \u001b[0mim\u001b[0m\u001b[0;34m.\u001b[0m\u001b[0mset_data\u001b[0m\u001b[0;34m(\u001b[0m\u001b[0mX\u001b[0m\u001b[0;34m)\u001b[0m\u001b[0;34m\u001b[0m\u001b[0;34m\u001b[0m\u001b[0m\n\u001b[0m\u001b[1;32m   5627\u001b[0m         \u001b[0mim\u001b[0m\u001b[0;34m.\u001b[0m\u001b[0mset_alpha\u001b[0m\u001b[0;34m(\u001b[0m\u001b[0malpha\u001b[0m\u001b[0;34m)\u001b[0m\u001b[0;34m\u001b[0m\u001b[0;34m\u001b[0m\u001b[0m\n\u001b[1;32m   5628\u001b[0m         \u001b[0;32mif\u001b[0m \u001b[0mim\u001b[0m\u001b[0;34m.\u001b[0m\u001b[0mget_clip_path\u001b[0m\u001b[0;34m(\u001b[0m\u001b[0;34m)\u001b[0m \u001b[0;32mis\u001b[0m \u001b[0;32mNone\u001b[0m\u001b[0;34m:\u001b[0m\u001b[0;34m\u001b[0m\u001b[0;34m\u001b[0m\u001b[0m\n",
            "\u001b[0;32m/usr/local/lib/python3.7/dist-packages/matplotlib/image.py\u001b[0m in \u001b[0;36mset_data\u001b[0;34m(self, A)\u001b[0m\n\u001b[1;32m    697\u001b[0m                 or self._A.ndim == 3 and self._A.shape[-1] in [3, 4]):\n\u001b[1;32m    698\u001b[0m             raise TypeError(\"Invalid shape {} for image data\"\n\u001b[0;32m--> 699\u001b[0;31m                             .format(self._A.shape))\n\u001b[0m\u001b[1;32m    700\u001b[0m \u001b[0;34m\u001b[0m\u001b[0m\n\u001b[1;32m    701\u001b[0m         \u001b[0;32mif\u001b[0m \u001b[0mself\u001b[0m\u001b[0;34m.\u001b[0m\u001b[0m_A\u001b[0m\u001b[0;34m.\u001b[0m\u001b[0mndim\u001b[0m \u001b[0;34m==\u001b[0m \u001b[0;36m3\u001b[0m\u001b[0;34m:\u001b[0m\u001b[0;34m\u001b[0m\u001b[0;34m\u001b[0m\u001b[0m\n",
            "\u001b[0;31mTypeError\u001b[0m: Invalid shape (9, 9, 1) for image data"
          ]
        },
        {
          "output_type": "display_data",
          "data": {
            "text/plain": [
              "<Figure size 432x288 with 1 Axes>"
            ],
            "image/png": "[encoded data removed]"
          },
          "metadata": {
            "needs_background": "light"
          }
        }
      ]
    },
    {
      "cell_type": "code",
      "source": [
        "def process_data(dataset):\n",
        "    output = []\n",
        "    for i in range(len(dataset)):\n",
        "        current = dataset[i]\n",
        "        if current[0] > current[1]:\n",
        "            output.append(1)\n",
        "        elif current[0] < current[1]:\n",
        "            output.append(0)\n",
        "        else:\n",
        "            output.append(0)\n",
        "    return output\n",
        "\n",
        "\n",
        "def get_scores(model, history, x_test, y_test):\n",
        "    y_test = y_test[:,0]\n",
        "    pred = model.predict(x_test)\n",
        "    pred = process_data(pred)\n",
        "    # model.summary()  # Include for view of model\n",
        "\n",
        "    accuracy = accuracy_score(y_test, pred)\n",
        "    f1 = f1_score(y_test, pred)\n",
        "    precision = precision_score(y_test, pred)\n",
        "    recall = recall_score(y_test, pred)\n",
        "    cm = confusion_matrix(y_test, pred)\n",
        "\n",
        "    print(\"Accuracy:\", accuracy)\n",
        "    print(\"F1 Score: \", f1)\n",
        "    print(\"Precision Score: \", precision)\n",
        "    print(\"Recall Score: \", recall)\n",
        "    cm_display = ConfusionMatrixDisplay(confusion_matrix = cm, display_labels = [False, True])\n",
        "    cm_display.plot()\n",
        "    plt.show() \n",
        "    \n",
        "    # Inlcude to view graph over training\n",
        "    # pd.DataFrame(history.history).plot()\n",
        "    # plt.grid(True)\n",
        "    # plt.gca().set_ylim(0, 1)\n",
        "    # plt.legend(loc='center left', bbox_to_anchor=(1, 0.5))\n",
        "    # plt.show()"
      ],
      "metadata": {
        "id": "dNhBzn2852ge"
      },
      "execution_count": null,
      "outputs": []
    },
    {
      "cell_type": "code",
      "source": [
        "m = keras.models.Sequential([\n",
        "    keras.layers.Flatten(input_shape= [9, 9]),\n",
        "    keras.layers.Dense(30, activation=\"relu\"),\n",
        "    keras.layers.Dense(20, activation=\"relu\"),\n",
        "    keras.layers.Dense(10, activation=\"relu\"),\n",
        "    keras.layers.Dense(2, activation=\"softmax\")\n",
        "])\n",
        "\n",
        "\n",
        "# Activations: \"relu\", \"sigmoid\", \"tanh\", \"softmax\", \"swish\"\n",
        "\n",
        "\n",
        "\n",
        "m.compile(optimizer=keras.optimizers.SGD(learning_rate=0.1),\n",
        "          loss=\"BinaryCrossentropy\",\n",
        "          metrics=[\"Accuracy\"])\n",
        "\n",
        "\n",
        "# Losses: \"BinaryCrossentropy\", \"Hinge\", \"SquaredHinge\", \"MeanAbsoluteError\"\n",
        "# metrics: \"BinaryAccuracy\", \"Hinge\", \"BinaryCrossentropy\", \"MeanAbsoluteError\", \"Accuracy\", \"Precision\", \n",
        "#          \"Recall\", \"TrueNegatives\", \"TruePositives\", \"FalseNegatives\", \"FalsePositives\", \"AUC\"\n",
        "\n",
        "# lr_schedule = keras.optimizers.schedules.ExponentialDecay(\n",
        "#     initial_learning_rate=1e-2,\n",
        "#     decay_steps=10000,\n",
        "#     decay_rate=0.9)\n",
        "\n",
        "\n",
        "\n",
        "r = m.fit(x_train, y_train, epochs=5, validation_data=(x_valid, y_valid))\n",
        "\n",
        "get_scores(m, r, x_test, y_test)\n"
      ],
      "metadata": {
        "colab": {
          "base_uri": "https://localhost:8080/",
          "height": 542
        },
        "id": "ZBJHe0ot5-Wb",
        "outputId": "780e0161-dcb2-4c0b-a82b-2180c1f04392"
      },
      "execution_count": null,
      "outputs": [
        {
          "output_type": "stream",
          "name": "stdout",
          "text": [
            "Epoch 1/5\n",
            "782/782 [==============================] - 15s 19ms/step - loss: 0.2992 - Accuracy: 0.8590 - val_loss: 0.0735 - val_Accuracy: 0.9711\n",
            "Epoch 2/5\n",
            "782/782 [==============================] - 15s 19ms/step - loss: 0.0658 - Accuracy: 0.9744 - val_loss: 0.0675 - val_Accuracy: 0.9711\n",
            "Epoch 3/5\n",
            "782/782 [==============================] - 22s 28ms/step - loss: 0.0579 - Accuracy: 0.9733 - val_loss: 0.0510 - val_Accuracy: 0.9737\n",
            "Epoch 4/5\n",
            "782/782 [==============================] - 13s 17ms/step - loss: 0.0520 - Accuracy: 0.9734 - val_loss: 0.0507 - val_Accuracy: 0.9741\n",
            "Epoch 5/5\n",
            "782/782 [==============================] - 14s 18ms/step - loss: 0.0489 - Accuracy: 0.9748 - val_loss: 0.0469 - val_Accuracy: 0.9726\n",
            "289/289 [==============================] - 1s 4ms/step\n",
            "Accuracy: 0.9729437229437229\n",
            "F1 Score:  0.9727312390924956\n",
            "Precision Score:  0.9647338814366075\n",
            "Recall Score:  0.980862296524417\n"
          ]
        },
        {
          "output_type": "display_data",
          "data": {
            "text/plain": [
              "<Figure size 432x288 with 2 Axes>"
            ],
            "image/png": "[encoded data removed]"
          },
          "metadata": {
            "needs_background": "light"
          }
        }
      ]
    },
    {
      "cell_type": "code",
      "source": [
        "m = keras.models.Sequential([\n",
        "    keras.layers.Flatten(input_shape= [9, 9]),\n",
        "    keras.layers.Dense(5, activation=\"relu\"),\n",
        "    keras.layers.Dense(2, activation=\"softmax\")\n",
        "])\n",
        "m.compile(optimizer=keras.optimizers.SGD(learning_rate=0.01),\n",
        "          loss=\"BinaryCrossentropy\",\n",
        "          metrics=[\"Accuracy\"])\n",
        "\n",
        "# Activations: \"relu\", \"sigmoid\", \"tanh\", \"softmax\", \"swish\"\n",
        "# Losses: \"BinaryCrossentropy\", \"Hinge\", \"SquaredHinge\", \"MeanAbsoluteError\"\n",
        "# metrics: \"BinaryAccuracy\", \"Hinge\", \"BinaryCrossentropy\", \"MeanAbsoluteError\", \"Accuracy\", \"Precision\",\"Recall\", \"TrueNegatives\", \"TruePositives\", \"FalseNegatives\", \"FalsePositives\", \"AUC\"\n",
        "# lr_schedule = keras.optimizers.schedules.ExponentialDecay(initial_learning_rate=1e-2, decay_steps=10000, decay_rate=0.9)\n",
        "\n",
        "r = m.fit(x_train, y_train, epochs=5, validation_data=(x_valid, y_valid))\n",
        "get_scores(m, r, x_test, y_test)"
      ],
      "metadata": {
        "colab": {
          "base_uri": "https://localhost:8080/",
          "height": 539
        },
        "id": "Q00N5mbV6XlQ",
        "outputId": "a384030c-2079-4ef6-c895-0541e09bdfb8"
      },
      "execution_count": null,
      "outputs": [
        {
          "output_type": "stream",
          "name": "stdout",
          "text": [
            "Epoch 1/5\n",
            "782/782 [==============================] - 12s 15ms/step - loss: 0.6552 - Accuracy: 0.6470 - val_loss: 0.6086 - val_Accuracy: 0.7193\n",
            "Epoch 2/5\n",
            "782/782 [==============================] - 12s 15ms/step - loss: 0.5707 - Accuracy: 0.7490 - val_loss: 0.5163 - val_Accuracy: 0.7959\n",
            "Epoch 3/5\n",
            "782/782 [==============================] - 12s 16ms/step - loss: 0.4853 - Accuracy: 0.8002 - val_loss: 0.4419 - val_Accuracy: 0.8256\n",
            "Epoch 4/5\n",
            "782/782 [==============================] - 13s 16ms/step - loss: 0.4224 - Accuracy: 0.8275 - val_loss: 0.3908 - val_Accuracy: 0.8459\n",
            "Epoch 5/5\n",
            "782/782 [==============================] - 12s 15ms/step - loss: 0.3782 - Accuracy: 0.8440 - val_loss: 0.3530 - val_Accuracy: 0.8626\n",
            "289/289 [==============================] - 1s 3ms/step\n",
            "Accuracy: 0.8560606060606061\n",
            "F1 Score:  0.8559358752166377\n",
            "Precision Score:  0.8431498079385403\n",
            "Recall Score:  0.8691157061152661\n"
          ]
        },
        {
          "output_type": "display_data",
          "data": {
            "text/plain": [
              "<Figure size 432x288 with 2 Axes>"
            ],
            "image/png": "[encoded data removed]"
          },
          "metadata": {
            "needs_background": "light"
          }
        }
      ]
    },
    {
      "cell_type": "code",
      "source": [
        "m = keras.models.Sequential([\n",
        "    keras.layers.Conv2D(10, (3,3), activation=\"relu\", input_shape=(9, 9, 1)),\n",
        "    keras.layers.MaxPooling2D(2,2),\n",
        "    keras.layers.Flatten(input_shape= [9, 9]),\n",
        "    keras.layers.Dense(5, activation=\"relu\"),\n",
        "    keras.layers.Dense(2, activation=\"softmax\")\n",
        "])\n",
        "m.compile(optimizer=keras.optimizers.SGD(learning_rate=0.01),\n",
        "          loss=\"BinaryCrossentropy\",\n",
        "          metrics=[\"Accuracy\"])\n",
        "\n",
        "# Activations: \"relu\", \"sigmoid\", \"tanh\", \"softmax\", \"swish\"\n",
        "# Losses: \"BinaryCrossentropy\", \"Hinge\", \"SquaredHinge\", \"MeanAbsoluteError\"\n",
        "# metrics: \"BinaryAccuracy\", \"Hinge\", \"BinaryCrossentropy\", \"MeanAbsoluteError\", \"Accuracy\", \"Precision\",\"Recall\", \"TrueNegatives\", \"TruePositives\", \"FalseNegatives\", \"FalsePositives\", \"AUC\"\n",
        "# lr_schedule = keras.optimizers.schedules.ExponentialDecay(initial_learning_rate=1e-2, decay_steps=10000, decay_rate=0.9)\n",
        "\n",
        "r = m.fit(x_train, y_train, epochs=5, validation_data=(x_valid, y_valid))\n",
        "get_scores(m, r, x_test, y_test)"
      ],
      "metadata": {
        "colab": {
          "base_uri": "https://localhost:8080/",
          "height": 539
        },
        "id": "hS1lul8564XU",
        "outputId": "99371ca7-4973-4669-9f59-e858cdc95af0"
      },
      "execution_count": null,
      "outputs": [
        {
          "output_type": "stream",
          "name": "stdout",
          "text": [
            "Epoch 1/5\n",
            "782/782 [==============================] - 15s 18ms/step - loss: 0.6916 - Accuracy: 0.5324 - val_loss: 0.6804 - val_Accuracy: 0.6433\n",
            "Epoch 2/5\n",
            "782/782 [==============================] - 14s 19ms/step - loss: 0.6242 - Accuracy: 0.7185 - val_loss: 0.5418 - val_Accuracy: 0.7519\n",
            "Epoch 3/5\n",
            "782/782 [==============================] - 15s 19ms/step - loss: 0.4553 - Accuracy: 0.8008 - val_loss: 0.3538 - val_Accuracy: 0.8752\n",
            "Epoch 4/5\n",
            "782/782 [==============================] - 15s 19ms/step - loss: 0.2964 - Accuracy: 0.8894 - val_loss: 0.2414 - val_Accuracy: 0.9067\n",
            "Epoch 5/5\n",
            "782/782 [==============================] - 15s 20ms/step - loss: 0.2186 - Accuracy: 0.9120 - val_loss: 0.1920 - val_Accuracy: 0.9222\n",
            "289/289 [==============================] - 1s 4ms/step\n",
            "Accuracy: 0.9244588744588744\n",
            "F1 Score:  0.9241634072142547\n",
            "Precision Score:  0.9130528123658223\n",
            "Recall Score:  0.9355477342718874\n"
          ]
        },
        {
          "output_type": "display_data",
          "data": {
            "text/plain": [
              "<Figure size 432x288 with 2 Axes>"
            ],
            "image/png": "[encoded data removed]"
          },
          "metadata": {
            "needs_background": "light"
          }
        }
      ]
    },
    {
      "cell_type": "code",
      "source": [
        "m = keras.models.Sequential([\n",
        "    keras.layers.Conv2D(10, (3,3), activation=\"relu\", input_shape=(9, 9, 1)),\n",
        "    keras.layers.MaxPooling2D(2,2),\n",
        "    keras.layers.Flatten(input_shape= [9, 9]),\n",
        "    keras.layers.Dense(5, activation=\"relu\"),\n",
        "    keras.layers.Dense(2, activation=\"softmax\")\n",
        "])\n",
        "m.compile(optimizer=keras.optimizers.SGD(learning_rate=0.01),\n",
        "          loss=\"BinaryCrossentropy\",\n",
        "          metrics=[\"Accuracy\"])\n",
        "\n",
        "# Activations: \"relu\", \"sigmoid\", \"tanh\", \"softmax\", \"swish\"\n",
        "# Losses: \"BinaryCrossentropy\", \"Hinge\", \"SquaredHinge\", \"MeanAbsoluteError\"\n",
        "# metrics: \"BinaryAccuracy\", \"Hinge\", \"BinaryCrossentropy\", \"MeanAbsoluteError\", \"Accuracy\", \"Precision\",\"Recall\", \"TrueNegatives\", \"TruePositives\", \"FalseNegatives\", \"FalsePositives\", \"AUC\"\n",
        "# lr_schedule = keras.optimizers.schedules.ExponentialDecay(initial_learning_rate=1e-2, decay_steps=10000, decay_rate=0.9)\n",
        "\n",
        "r = m.fit(x_train, y_train, epochs=5, validation_data=(x_valid, y_valid))\n",
        "get_scores(m, r, x_test, y_test)"
      ],
      "metadata": {
        "colab": {
          "base_uri": "https://localhost:8080/",
          "height": 539
        },
        "id": "ZpJEsv5l7okU",
        "outputId": "7ad35ea3-3258-4be0-821d-9eeefc9f54c5"
      },
      "execution_count": null,
      "outputs": [
        {
          "output_type": "stream",
          "name": "stdout",
          "text": [
            "Epoch 1/5\n",
            "782/782 [==============================] - 15s 19ms/step - loss: 0.6927 - Accuracy: 0.5551 - val_loss: 0.6888 - val_Accuracy: 0.6441\n",
            "Epoch 2/5\n",
            "782/782 [==============================] - 15s 19ms/step - loss: 0.6817 - Accuracy: 0.7035 - val_loss: 0.6702 - val_Accuracy: 0.7415\n",
            "Epoch 3/5\n",
            "782/782 [==============================] - 15s 19ms/step - loss: 0.6417 - Accuracy: 0.7749 - val_loss: 0.5972 - val_Accuracy: 0.8219\n",
            "Epoch 4/5\n",
            "782/782 [==============================] - 17s 22ms/step - loss: 0.5188 - Accuracy: 0.8281 - val_loss: 0.4229 - val_Accuracy: 0.8596\n",
            "Epoch 5/5\n",
            "782/782 [==============================] - 15s 19ms/step - loss: 0.3543 - Accuracy: 0.8725 - val_loss: 0.2835 - val_Accuracy: 0.9030\n",
            "289/289 [==============================] - 1s 4ms/step\n",
            "Accuracy: 0.9007575757575758\n",
            "F1 Score:  0.9008755810182683\n",
            "Precision Score:  0.885653560042508\n",
            "Recall Score:  0.9166300043994721\n"
          ]
        },
        {
          "output_type": "display_data",
          "data": {
            "text/plain": [
              "<Figure size 432x288 with 2 Axes>"
            ],
            "image/png": "[encoded data removed]"
          },
          "metadata": {
            "needs_background": "light"
          }
        }
      ]
    }
  ]
}